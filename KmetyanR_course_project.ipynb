{
  "nbformat": 4,
  "nbformat_minor": 0,
  "metadata": {
    "kernelspec": {
      "display_name": "Python 3",
      "language": "python",
      "name": "python3"
    },
    "language_info": {
      "codemirror_mode": {
        "name": "ipython",
        "version": 3
      },
      "file_extension": ".py",
      "mimetype": "text/x-python",
      "name": "python",
      "nbconvert_exporter": "python",
      "pygments_lexer": "ipython3",
      "version": "3.7.3"
    },
    "latex_envs": {
      "LaTeX_envs_menu_present": true,
      "autoclose": false,
      "autocomplete": true,
      "bibliofile": "biblio.bib",
      "cite_by": "apalike",
      "current_citInitial": 1,
      "eqLabelWithNumbers": true,
      "eqNumInitial": 1,
      "hotkeys": {
        "equation": "Ctrl-E",
        "itemize": "Ctrl-I"
      },
      "labels_anchors": false,
      "latex_user_defs": false,
      "report_style_numbering": false,
      "user_envs_cfg": false
    },
    "toc": {
      "base_numbering": 1,
      "nav_menu": {},
      "number_sections": true,
      "sideBar": true,
      "skip_h1_title": false,
      "title_cell": "Table of Contents",
      "title_sidebar": "Contents",
      "toc_cell": false,
      "toc_position": {
        "height": "calc(100% - 180px)",
        "left": "10px",
        "top": "150px",
        "width": "288px"
      },
      "toc_section_display": true,
      "toc_window_display": true
    },
    "varInspector": {
      "cols": {
        "lenName": 16,
        "lenType": 16,
        "lenVar": 40
      },
      "kernels_config": {
        "python": {
          "delete_cmd_postfix": "",
          "delete_cmd_prefix": "del ",
          "library": "var_list.py",
          "varRefreshCmd": "print(var_dic_list())"
        },
        "r": {
          "delete_cmd_postfix": ") ",
          "delete_cmd_prefix": "rm(",
          "library": "var_list.r",
          "varRefreshCmd": "cat(var_dic_list()) "
        }
      },
      "position": {
        "height": "625px",
        "left": "820px",
        "right": "20px",
        "top": "90px",
        "width": "600px"
      },
      "types_to_exclude": [
        "module",
        "function",
        "builtin_function_or_method",
        "instance",
        "_Feature"
      ],
      "window_display": false
    },
    "colab": {
      "name": "KmetyanR_course_project.ipynb",
      "provenance": []
    }
  },
  "cells": [
    {
      "cell_type": "markdown",
      "metadata": {
        "id": "_ZfUNeRDknYJ"
      },
      "source": [
        "# Курсовой проект для курса \"Python для Data Science\""
      ]
    },
    {
      "cell_type": "code",
      "metadata": {
        "id": "8EeO3xKvkqOj",
        "colab": {
          "base_uri": "https://localhost:8080/"
        },
        "outputId": "913fc6b7-6c54-4730-c1b9-bb87ca0b34a4"
      },
      "source": [
        "from google.colab import drive\n",
        "drive.mount('/content/drive/')"
      ],
      "execution_count": 282,
      "outputs": [
        {
          "output_type": "stream",
          "text": [
            "Drive already mounted at /content/drive/; to attempt to forcibly remount, call drive.mount(\"/content/drive/\", force_remount=True).\n"
          ],
          "name": "stdout"
        }
      ]
    },
    {
      "cell_type": "markdown",
      "metadata": {
        "id": "CIobOGl1knYO"
      },
      "source": [
        "## Информация"
      ]
    },
    {
      "cell_type": "markdown",
      "metadata": {
        "id": "IlSQYSiXknYO"
      },
      "source": [
        "Материалы к проекту (файлы):\n",
        "train.csv\n",
        "test.csv\n",
        "\n",
        "Задание:\n",
        "Используя данные из train.csv, построить\n",
        "модель для предсказания цен на недвижимость (квартиры).\n",
        "С помощью полученной модели предсказать\n",
        "цены для квартир из файла test.csv.\n",
        "\n",
        "Целевая переменная:\n",
        "Price\n"
      ]
    },
    {
      "cell_type": "markdown",
      "metadata": {
        "id": "DKSjruMnknYP"
      },
      "source": [
        "## Загрузка исходных данных"
      ]
    },
    {
      "cell_type": "markdown",
      "metadata": {
        "id": "zqo1SPEBknYP"
      },
      "source": [
        "\n",
        "### Подключение библиотек"
      ]
    },
    {
      "cell_type": "code",
      "metadata": {
        "id": "fpmVdZmpknYP"
      },
      "source": [
        "import pandas as pd\n",
        "import matplotlib.pyplot as plt\n",
        "import seaborn as sns\n",
        "\n",
        "from scipy.stats import norm\n",
        "from scipy import stats\n",
        "\n",
        "\n",
        "# %matplotlib inline\n",
        "# %config InlineBackend.figure_format = 'svg'"
      ],
      "execution_count": 283,
      "outputs": []
    },
    {
      "cell_type": "markdown",
      "metadata": {
        "id": "xYPErCO_knYQ"
      },
      "source": [
        "### Описание функций"
      ]
    },
    {
      "cell_type": "code",
      "metadata": {
        "id": "G0Qw_xUdknYQ"
      },
      "source": [
        "def optimizing_df(df):\n",
        "    for col in df.columns:\n",
        "        if df[col].dtypes.kind == 'i' or df[col].dtypes.kind == 'u':\n",
        "            if df[col].min() >= 0:\n",
        "                df[col] = pd.to_numeric(df[col], downcast='unsigned')\n",
        "            else:\n",
        "                df[col] = pd.to_numeric(df[col], downcast='integer')\n",
        "\n",
        "        elif df[col].dtypes.kind == 'f' or df[col].dtypes.kind == 'c':\n",
        "            df[col] = pd.to_numeric(df[col], downcast='float')\n",
        "\n",
        "        elif df[col].dtypes.kind == 'O':\n",
        "            num_unique_values = len(df[col].unique())\n",
        "            num_total_values = len(df[col])\n",
        "            if num_unique_values / num_total_values < 0.5:\n",
        "                df[col] = df[col].astype('category')\n",
        "\n",
        "    return df"
      ],
      "execution_count": 284,
      "outputs": []
    },
    {
      "cell_type": "markdown",
      "metadata": {
        "id": "yp4Gnj5fknYQ"
      },
      "source": [
        "### Загрузка данных"
      ]
    },
    {
      "cell_type": "code",
      "metadata": {
        "id": "286JpgbBknYQ",
        "colab": {
          "base_uri": "https://localhost:8080/"
        },
        "outputId": "66547167-8889-483e-d038-4f98bc2b8e2d"
      },
      "source": [
        "train = pd.read_csv('/content/drive/MyDrive/datafiles/train.csv')\n",
        "test = pd.read_csv('/content/drive/MyDrive/datafiles/test.csv')\n",
        "print(\"Data is loaded!\")"
      ],
      "execution_count": 285,
      "outputs": [
        {
          "output_type": "stream",
          "text": [
            "Data is loaded!\n"
          ],
          "name": "stdout"
        }
      ]
    },
    {
      "cell_type": "code",
      "metadata": {
        "id": "q9VoK00TknYR",
        "colab": {
          "base_uri": "https://localhost:8080/"
        },
        "outputId": "a5496850-cc68-46fa-f650-b487410787f0"
      },
      "source": [
        "print(f\"Train:\\t{train.shape[0]}\\t sales and {train.shape[1]} features\")\n",
        "print(f'Test:\\t{test.shape[0]}\\t sales and {test.shape[1]} features')"
      ],
      "execution_count": 286,
      "outputs": [
        {
          "output_type": "stream",
          "text": [
            "Train:\t10000\t sales and 20 features\n",
            "Test:\t5000\t sales and 19 features\n"
          ],
          "name": "stdout"
        }
      ]
    },
    {
      "cell_type": "code",
      "metadata": {
        "id": "RDC8VyQTknYS",
        "colab": {
          "base_uri": "https://localhost:8080/",
          "height": 224
        },
        "outputId": "08345ac4-2f79-456c-b5f5-db2ab5e2360a"
      },
      "source": [
        "train.head()"
      ],
      "execution_count": 287,
      "outputs": [
        {
          "output_type": "execute_result",
          "data": {
            "text/html": [
              "<div>\n",
              "<style scoped>\n",
              "    .dataframe tbody tr th:only-of-type {\n",
              "        vertical-align: middle;\n",
              "    }\n",
              "\n",
              "    .dataframe tbody tr th {\n",
              "        vertical-align: top;\n",
              "    }\n",
              "\n",
              "    .dataframe thead th {\n",
              "        text-align: right;\n",
              "    }\n",
              "</style>\n",
              "<table border=\"1\" class=\"dataframe\">\n",
              "  <thead>\n",
              "    <tr style=\"text-align: right;\">\n",
              "      <th></th>\n",
              "      <th>Id</th>\n",
              "      <th>DistrictId</th>\n",
              "      <th>Rooms</th>\n",
              "      <th>Square</th>\n",
              "      <th>LifeSquare</th>\n",
              "      <th>KitchenSquare</th>\n",
              "      <th>Floor</th>\n",
              "      <th>HouseFloor</th>\n",
              "      <th>HouseYear</th>\n",
              "      <th>Ecology_1</th>\n",
              "      <th>Ecology_2</th>\n",
              "      <th>Ecology_3</th>\n",
              "      <th>Social_1</th>\n",
              "      <th>Social_2</th>\n",
              "      <th>Social_3</th>\n",
              "      <th>Healthcare_1</th>\n",
              "      <th>Helthcare_2</th>\n",
              "      <th>Shops_1</th>\n",
              "      <th>Shops_2</th>\n",
              "      <th>Price</th>\n",
              "    </tr>\n",
              "  </thead>\n",
              "  <tbody>\n",
              "    <tr>\n",
              "      <th>0</th>\n",
              "      <td>11809</td>\n",
              "      <td>27</td>\n",
              "      <td>3.0</td>\n",
              "      <td>115.027311</td>\n",
              "      <td>NaN</td>\n",
              "      <td>10.0</td>\n",
              "      <td>4</td>\n",
              "      <td>10.0</td>\n",
              "      <td>2014</td>\n",
              "      <td>0.075424</td>\n",
              "      <td>B</td>\n",
              "      <td>B</td>\n",
              "      <td>11</td>\n",
              "      <td>3097</td>\n",
              "      <td>0</td>\n",
              "      <td>NaN</td>\n",
              "      <td>0</td>\n",
              "      <td>0</td>\n",
              "      <td>B</td>\n",
              "      <td>305018.871089</td>\n",
              "    </tr>\n",
              "    <tr>\n",
              "      <th>1</th>\n",
              "      <td>3013</td>\n",
              "      <td>22</td>\n",
              "      <td>1.0</td>\n",
              "      <td>39.832524</td>\n",
              "      <td>23.169223</td>\n",
              "      <td>8.0</td>\n",
              "      <td>7</td>\n",
              "      <td>8.0</td>\n",
              "      <td>1966</td>\n",
              "      <td>0.118537</td>\n",
              "      <td>B</td>\n",
              "      <td>B</td>\n",
              "      <td>30</td>\n",
              "      <td>6207</td>\n",
              "      <td>1</td>\n",
              "      <td>1183.0</td>\n",
              "      <td>1</td>\n",
              "      <td>0</td>\n",
              "      <td>B</td>\n",
              "      <td>177734.553407</td>\n",
              "    </tr>\n",
              "    <tr>\n",
              "      <th>2</th>\n",
              "      <td>8215</td>\n",
              "      <td>1</td>\n",
              "      <td>3.0</td>\n",
              "      <td>78.342215</td>\n",
              "      <td>47.671972</td>\n",
              "      <td>10.0</td>\n",
              "      <td>2</td>\n",
              "      <td>17.0</td>\n",
              "      <td>1988</td>\n",
              "      <td>0.025609</td>\n",
              "      <td>B</td>\n",
              "      <td>B</td>\n",
              "      <td>33</td>\n",
              "      <td>5261</td>\n",
              "      <td>0</td>\n",
              "      <td>240.0</td>\n",
              "      <td>3</td>\n",
              "      <td>1</td>\n",
              "      <td>B</td>\n",
              "      <td>282078.720850</td>\n",
              "    </tr>\n",
              "    <tr>\n",
              "      <th>3</th>\n",
              "      <td>2352</td>\n",
              "      <td>1</td>\n",
              "      <td>1.0</td>\n",
              "      <td>40.409907</td>\n",
              "      <td>NaN</td>\n",
              "      <td>1.0</td>\n",
              "      <td>10</td>\n",
              "      <td>22.0</td>\n",
              "      <td>1977</td>\n",
              "      <td>0.007122</td>\n",
              "      <td>B</td>\n",
              "      <td>B</td>\n",
              "      <td>1</td>\n",
              "      <td>264</td>\n",
              "      <td>0</td>\n",
              "      <td>NaN</td>\n",
              "      <td>0</td>\n",
              "      <td>1</td>\n",
              "      <td>B</td>\n",
              "      <td>168106.007630</td>\n",
              "    </tr>\n",
              "    <tr>\n",
              "      <th>4</th>\n",
              "      <td>13866</td>\n",
              "      <td>94</td>\n",
              "      <td>2.0</td>\n",
              "      <td>64.285067</td>\n",
              "      <td>38.562517</td>\n",
              "      <td>9.0</td>\n",
              "      <td>16</td>\n",
              "      <td>16.0</td>\n",
              "      <td>1972</td>\n",
              "      <td>0.282798</td>\n",
              "      <td>B</td>\n",
              "      <td>B</td>\n",
              "      <td>33</td>\n",
              "      <td>8667</td>\n",
              "      <td>2</td>\n",
              "      <td>NaN</td>\n",
              "      <td>0</td>\n",
              "      <td>6</td>\n",
              "      <td>B</td>\n",
              "      <td>343995.102962</td>\n",
              "    </tr>\n",
              "  </tbody>\n",
              "</table>\n",
              "</div>"
            ],
            "text/plain": [
              "      Id  DistrictId  Rooms  ...  Shops_1  Shops_2          Price\n",
              "0  11809          27    3.0  ...        0        B  305018.871089\n",
              "1   3013          22    1.0  ...        0        B  177734.553407\n",
              "2   8215           1    3.0  ...        1        B  282078.720850\n",
              "3   2352           1    1.0  ...        1        B  168106.007630\n",
              "4  13866          94    2.0  ...        6        B  343995.102962\n",
              "\n",
              "[5 rows x 20 columns]"
            ]
          },
          "metadata": {
            "tags": []
          },
          "execution_count": 287
        }
      ]
    },
    {
      "cell_type": "code",
      "metadata": {
        "id": "dECu7o7mknYS",
        "colab": {
          "base_uri": "https://localhost:8080/",
          "height": 224
        },
        "outputId": "9a523ee9-63ee-4d09-ff63-8a53b1073dbd"
      },
      "source": [
        "test.head()"
      ],
      "execution_count": 288,
      "outputs": [
        {
          "output_type": "execute_result",
          "data": {
            "text/html": [
              "<div>\n",
              "<style scoped>\n",
              "    .dataframe tbody tr th:only-of-type {\n",
              "        vertical-align: middle;\n",
              "    }\n",
              "\n",
              "    .dataframe tbody tr th {\n",
              "        vertical-align: top;\n",
              "    }\n",
              "\n",
              "    .dataframe thead th {\n",
              "        text-align: right;\n",
              "    }\n",
              "</style>\n",
              "<table border=\"1\" class=\"dataframe\">\n",
              "  <thead>\n",
              "    <tr style=\"text-align: right;\">\n",
              "      <th></th>\n",
              "      <th>Id</th>\n",
              "      <th>DistrictId</th>\n",
              "      <th>Rooms</th>\n",
              "      <th>Square</th>\n",
              "      <th>LifeSquare</th>\n",
              "      <th>KitchenSquare</th>\n",
              "      <th>Floor</th>\n",
              "      <th>HouseFloor</th>\n",
              "      <th>HouseYear</th>\n",
              "      <th>Ecology_1</th>\n",
              "      <th>Ecology_2</th>\n",
              "      <th>Ecology_3</th>\n",
              "      <th>Social_1</th>\n",
              "      <th>Social_2</th>\n",
              "      <th>Social_3</th>\n",
              "      <th>Healthcare_1</th>\n",
              "      <th>Helthcare_2</th>\n",
              "      <th>Shops_1</th>\n",
              "      <th>Shops_2</th>\n",
              "    </tr>\n",
              "  </thead>\n",
              "  <tbody>\n",
              "    <tr>\n",
              "      <th>0</th>\n",
              "      <td>4567</td>\n",
              "      <td>44</td>\n",
              "      <td>1.0</td>\n",
              "      <td>36.847630</td>\n",
              "      <td>19.094182</td>\n",
              "      <td>5.0</td>\n",
              "      <td>5</td>\n",
              "      <td>9.0</td>\n",
              "      <td>1970</td>\n",
              "      <td>0.036122</td>\n",
              "      <td>B</td>\n",
              "      <td>B</td>\n",
              "      <td>24</td>\n",
              "      <td>4378</td>\n",
              "      <td>0</td>\n",
              "      <td>1036.0</td>\n",
              "      <td>1</td>\n",
              "      <td>1</td>\n",
              "      <td>B</td>\n",
              "    </tr>\n",
              "    <tr>\n",
              "      <th>1</th>\n",
              "      <td>5925</td>\n",
              "      <td>62</td>\n",
              "      <td>1.0</td>\n",
              "      <td>42.493907</td>\n",
              "      <td>42.568133</td>\n",
              "      <td>10.0</td>\n",
              "      <td>7</td>\n",
              "      <td>17.0</td>\n",
              "      <td>2017</td>\n",
              "      <td>0.072158</td>\n",
              "      <td>B</td>\n",
              "      <td>B</td>\n",
              "      <td>2</td>\n",
              "      <td>629</td>\n",
              "      <td>1</td>\n",
              "      <td>NaN</td>\n",
              "      <td>0</td>\n",
              "      <td>0</td>\n",
              "      <td>A</td>\n",
              "    </tr>\n",
              "    <tr>\n",
              "      <th>2</th>\n",
              "      <td>960</td>\n",
              "      <td>27</td>\n",
              "      <td>2.0</td>\n",
              "      <td>59.463678</td>\n",
              "      <td>NaN</td>\n",
              "      <td>9.0</td>\n",
              "      <td>19</td>\n",
              "      <td>19.0</td>\n",
              "      <td>1977</td>\n",
              "      <td>0.211401</td>\n",
              "      <td>B</td>\n",
              "      <td>B</td>\n",
              "      <td>9</td>\n",
              "      <td>1892</td>\n",
              "      <td>0</td>\n",
              "      <td>NaN</td>\n",
              "      <td>0</td>\n",
              "      <td>1</td>\n",
              "      <td>B</td>\n",
              "    </tr>\n",
              "    <tr>\n",
              "      <th>3</th>\n",
              "      <td>3848</td>\n",
              "      <td>23</td>\n",
              "      <td>3.0</td>\n",
              "      <td>49.646030</td>\n",
              "      <td>33.893825</td>\n",
              "      <td>6.0</td>\n",
              "      <td>2</td>\n",
              "      <td>2.0</td>\n",
              "      <td>1965</td>\n",
              "      <td>0.014073</td>\n",
              "      <td>B</td>\n",
              "      <td>B</td>\n",
              "      <td>2</td>\n",
              "      <td>475</td>\n",
              "      <td>0</td>\n",
              "      <td>NaN</td>\n",
              "      <td>0</td>\n",
              "      <td>0</td>\n",
              "      <td>B</td>\n",
              "    </tr>\n",
              "    <tr>\n",
              "      <th>4</th>\n",
              "      <td>746</td>\n",
              "      <td>74</td>\n",
              "      <td>1.0</td>\n",
              "      <td>53.837056</td>\n",
              "      <td>NaN</td>\n",
              "      <td>1.0</td>\n",
              "      <td>8</td>\n",
              "      <td>17.0</td>\n",
              "      <td>1977</td>\n",
              "      <td>0.309479</td>\n",
              "      <td>B</td>\n",
              "      <td>B</td>\n",
              "      <td>35</td>\n",
              "      <td>7715</td>\n",
              "      <td>4</td>\n",
              "      <td>990.0</td>\n",
              "      <td>0</td>\n",
              "      <td>6</td>\n",
              "      <td>B</td>\n",
              "    </tr>\n",
              "  </tbody>\n",
              "</table>\n",
              "</div>"
            ],
            "text/plain": [
              "     Id  DistrictId  Rooms  ...  Helthcare_2  Shops_1  Shops_2\n",
              "0  4567          44    1.0  ...            1        1        B\n",
              "1  5925          62    1.0  ...            0        0        A\n",
              "2   960          27    2.0  ...            0        1        B\n",
              "3  3848          23    3.0  ...            0        0        B\n",
              "4   746          74    1.0  ...            0        6        B\n",
              "\n",
              "[5 rows x 19 columns]"
            ]
          },
          "metadata": {
            "tags": []
          },
          "execution_count": 288
        }
      ]
    },
    {
      "cell_type": "code",
      "metadata": {
        "id": "583bYYaVknYS",
        "colab": {
          "base_uri": "https://localhost:8080/"
        },
        "outputId": "01bf3df2-1574-41f3-e66f-158760f9f377"
      },
      "source": [
        "train.info(memory_usage='deep')"
      ],
      "execution_count": 289,
      "outputs": [
        {
          "output_type": "stream",
          "text": [
            "<class 'pandas.core.frame.DataFrame'>\n",
            "RangeIndex: 10000 entries, 0 to 9999\n",
            "Data columns (total 20 columns):\n",
            " #   Column         Non-Null Count  Dtype  \n",
            "---  ------         --------------  -----  \n",
            " 0   Id             10000 non-null  int64  \n",
            " 1   DistrictId     10000 non-null  int64  \n",
            " 2   Rooms          10000 non-null  float64\n",
            " 3   Square         10000 non-null  float64\n",
            " 4   LifeSquare     7887 non-null   float64\n",
            " 5   KitchenSquare  10000 non-null  float64\n",
            " 6   Floor          10000 non-null  int64  \n",
            " 7   HouseFloor     10000 non-null  float64\n",
            " 8   HouseYear      10000 non-null  int64  \n",
            " 9   Ecology_1      10000 non-null  float64\n",
            " 10  Ecology_2      10000 non-null  object \n",
            " 11  Ecology_3      10000 non-null  object \n",
            " 12  Social_1       10000 non-null  int64  \n",
            " 13  Social_2       10000 non-null  int64  \n",
            " 14  Social_3       10000 non-null  int64  \n",
            " 15  Healthcare_1   5202 non-null   float64\n",
            " 16  Helthcare_2    10000 non-null  int64  \n",
            " 17  Shops_1        10000 non-null  int64  \n",
            " 18  Shops_2        10000 non-null  object \n",
            " 19  Price          10000 non-null  float64\n",
            "dtypes: float64(8), int64(9), object(3)\n",
            "memory usage: 3.0 MB\n"
          ],
          "name": "stdout"
        }
      ]
    },
    {
      "cell_type": "code",
      "metadata": {
        "id": "l4SNGVRHknYS",
        "colab": {
          "base_uri": "https://localhost:8080/"
        },
        "outputId": "766cd901-ce7a-48f4-aef3-6dfe1c49d8a8"
      },
      "source": [
        "test.info(memory_usage='deep')"
      ],
      "execution_count": 290,
      "outputs": [
        {
          "output_type": "stream",
          "text": [
            "<class 'pandas.core.frame.DataFrame'>\n",
            "RangeIndex: 5000 entries, 0 to 4999\n",
            "Data columns (total 19 columns):\n",
            " #   Column         Non-Null Count  Dtype  \n",
            "---  ------         --------------  -----  \n",
            " 0   Id             5000 non-null   int64  \n",
            " 1   DistrictId     5000 non-null   int64  \n",
            " 2   Rooms          5000 non-null   float64\n",
            " 3   Square         5000 non-null   float64\n",
            " 4   LifeSquare     3959 non-null   float64\n",
            " 5   KitchenSquare  5000 non-null   float64\n",
            " 6   Floor          5000 non-null   int64  \n",
            " 7   HouseFloor     5000 non-null   float64\n",
            " 8   HouseYear      5000 non-null   int64  \n",
            " 9   Ecology_1      5000 non-null   float64\n",
            " 10  Ecology_2      5000 non-null   object \n",
            " 11  Ecology_3      5000 non-null   object \n",
            " 12  Social_1       5000 non-null   int64  \n",
            " 13  Social_2       5000 non-null   int64  \n",
            " 14  Social_3       5000 non-null   int64  \n",
            " 15  Healthcare_1   2623 non-null   float64\n",
            " 16  Helthcare_2    5000 non-null   int64  \n",
            " 17  Shops_1        5000 non-null   int64  \n",
            " 18  Shops_2        5000 non-null   object \n",
            "dtypes: float64(7), int64(9), object(3)\n",
            "memory usage: 1.4 MB\n"
          ],
          "name": "stdout"
        }
      ]
    },
    {
      "cell_type": "markdown",
      "metadata": {
        "id": "aVgylAcmknYT"
      },
      "source": [
        "### Оптимизация типов данных"
      ]
    },
    {
      "cell_type": "code",
      "metadata": {
        "id": "KrNGg38-knYT"
      },
      "source": [
        "train['Rooms'] = train['Rooms'].astype('int64')\n",
        "test['Rooms'] = test['Rooms'].astype('int64')"
      ],
      "execution_count": 291,
      "outputs": []
    },
    {
      "cell_type": "code",
      "metadata": {
        "id": "hsE0IeL8knYT"
      },
      "source": [
        "train['HouseFloor'] = train['HouseFloor'].astype('int64')\n",
        "test['HouseFloor'] = test['HouseFloor'].astype('int64')"
      ],
      "execution_count": 292,
      "outputs": []
    },
    {
      "cell_type": "code",
      "metadata": {
        "id": "4A2cdi2wknYT"
      },
      "source": [
        "train = optimizing_df(train)\n",
        "test = optimizing_df(test)"
      ],
      "execution_count": 293,
      "outputs": []
    },
    {
      "cell_type": "code",
      "metadata": {
        "id": "wSjS2yJWknYT",
        "colab": {
          "base_uri": "https://localhost:8080/"
        },
        "outputId": "3df74bbb-2081-4411-8658-b84ebd9c0107"
      },
      "source": [
        "train.info(memory_usage='deep')"
      ],
      "execution_count": 294,
      "outputs": [
        {
          "output_type": "stream",
          "text": [
            "<class 'pandas.core.frame.DataFrame'>\n",
            "RangeIndex: 10000 entries, 0 to 9999\n",
            "Data columns (total 20 columns):\n",
            " #   Column         Non-Null Count  Dtype   \n",
            "---  ------         --------------  -----   \n",
            " 0   Id             10000 non-null  uint16  \n",
            " 1   DistrictId     10000 non-null  uint8   \n",
            " 2   Rooms          10000 non-null  uint8   \n",
            " 3   Square         10000 non-null  float32 \n",
            " 4   LifeSquare     7887 non-null   float32 \n",
            " 5   KitchenSquare  10000 non-null  float32 \n",
            " 6   Floor          10000 non-null  uint8   \n",
            " 7   HouseFloor     10000 non-null  uint8   \n",
            " 8   HouseYear      10000 non-null  uint32  \n",
            " 9   Ecology_1      10000 non-null  float32 \n",
            " 10  Ecology_2      10000 non-null  category\n",
            " 11  Ecology_3      10000 non-null  category\n",
            " 12  Social_1       10000 non-null  uint8   \n",
            " 13  Social_2       10000 non-null  uint16  \n",
            " 14  Social_3       10000 non-null  uint8   \n",
            " 15  Healthcare_1   5202 non-null   float32 \n",
            " 16  Helthcare_2    10000 non-null  uint8   \n",
            " 17  Shops_1        10000 non-null  uint8   \n",
            " 18  Shops_2        10000 non-null  category\n",
            " 19  Price          10000 non-null  float32 \n",
            "dtypes: category(3), float32(6), uint16(2), uint32(1), uint8(8)\n",
            "memory usage: 420.6 KB\n"
          ],
          "name": "stdout"
        }
      ]
    },
    {
      "cell_type": "code",
      "metadata": {
        "id": "AFI_NYOHknYU",
        "colab": {
          "base_uri": "https://localhost:8080/"
        },
        "outputId": "69319b32-bedd-4525-c0f3-f7b3eb6c1168"
      },
      "source": [
        "test.info(memory_usage='deep')"
      ],
      "execution_count": 295,
      "outputs": [
        {
          "output_type": "stream",
          "text": [
            "<class 'pandas.core.frame.DataFrame'>\n",
            "RangeIndex: 5000 entries, 0 to 4999\n",
            "Data columns (total 19 columns):\n",
            " #   Column         Non-Null Count  Dtype   \n",
            "---  ------         --------------  -----   \n",
            " 0   Id             5000 non-null   uint16  \n",
            " 1   DistrictId     5000 non-null   uint8   \n",
            " 2   Rooms          5000 non-null   uint8   \n",
            " 3   Square         5000 non-null   float32 \n",
            " 4   LifeSquare     3959 non-null   float32 \n",
            " 5   KitchenSquare  5000 non-null   float32 \n",
            " 6   Floor          5000 non-null   uint8   \n",
            " 7   HouseFloor     5000 non-null   uint8   \n",
            " 8   HouseYear      5000 non-null   uint16  \n",
            " 9   Ecology_1      5000 non-null   float32 \n",
            " 10  Ecology_2      5000 non-null   category\n",
            " 11  Ecology_3      5000 non-null   category\n",
            " 12  Social_1       5000 non-null   uint8   \n",
            " 13  Social_2       5000 non-null   uint16  \n",
            " 14  Social_3       5000 non-null   uint8   \n",
            " 15  Healthcare_1   2623 non-null   float32 \n",
            " 16  Helthcare_2    5000 non-null   uint8   \n",
            " 17  Shops_1        5000 non-null   uint8   \n",
            " 18  Shops_2        5000 non-null   category\n",
            "dtypes: category(3), float32(5), uint16(3), uint8(8)\n",
            "memory usage: 181.4 KB\n"
          ],
          "name": "stdout"
        }
      ]
    },
    {
      "cell_type": "markdown",
      "metadata": {
        "id": "yQwHy0OAknYU"
      },
      "source": [
        "### Проверка данных"
      ]
    },
    {
      "cell_type": "code",
      "metadata": {
        "id": "RoRvzFIgknYU",
        "colab": {
          "base_uri": "https://localhost:8080/"
        },
        "outputId": "38d597d4-42ea-49ef-ea90-cb5eb515a714"
      },
      "source": [
        "all_data = pd.concat((train, test), sort=False).reset_index(drop=True)\n",
        "all_data.drop(['Price'], axis=1, inplace=True)\n",
        "print(f'all_data size is : {all_data.shape}')"
      ],
      "execution_count": 296,
      "outputs": [
        {
          "output_type": "stream",
          "text": [
            "all_data size is : (15000, 19)\n"
          ],
          "name": "stdout"
        }
      ]
    },
    {
      "cell_type": "code",
      "metadata": {
        "id": "RuoxkUX_knYU",
        "colab": {
          "base_uri": "https://localhost:8080/",
          "height": 545
        },
        "outputId": "8a9121a9-81bc-42bc-d9cd-55bc13dddd7d"
      },
      "source": [
        "all_data.describe().transpose()"
      ],
      "execution_count": 297,
      "outputs": [
        {
          "output_type": "execute_result",
          "data": {
            "text/html": [
              "<div>\n",
              "<style scoped>\n",
              "    .dataframe tbody tr th:only-of-type {\n",
              "        vertical-align: middle;\n",
              "    }\n",
              "\n",
              "    .dataframe tbody tr th {\n",
              "        vertical-align: top;\n",
              "    }\n",
              "\n",
              "    .dataframe thead th {\n",
              "        text-align: right;\n",
              "    }\n",
              "</style>\n",
              "<table border=\"1\" class=\"dataframe\">\n",
              "  <thead>\n",
              "    <tr style=\"text-align: right;\">\n",
              "      <th></th>\n",
              "      <th>count</th>\n",
              "      <th>mean</th>\n",
              "      <th>std</th>\n",
              "      <th>min</th>\n",
              "      <th>25%</th>\n",
              "      <th>50%</th>\n",
              "      <th>75%</th>\n",
              "      <th>max</th>\n",
              "    </tr>\n",
              "  </thead>\n",
              "  <tbody>\n",
              "    <tr>\n",
              "      <th>Id</th>\n",
              "      <td>15000.0</td>\n",
              "      <td>8393.136933</td>\n",
              "      <td>4850.111673</td>\n",
              "      <td>0.000000</td>\n",
              "      <td>4188.750000</td>\n",
              "      <td>8378.500000</td>\n",
              "      <td>12594.250000</td>\n",
              "      <td>1.679800e+04</td>\n",
              "    </tr>\n",
              "    <tr>\n",
              "      <th>DistrictId</th>\n",
              "      <td>15000.0</td>\n",
              "      <td>50.693600</td>\n",
              "      <td>43.786257</td>\n",
              "      <td>0.000000</td>\n",
              "      <td>20.000000</td>\n",
              "      <td>37.000000</td>\n",
              "      <td>75.000000</td>\n",
              "      <td>2.120000e+02</td>\n",
              "    </tr>\n",
              "    <tr>\n",
              "      <th>Rooms</th>\n",
              "      <td>15000.0</td>\n",
              "      <td>1.897000</td>\n",
              "      <td>0.839229</td>\n",
              "      <td>0.000000</td>\n",
              "      <td>1.000000</td>\n",
              "      <td>2.000000</td>\n",
              "      <td>2.000000</td>\n",
              "      <td>1.900000e+01</td>\n",
              "    </tr>\n",
              "    <tr>\n",
              "      <th>Square</th>\n",
              "      <td>15000.0</td>\n",
              "      <td>56.360554</td>\n",
              "      <td>20.423906</td>\n",
              "      <td>1.136859</td>\n",
              "      <td>41.814370</td>\n",
              "      <td>52.645758</td>\n",
              "      <td>66.036606</td>\n",
              "      <td>6.410652e+02</td>\n",
              "    </tr>\n",
              "    <tr>\n",
              "      <th>LifeSquare</th>\n",
              "      <td>11846.0</td>\n",
              "      <td>36.851757</td>\n",
              "      <td>71.120193</td>\n",
              "      <td>0.333490</td>\n",
              "      <td>22.896130</td>\n",
              "      <td>32.822811</td>\n",
              "      <td>45.144627</td>\n",
              "      <td>7.480592e+03</td>\n",
              "    </tr>\n",
              "    <tr>\n",
              "      <th>KitchenSquare</th>\n",
              "      <td>15000.0</td>\n",
              "      <td>6.174467</td>\n",
              "      <td>24.017342</td>\n",
              "      <td>0.000000</td>\n",
              "      <td>1.000000</td>\n",
              "      <td>6.000000</td>\n",
              "      <td>9.000000</td>\n",
              "      <td>2.014000e+03</td>\n",
              "    </tr>\n",
              "    <tr>\n",
              "      <th>Floor</th>\n",
              "      <td>15000.0</td>\n",
              "      <td>8.561800</td>\n",
              "      <td>5.323113</td>\n",
              "      <td>1.000000</td>\n",
              "      <td>4.000000</td>\n",
              "      <td>7.000000</td>\n",
              "      <td>12.000000</td>\n",
              "      <td>7.800000e+01</td>\n",
              "    </tr>\n",
              "    <tr>\n",
              "      <th>HouseFloor</th>\n",
              "      <td>15000.0</td>\n",
              "      <td>12.606600</td>\n",
              "      <td>6.780165</td>\n",
              "      <td>0.000000</td>\n",
              "      <td>9.000000</td>\n",
              "      <td>12.000000</td>\n",
              "      <td>17.000000</td>\n",
              "      <td>1.170000e+02</td>\n",
              "    </tr>\n",
              "    <tr>\n",
              "      <th>HouseYear</th>\n",
              "      <td>15000.0</td>\n",
              "      <td>3321.575067</td>\n",
              "      <td>163707.780381</td>\n",
              "      <td>1908.000000</td>\n",
              "      <td>1974.000000</td>\n",
              "      <td>1977.000000</td>\n",
              "      <td>2001.000000</td>\n",
              "      <td>2.005201e+07</td>\n",
              "    </tr>\n",
              "    <tr>\n",
              "      <th>Ecology_1</th>\n",
              "      <td>15000.0</td>\n",
              "      <td>0.119195</td>\n",
              "      <td>0.119371</td>\n",
              "      <td>0.000000</td>\n",
              "      <td>0.017647</td>\n",
              "      <td>0.075424</td>\n",
              "      <td>0.195781</td>\n",
              "      <td>5.218670e-01</td>\n",
              "    </tr>\n",
              "    <tr>\n",
              "      <th>Social_1</th>\n",
              "      <td>15000.0</td>\n",
              "      <td>24.769267</td>\n",
              "      <td>17.532278</td>\n",
              "      <td>0.000000</td>\n",
              "      <td>6.000000</td>\n",
              "      <td>25.000000</td>\n",
              "      <td>36.000000</td>\n",
              "      <td>7.400000e+01</td>\n",
              "    </tr>\n",
              "    <tr>\n",
              "      <th>Social_2</th>\n",
              "      <td>15000.0</td>\n",
              "      <td>5370.404933</td>\n",
              "      <td>4013.364403</td>\n",
              "      <td>168.000000</td>\n",
              "      <td>1564.000000</td>\n",
              "      <td>5285.000000</td>\n",
              "      <td>7287.000000</td>\n",
              "      <td>1.908300e+04</td>\n",
              "    </tr>\n",
              "    <tr>\n",
              "      <th>Social_3</th>\n",
              "      <td>15000.0</td>\n",
              "      <td>8.113667</td>\n",
              "      <td>23.841946</td>\n",
              "      <td>0.000000</td>\n",
              "      <td>0.000000</td>\n",
              "      <td>2.000000</td>\n",
              "      <td>5.000000</td>\n",
              "      <td>1.410000e+02</td>\n",
              "    </tr>\n",
              "    <tr>\n",
              "      <th>Healthcare_1</th>\n",
              "      <td>7825.0</td>\n",
              "      <td>1144.162476</td>\n",
              "      <td>1029.307251</td>\n",
              "      <td>0.000000</td>\n",
              "      <td>350.000000</td>\n",
              "      <td>900.000000</td>\n",
              "      <td>1548.000000</td>\n",
              "      <td>4.849000e+03</td>\n",
              "    </tr>\n",
              "    <tr>\n",
              "      <th>Helthcare_2</th>\n",
              "      <td>15000.0</td>\n",
              "      <td>1.319467</td>\n",
              "      <td>1.489012</td>\n",
              "      <td>0.000000</td>\n",
              "      <td>0.000000</td>\n",
              "      <td>1.000000</td>\n",
              "      <td>2.000000</td>\n",
              "      <td>6.000000e+00</td>\n",
              "    </tr>\n",
              "    <tr>\n",
              "      <th>Shops_1</th>\n",
              "      <td>15000.0</td>\n",
              "      <td>4.235133</td>\n",
              "      <td>4.796545</td>\n",
              "      <td>0.000000</td>\n",
              "      <td>1.000000</td>\n",
              "      <td>3.000000</td>\n",
              "      <td>6.000000</td>\n",
              "      <td>2.300000e+01</td>\n",
              "    </tr>\n",
              "  </tbody>\n",
              "</table>\n",
              "</div>"
            ],
            "text/plain": [
              "                 count         mean  ...           75%           max\n",
              "Id             15000.0  8393.136933  ...  12594.250000  1.679800e+04\n",
              "DistrictId     15000.0    50.693600  ...     75.000000  2.120000e+02\n",
              "Rooms          15000.0     1.897000  ...      2.000000  1.900000e+01\n",
              "Square         15000.0    56.360554  ...     66.036606  6.410652e+02\n",
              "LifeSquare     11846.0    36.851757  ...     45.144627  7.480592e+03\n",
              "KitchenSquare  15000.0     6.174467  ...      9.000000  2.014000e+03\n",
              "Floor          15000.0     8.561800  ...     12.000000  7.800000e+01\n",
              "HouseFloor     15000.0    12.606600  ...     17.000000  1.170000e+02\n",
              "HouseYear      15000.0  3321.575067  ...   2001.000000  2.005201e+07\n",
              "Ecology_1      15000.0     0.119195  ...      0.195781  5.218670e-01\n",
              "Social_1       15000.0    24.769267  ...     36.000000  7.400000e+01\n",
              "Social_2       15000.0  5370.404933  ...   7287.000000  1.908300e+04\n",
              "Social_3       15000.0     8.113667  ...      5.000000  1.410000e+02\n",
              "Healthcare_1    7825.0  1144.162476  ...   1548.000000  4.849000e+03\n",
              "Helthcare_2    15000.0     1.319467  ...      2.000000  6.000000e+00\n",
              "Shops_1        15000.0     4.235133  ...      6.000000  2.300000e+01\n",
              "\n",
              "[16 rows x 8 columns]"
            ]
          },
          "metadata": {
            "tags": []
          },
          "execution_count": 297
        }
      ]
    },
    {
      "cell_type": "markdown",
      "metadata": {
        "id": "9MA-uuVhknYV"
      },
      "source": [
        "#### Ошибки по количеству комнат"
      ]
    },
    {
      "cell_type": "code",
      "metadata": {
        "id": "Atkc5KdeknYV",
        "colab": {
          "base_uri": "https://localhost:8080/",
          "height": 193
        },
        "outputId": "3971d9c5-74bc-4a40-ce10-548f912d006e"
      },
      "source": [
        "all_data.loc[all_data['Rooms'] > 6]"
      ],
      "execution_count": 298,
      "outputs": [
        {
          "output_type": "execute_result",
          "data": {
            "text/html": [
              "<div>\n",
              "<style scoped>\n",
              "    .dataframe tbody tr th:only-of-type {\n",
              "        vertical-align: middle;\n",
              "    }\n",
              "\n",
              "    .dataframe tbody tr th {\n",
              "        vertical-align: top;\n",
              "    }\n",
              "\n",
              "    .dataframe thead th {\n",
              "        text-align: right;\n",
              "    }\n",
              "</style>\n",
              "<table border=\"1\" class=\"dataframe\">\n",
              "  <thead>\n",
              "    <tr style=\"text-align: right;\">\n",
              "      <th></th>\n",
              "      <th>Id</th>\n",
              "      <th>DistrictId</th>\n",
              "      <th>Rooms</th>\n",
              "      <th>Square</th>\n",
              "      <th>LifeSquare</th>\n",
              "      <th>KitchenSquare</th>\n",
              "      <th>Floor</th>\n",
              "      <th>HouseFloor</th>\n",
              "      <th>HouseYear</th>\n",
              "      <th>Ecology_1</th>\n",
              "      <th>Ecology_2</th>\n",
              "      <th>Ecology_3</th>\n",
              "      <th>Social_1</th>\n",
              "      <th>Social_2</th>\n",
              "      <th>Social_3</th>\n",
              "      <th>Healthcare_1</th>\n",
              "      <th>Helthcare_2</th>\n",
              "      <th>Shops_1</th>\n",
              "      <th>Shops_2</th>\n",
              "    </tr>\n",
              "  </thead>\n",
              "  <tbody>\n",
              "    <tr>\n",
              "      <th>2004</th>\n",
              "      <td>5927</td>\n",
              "      <td>57</td>\n",
              "      <td>10</td>\n",
              "      <td>59.056976</td>\n",
              "      <td>36.223072</td>\n",
              "      <td>10.0</td>\n",
              "      <td>22</td>\n",
              "      <td>22</td>\n",
              "      <td>2002</td>\n",
              "      <td>0.090799</td>\n",
              "      <td>B</td>\n",
              "      <td>B</td>\n",
              "      <td>74</td>\n",
              "      <td>19083</td>\n",
              "      <td>2</td>\n",
              "      <td>NaN</td>\n",
              "      <td>5</td>\n",
              "      <td>15</td>\n",
              "      <td>B</td>\n",
              "    </tr>\n",
              "    <tr>\n",
              "      <th>2728</th>\n",
              "      <td>14865</td>\n",
              "      <td>9</td>\n",
              "      <td>10</td>\n",
              "      <td>60.871265</td>\n",
              "      <td>38.420681</td>\n",
              "      <td>10.0</td>\n",
              "      <td>3</td>\n",
              "      <td>2</td>\n",
              "      <td>1994</td>\n",
              "      <td>0.161532</td>\n",
              "      <td>B</td>\n",
              "      <td>B</td>\n",
              "      <td>25</td>\n",
              "      <td>5648</td>\n",
              "      <td>1</td>\n",
              "      <td>30.0</td>\n",
              "      <td>2</td>\n",
              "      <td>4</td>\n",
              "      <td>B</td>\n",
              "    </tr>\n",
              "    <tr>\n",
              "      <th>6088</th>\n",
              "      <td>8491</td>\n",
              "      <td>1</td>\n",
              "      <td>19</td>\n",
              "      <td>42.006046</td>\n",
              "      <td>21.779287</td>\n",
              "      <td>7.0</td>\n",
              "      <td>17</td>\n",
              "      <td>17</td>\n",
              "      <td>2014</td>\n",
              "      <td>0.007122</td>\n",
              "      <td>B</td>\n",
              "      <td>B</td>\n",
              "      <td>1</td>\n",
              "      <td>264</td>\n",
              "      <td>0</td>\n",
              "      <td>NaN</td>\n",
              "      <td>0</td>\n",
              "      <td>1</td>\n",
              "      <td>B</td>\n",
              "    </tr>\n",
              "    <tr>\n",
              "      <th>11981</th>\n",
              "      <td>1435</td>\n",
              "      <td>111</td>\n",
              "      <td>17</td>\n",
              "      <td>52.866108</td>\n",
              "      <td>32.528343</td>\n",
              "      <td>8.0</td>\n",
              "      <td>15</td>\n",
              "      <td>17</td>\n",
              "      <td>1987</td>\n",
              "      <td>0.093443</td>\n",
              "      <td>B</td>\n",
              "      <td>B</td>\n",
              "      <td>23</td>\n",
              "      <td>4635</td>\n",
              "      <td>5</td>\n",
              "      <td>3300.0</td>\n",
              "      <td>2</td>\n",
              "      <td>4</td>\n",
              "      <td>B</td>\n",
              "    </tr>\n",
              "  </tbody>\n",
              "</table>\n",
              "</div>"
            ],
            "text/plain": [
              "          Id  DistrictId  Rooms  ...  Helthcare_2  Shops_1  Shops_2\n",
              "2004    5927          57     10  ...            5       15        B\n",
              "2728   14865           9     10  ...            2        4        B\n",
              "6088    8491           1     19  ...            0        1        B\n",
              "11981   1435         111     17  ...            2        4        B\n",
              "\n",
              "[4 rows x 19 columns]"
            ]
          },
          "metadata": {
            "tags": []
          },
          "execution_count": 298
        }
      ]
    },
    {
      "cell_type": "code",
      "metadata": {
        "id": "BdVs0JvqknYV",
        "colab": {
          "base_uri": "https://localhost:8080/",
          "height": 379
        },
        "outputId": "cec7e76b-9114-4ec0-cb70-ce753c3cc222"
      },
      "source": [
        "all_data.loc[all_data['Rooms'] == 0]"
      ],
      "execution_count": 299,
      "outputs": [
        {
          "output_type": "execute_result",
          "data": {
            "text/html": [
              "<div>\n",
              "<style scoped>\n",
              "    .dataframe tbody tr th:only-of-type {\n",
              "        vertical-align: middle;\n",
              "    }\n",
              "\n",
              "    .dataframe tbody tr th {\n",
              "        vertical-align: top;\n",
              "    }\n",
              "\n",
              "    .dataframe thead th {\n",
              "        text-align: right;\n",
              "    }\n",
              "</style>\n",
              "<table border=\"1\" class=\"dataframe\">\n",
              "  <thead>\n",
              "    <tr style=\"text-align: right;\">\n",
              "      <th></th>\n",
              "      <th>Id</th>\n",
              "      <th>DistrictId</th>\n",
              "      <th>Rooms</th>\n",
              "      <th>Square</th>\n",
              "      <th>LifeSquare</th>\n",
              "      <th>KitchenSquare</th>\n",
              "      <th>Floor</th>\n",
              "      <th>HouseFloor</th>\n",
              "      <th>HouseYear</th>\n",
              "      <th>Ecology_1</th>\n",
              "      <th>Ecology_2</th>\n",
              "      <th>Ecology_3</th>\n",
              "      <th>Social_1</th>\n",
              "      <th>Social_2</th>\n",
              "      <th>Social_3</th>\n",
              "      <th>Healthcare_1</th>\n",
              "      <th>Helthcare_2</th>\n",
              "      <th>Shops_1</th>\n",
              "      <th>Shops_2</th>\n",
              "    </tr>\n",
              "  </thead>\n",
              "  <tbody>\n",
              "    <tr>\n",
              "      <th>2194</th>\n",
              "      <td>3159</td>\n",
              "      <td>88</td>\n",
              "      <td>0</td>\n",
              "      <td>38.697117</td>\n",
              "      <td>19.345131</td>\n",
              "      <td>9.0</td>\n",
              "      <td>9</td>\n",
              "      <td>16</td>\n",
              "      <td>1982</td>\n",
              "      <td>0.127376</td>\n",
              "      <td>B</td>\n",
              "      <td>B</td>\n",
              "      <td>43</td>\n",
              "      <td>8429</td>\n",
              "      <td>3</td>\n",
              "      <td>NaN</td>\n",
              "      <td>3</td>\n",
              "      <td>9</td>\n",
              "      <td>B</td>\n",
              "    </tr>\n",
              "    <tr>\n",
              "      <th>3780</th>\n",
              "      <td>7317</td>\n",
              "      <td>27</td>\n",
              "      <td>0</td>\n",
              "      <td>41.790882</td>\n",
              "      <td>NaN</td>\n",
              "      <td>0.0</td>\n",
              "      <td>13</td>\n",
              "      <td>0</td>\n",
              "      <td>1977</td>\n",
              "      <td>0.211401</td>\n",
              "      <td>B</td>\n",
              "      <td>B</td>\n",
              "      <td>9</td>\n",
              "      <td>1892</td>\n",
              "      <td>0</td>\n",
              "      <td>NaN</td>\n",
              "      <td>0</td>\n",
              "      <td>1</td>\n",
              "      <td>B</td>\n",
              "    </tr>\n",
              "    <tr>\n",
              "      <th>5894</th>\n",
              "      <td>770</td>\n",
              "      <td>28</td>\n",
              "      <td>0</td>\n",
              "      <td>49.483501</td>\n",
              "      <td>NaN</td>\n",
              "      <td>0.0</td>\n",
              "      <td>16</td>\n",
              "      <td>0</td>\n",
              "      <td>2015</td>\n",
              "      <td>0.118537</td>\n",
              "      <td>B</td>\n",
              "      <td>B</td>\n",
              "      <td>30</td>\n",
              "      <td>6207</td>\n",
              "      <td>1</td>\n",
              "      <td>1183.0</td>\n",
              "      <td>1</td>\n",
              "      <td>0</td>\n",
              "      <td>B</td>\n",
              "    </tr>\n",
              "    <tr>\n",
              "      <th>6401</th>\n",
              "      <td>9443</td>\n",
              "      <td>27</td>\n",
              "      <td>0</td>\n",
              "      <td>87.762619</td>\n",
              "      <td>85.125473</td>\n",
              "      <td>0.0</td>\n",
              "      <td>5</td>\n",
              "      <td>15</td>\n",
              "      <td>1977</td>\n",
              "      <td>0.211401</td>\n",
              "      <td>B</td>\n",
              "      <td>B</td>\n",
              "      <td>9</td>\n",
              "      <td>1892</td>\n",
              "      <td>0</td>\n",
              "      <td>NaN</td>\n",
              "      <td>0</td>\n",
              "      <td>1</td>\n",
              "      <td>B</td>\n",
              "    </tr>\n",
              "    <tr>\n",
              "      <th>7644</th>\n",
              "      <td>7917</td>\n",
              "      <td>27</td>\n",
              "      <td>0</td>\n",
              "      <td>212.932358</td>\n",
              "      <td>211.231125</td>\n",
              "      <td>0.0</td>\n",
              "      <td>2</td>\n",
              "      <td>3</td>\n",
              "      <td>2008</td>\n",
              "      <td>0.211401</td>\n",
              "      <td>B</td>\n",
              "      <td>B</td>\n",
              "      <td>9</td>\n",
              "      <td>1892</td>\n",
              "      <td>0</td>\n",
              "      <td>NaN</td>\n",
              "      <td>0</td>\n",
              "      <td>1</td>\n",
              "      <td>B</td>\n",
              "    </tr>\n",
              "    <tr>\n",
              "      <th>7929</th>\n",
              "      <td>456</td>\n",
              "      <td>6</td>\n",
              "      <td>0</td>\n",
              "      <td>81.491447</td>\n",
              "      <td>NaN</td>\n",
              "      <td>0.0</td>\n",
              "      <td>4</td>\n",
              "      <td>0</td>\n",
              "      <td>1977</td>\n",
              "      <td>0.243205</td>\n",
              "      <td>B</td>\n",
              "      <td>B</td>\n",
              "      <td>5</td>\n",
              "      <td>1564</td>\n",
              "      <td>0</td>\n",
              "      <td>540.0</td>\n",
              "      <td>0</td>\n",
              "      <td>0</td>\n",
              "      <td>B</td>\n",
              "    </tr>\n",
              "    <tr>\n",
              "      <th>9767</th>\n",
              "      <td>12638</td>\n",
              "      <td>27</td>\n",
              "      <td>0</td>\n",
              "      <td>138.427689</td>\n",
              "      <td>136.215500</td>\n",
              "      <td>0.0</td>\n",
              "      <td>4</td>\n",
              "      <td>3</td>\n",
              "      <td>2016</td>\n",
              "      <td>0.075424</td>\n",
              "      <td>B</td>\n",
              "      <td>B</td>\n",
              "      <td>11</td>\n",
              "      <td>3097</td>\n",
              "      <td>0</td>\n",
              "      <td>NaN</td>\n",
              "      <td>0</td>\n",
              "      <td>0</td>\n",
              "      <td>B</td>\n",
              "    </tr>\n",
              "    <tr>\n",
              "      <th>9869</th>\n",
              "      <td>3224</td>\n",
              "      <td>27</td>\n",
              "      <td>0</td>\n",
              "      <td>2.377248</td>\n",
              "      <td>0.873147</td>\n",
              "      <td>0.0</td>\n",
              "      <td>1</td>\n",
              "      <td>0</td>\n",
              "      <td>1977</td>\n",
              "      <td>0.017647</td>\n",
              "      <td>B</td>\n",
              "      <td>B</td>\n",
              "      <td>2</td>\n",
              "      <td>469</td>\n",
              "      <td>0</td>\n",
              "      <td>NaN</td>\n",
              "      <td>0</td>\n",
              "      <td>0</td>\n",
              "      <td>B</td>\n",
              "    </tr>\n",
              "    <tr>\n",
              "      <th>10961</th>\n",
              "      <td>3343</td>\n",
              "      <td>58</td>\n",
              "      <td>0</td>\n",
              "      <td>116.824203</td>\n",
              "      <td>113.692421</td>\n",
              "      <td>0.0</td>\n",
              "      <td>3</td>\n",
              "      <td>3</td>\n",
              "      <td>1977</td>\n",
              "      <td>0.437885</td>\n",
              "      <td>B</td>\n",
              "      <td>B</td>\n",
              "      <td>23</td>\n",
              "      <td>5735</td>\n",
              "      <td>3</td>\n",
              "      <td>1084.0</td>\n",
              "      <td>0</td>\n",
              "      <td>5</td>\n",
              "      <td>B</td>\n",
              "    </tr>\n",
              "    <tr>\n",
              "      <th>14179</th>\n",
              "      <td>10729</td>\n",
              "      <td>27</td>\n",
              "      <td>0</td>\n",
              "      <td>76.345154</td>\n",
              "      <td>42.820797</td>\n",
              "      <td>12.0</td>\n",
              "      <td>14</td>\n",
              "      <td>0</td>\n",
              "      <td>1977</td>\n",
              "      <td>0.017647</td>\n",
              "      <td>B</td>\n",
              "      <td>B</td>\n",
              "      <td>2</td>\n",
              "      <td>469</td>\n",
              "      <td>0</td>\n",
              "      <td>NaN</td>\n",
              "      <td>0</td>\n",
              "      <td>0</td>\n",
              "      <td>B</td>\n",
              "    </tr>\n",
              "  </tbody>\n",
              "</table>\n",
              "</div>"
            ],
            "text/plain": [
              "          Id  DistrictId  Rooms  ...  Helthcare_2  Shops_1  Shops_2\n",
              "2194    3159          88      0  ...            3        9        B\n",
              "3780    7317          27      0  ...            0        1        B\n",
              "5894     770          28      0  ...            1        0        B\n",
              "6401    9443          27      0  ...            0        1        B\n",
              "7644    7917          27      0  ...            0        1        B\n",
              "7929     456           6      0  ...            0        0        B\n",
              "9767   12638          27      0  ...            0        0        B\n",
              "9869    3224          27      0  ...            0        0        B\n",
              "10961   3343          58      0  ...            0        5        B\n",
              "14179  10729          27      0  ...            0        0        B\n",
              "\n",
              "[10 rows x 19 columns]"
            ]
          },
          "metadata": {
            "tags": []
          },
          "execution_count": 299
        }
      ]
    },
    {
      "cell_type": "code",
      "metadata": {
        "id": "v_Ef2SkNknYV"
      },
      "source": [
        "def df_fix_room(df):\n",
        "    info_by_district_id = df.groupby(['DistrictId', 'HouseYear'], as_index=False).agg(\n",
        "        {'Rooms': 'sum', 'Square': 'sum'}).rename(\n",
        "        columns={'Rooms': 'sum_rooms_dr', 'Square': 'sum_square_dr'})\n",
        "\n",
        "    info_by_district_id['mean_square_per_room_in_dr'] = info_by_district_id['sum_square_dr'] \\\n",
        "        / info_by_district_id['sum_rooms_dr']\n",
        "    info_by_district_id.drop(\n",
        "        ['sum_square_dr', 'sum_rooms_dr'], axis=1, inplace=True)\n",
        "\n",
        "    df = pd.merge(df, info_by_district_id, on=[\n",
        "                  'DistrictId', 'HouseYear'], how='left')\n",
        "\n",
        "    df['mean_square_per_room_in_dr'] = df['mean_square_per_room_in_dr'].fillna(\n",
        "        df['mean_square_per_room_in_dr'].mean())\n",
        "\n",
        "    df.loc[df['Rooms'] > 6, 'Rooms'] \\\n",
        "        = (df.loc[df['Rooms'] > 6, 'Square']\n",
        "           // df.loc[df['Rooms'] > 6, 'mean_square_per_room_in_dr']).astype('int')\n",
        "\n",
        "    df.loc[df['Rooms'] == 0, 'Rooms'] \\\n",
        "        = (df.loc[df['Rooms'] == 0, 'Square']\n",
        "           // df.loc[df['Rooms'] == 0, 'mean_square_per_room_in_dr']).astype('int')\n",
        "\n",
        "    df.loc[df['Rooms'] == 0, 'Rooms'] = 1\n",
        "    return df"
      ],
      "execution_count": 300,
      "outputs": []
    },
    {
      "cell_type": "markdown",
      "metadata": {
        "id": "6qn2NqWRknYV"
      },
      "source": [
        "#### Ошибки по общей площади"
      ]
    },
    {
      "cell_type": "code",
      "metadata": {
        "id": "eleLyhUMknYW",
        "colab": {
          "base_uri": "https://localhost:8080/",
          "height": 317
        },
        "outputId": "c91d7ebd-6ab3-4f3c-8f09-9f76092f7cf2"
      },
      "source": [
        "all_data.loc[all_data['Square'] > 200].nlargest(20, 'Square')"
      ],
      "execution_count": 301,
      "outputs": [
        {
          "output_type": "execute_result",
          "data": {
            "text/html": [
              "<div>\n",
              "<style scoped>\n",
              "    .dataframe tbody tr th:only-of-type {\n",
              "        vertical-align: middle;\n",
              "    }\n",
              "\n",
              "    .dataframe tbody tr th {\n",
              "        vertical-align: top;\n",
              "    }\n",
              "\n",
              "    .dataframe thead th {\n",
              "        text-align: right;\n",
              "    }\n",
              "</style>\n",
              "<table border=\"1\" class=\"dataframe\">\n",
              "  <thead>\n",
              "    <tr style=\"text-align: right;\">\n",
              "      <th></th>\n",
              "      <th>Id</th>\n",
              "      <th>DistrictId</th>\n",
              "      <th>Rooms</th>\n",
              "      <th>Square</th>\n",
              "      <th>LifeSquare</th>\n",
              "      <th>KitchenSquare</th>\n",
              "      <th>Floor</th>\n",
              "      <th>HouseFloor</th>\n",
              "      <th>HouseYear</th>\n",
              "      <th>Ecology_1</th>\n",
              "      <th>Ecology_2</th>\n",
              "      <th>Ecology_3</th>\n",
              "      <th>Social_1</th>\n",
              "      <th>Social_2</th>\n",
              "      <th>Social_3</th>\n",
              "      <th>Healthcare_1</th>\n",
              "      <th>Helthcare_2</th>\n",
              "      <th>Shops_1</th>\n",
              "      <th>Shops_2</th>\n",
              "    </tr>\n",
              "  </thead>\n",
              "  <tbody>\n",
              "    <tr>\n",
              "      <th>9229</th>\n",
              "      <td>11602</td>\n",
              "      <td>30</td>\n",
              "      <td>2</td>\n",
              "      <td>641.065186</td>\n",
              "      <td>638.163208</td>\n",
              "      <td>10.0</td>\n",
              "      <td>20</td>\n",
              "      <td>19</td>\n",
              "      <td>2019</td>\n",
              "      <td>0.000078</td>\n",
              "      <td>B</td>\n",
              "      <td>B</td>\n",
              "      <td>22</td>\n",
              "      <td>6398</td>\n",
              "      <td>141</td>\n",
              "      <td>1046.0</td>\n",
              "      <td>3</td>\n",
              "      <td>23</td>\n",
              "      <td>B</td>\n",
              "    </tr>\n",
              "    <tr>\n",
              "      <th>726</th>\n",
              "      <td>28</td>\n",
              "      <td>9</td>\n",
              "      <td>2</td>\n",
              "      <td>604.705994</td>\n",
              "      <td>NaN</td>\n",
              "      <td>1.0</td>\n",
              "      <td>17</td>\n",
              "      <td>18</td>\n",
              "      <td>1977</td>\n",
              "      <td>0.161532</td>\n",
              "      <td>B</td>\n",
              "      <td>B</td>\n",
              "      <td>25</td>\n",
              "      <td>5648</td>\n",
              "      <td>1</td>\n",
              "      <td>30.0</td>\n",
              "      <td>2</td>\n",
              "      <td>4</td>\n",
              "      <td>B</td>\n",
              "    </tr>\n",
              "    <tr>\n",
              "      <th>7010</th>\n",
              "      <td>2307</td>\n",
              "      <td>102</td>\n",
              "      <td>1</td>\n",
              "      <td>409.425171</td>\n",
              "      <td>410.639740</td>\n",
              "      <td>10.0</td>\n",
              "      <td>4</td>\n",
              "      <td>4</td>\n",
              "      <td>2016</td>\n",
              "      <td>0.238617</td>\n",
              "      <td>B</td>\n",
              "      <td>B</td>\n",
              "      <td>26</td>\n",
              "      <td>3889</td>\n",
              "      <td>6</td>\n",
              "      <td>705.0</td>\n",
              "      <td>3</td>\n",
              "      <td>6</td>\n",
              "      <td>B</td>\n",
              "    </tr>\n",
              "    <tr>\n",
              "      <th>1906</th>\n",
              "      <td>5548</td>\n",
              "      <td>86</td>\n",
              "      <td>5</td>\n",
              "      <td>275.645294</td>\n",
              "      <td>233.949310</td>\n",
              "      <td>26.0</td>\n",
              "      <td>12</td>\n",
              "      <td>37</td>\n",
              "      <td>2011</td>\n",
              "      <td>0.161976</td>\n",
              "      <td>B</td>\n",
              "      <td>A</td>\n",
              "      <td>31</td>\n",
              "      <td>7010</td>\n",
              "      <td>5</td>\n",
              "      <td>4508.0</td>\n",
              "      <td>3</td>\n",
              "      <td>7</td>\n",
              "      <td>B</td>\n",
              "    </tr>\n",
              "    <tr>\n",
              "      <th>10956</th>\n",
              "      <td>4058</td>\n",
              "      <td>27</td>\n",
              "      <td>6</td>\n",
              "      <td>223.453690</td>\n",
              "      <td>104.113556</td>\n",
              "      <td>16.0</td>\n",
              "      <td>2</td>\n",
              "      <td>2</td>\n",
              "      <td>2017</td>\n",
              "      <td>0.041116</td>\n",
              "      <td>B</td>\n",
              "      <td>B</td>\n",
              "      <td>53</td>\n",
              "      <td>14892</td>\n",
              "      <td>4</td>\n",
              "      <td>NaN</td>\n",
              "      <td>1</td>\n",
              "      <td>4</td>\n",
              "      <td>B</td>\n",
              "    </tr>\n",
              "    <tr>\n",
              "      <th>14402</th>\n",
              "      <td>1397</td>\n",
              "      <td>76</td>\n",
              "      <td>3</td>\n",
              "      <td>221.138763</td>\n",
              "      <td>118.055344</td>\n",
              "      <td>4.0</td>\n",
              "      <td>32</td>\n",
              "      <td>48</td>\n",
              "      <td>2011</td>\n",
              "      <td>0.000000</td>\n",
              "      <td>B</td>\n",
              "      <td>B</td>\n",
              "      <td>7</td>\n",
              "      <td>1660</td>\n",
              "      <td>39</td>\n",
              "      <td>1786.0</td>\n",
              "      <td>1</td>\n",
              "      <td>5</td>\n",
              "      <td>B</td>\n",
              "    </tr>\n",
              "    <tr>\n",
              "      <th>7644</th>\n",
              "      <td>7917</td>\n",
              "      <td>27</td>\n",
              "      <td>0</td>\n",
              "      <td>212.932358</td>\n",
              "      <td>211.231125</td>\n",
              "      <td>0.0</td>\n",
              "      <td>2</td>\n",
              "      <td>3</td>\n",
              "      <td>2008</td>\n",
              "      <td>0.211401</td>\n",
              "      <td>B</td>\n",
              "      <td>B</td>\n",
              "      <td>9</td>\n",
              "      <td>1892</td>\n",
              "      <td>0</td>\n",
              "      <td>NaN</td>\n",
              "      <td>0</td>\n",
              "      <td>1</td>\n",
              "      <td>B</td>\n",
              "    </tr>\n",
              "    <tr>\n",
              "      <th>1776</th>\n",
              "      <td>16568</td>\n",
              "      <td>27</td>\n",
              "      <td>4</td>\n",
              "      <td>200.334534</td>\n",
              "      <td>201.627365</td>\n",
              "      <td>25.0</td>\n",
              "      <td>1</td>\n",
              "      <td>2</td>\n",
              "      <td>2013</td>\n",
              "      <td>0.041116</td>\n",
              "      <td>B</td>\n",
              "      <td>B</td>\n",
              "      <td>53</td>\n",
              "      <td>14892</td>\n",
              "      <td>4</td>\n",
              "      <td>NaN</td>\n",
              "      <td>1</td>\n",
              "      <td>4</td>\n",
              "      <td>B</td>\n",
              "    </tr>\n",
              "  </tbody>\n",
              "</table>\n",
              "</div>"
            ],
            "text/plain": [
              "          Id  DistrictId  Rooms  ...  Helthcare_2  Shops_1  Shops_2\n",
              "9229   11602          30      2  ...            3       23        B\n",
              "726       28           9      2  ...            2        4        B\n",
              "7010    2307         102      1  ...            3        6        B\n",
              "1906    5548          86      5  ...            3        7        B\n",
              "10956   4058          27      6  ...            1        4        B\n",
              "14402   1397          76      3  ...            1        5        B\n",
              "7644    7917          27      0  ...            0        1        B\n",
              "1776   16568          27      4  ...            1        4        B\n",
              "\n",
              "[8 rows x 19 columns]"
            ]
          },
          "metadata": {
            "tags": []
          },
          "execution_count": 301
        }
      ]
    },
    {
      "cell_type": "code",
      "metadata": {
        "id": "iuD7OBQ7knYW",
        "colab": {
          "base_uri": "https://localhost:8080/",
          "height": 644
        },
        "outputId": "be6318bb-3bae-4ea1-dd79-5a6d1cc84f9c"
      },
      "source": [
        "sns.distplot(all_data['Square'], fit=norm)\n",
        "\n",
        "mu, sigma = norm.fit(all_data['Square'])\n",
        "\n",
        "print(f'mu = {mu:.2f} and sigma = {sigma:.2f}')\n",
        "\n",
        "plt.legend(\n",
        "    [f'Normal dist. ($\\mu=$ {mu:.2f} and $\\sigma=$ {sigma:.2f} )'])\n",
        "plt.ylabel('Frequency')\n",
        "plt.title('Распределение площади')\n",
        "\n",
        "# QQ-plot\n",
        "fig = plt.figure()\n",
        "res = stats.probplot(all_data['Square'], plot=plt)\n",
        "plt.show()"
      ],
      "execution_count": 302,
      "outputs": [
        {
          "output_type": "stream",
          "text": [
            "/usr/local/lib/python3.7/dist-packages/seaborn/distributions.py:2557: FutureWarning: `distplot` is a deprecated function and will be removed in a future version. Please adapt your code to use either `displot` (a figure-level function with similar flexibility) or `histplot` (an axes-level function for histograms).\n",
            "  warnings.warn(msg, FutureWarning)\n"
          ],
          "name": "stderr"
        },
        {
          "output_type": "stream",
          "text": [
            "mu = 56.36 and sigma = 20.42\n"
          ],
          "name": "stdout"
        },
        {
          "output_type": "display_data",
          "data": {
            "image/png": "[encoded data removed]",
            "text/plain": [
              "<Figure size 432x288 with 1 Axes>"
            ]
          },
          "metadata": {
            "tags": [],
            "needs_background": "light"
          }
        },
        {
          "output_type": "display_data",
          "data": {
            "image/png": "[encoded data removed]",
            "text/plain": [
              "<Figure size 432x288 with 1 Axes>"
            ]
          },
          "metadata": {
            "tags": [],
            "needs_background": "light"
          }
        }
      ]
    },
    {
      "cell_type": "code",
      "metadata": {
        "id": "ExyTShGtknYW"
      },
      "source": [
        "def df_fix_square_manual(df):\n",
        "    df.loc[df['Square'] > 400, 'Square'] = df.loc[df['Square'] > 400, 'Square'] / 10\n",
        "    return df"
      ],
      "execution_count": 303,
      "outputs": []
    },
    {
      "cell_type": "code",
      "metadata": {
        "id": "PsFbajxXknYW"
      },
      "source": [
        "def df_fix_square(df):\n",
        "    info_by_district_id = df.groupby(['DistrictId', 'Rooms', 'HouseYear'], as_index=False).agg(\n",
        "        {'Square': 'mean'}).rename(\n",
        "        columns={'Square': 'mean_square_rooms_dr'})\n",
        "\n",
        "    df = pd.merge(df, info_by_district_id, on=[\n",
        "        'DistrictId', 'Rooms', 'HouseYear'], how='left')\n",
        "\n",
        "    df.loc[abs(df['Square'] - df['mean_square_rooms_dr']) > 2 * sigma, 'Square'] \\\n",
        "        = df.loc[abs(df['Square'] - df['mean_square_rooms_dr']) > 2 * sigma, 'Rooms'] \\\n",
        "        * df.loc[abs(df['Square'] - df['mean_square_rooms_dr']) > 2 * sigma, 'mean_square_per_room_in_dr']\n",
        "    return df"
      ],
      "execution_count": 304,
      "outputs": []
    },
    {
      "cell_type": "code",
      "metadata": {
        "id": "_4eZDLCLknYX"
      },
      "source": [
        "def prepare_lifesquare(df):\n",
        "    df.loc[df['Square'] < df['LifeSquare'],\n",
        "           'LifeSquare'] = df.loc[df['Square'] < df['LifeSquare'], 'Square']\n",
        "    return df\n",
        "\n",
        "\n",
        "def fillna_life_square(df):\n",
        "    df['LifeSquare'] = df['LifeSquare'].fillna(df['LifeSquare'].mean())\n",
        "    return df"
      ],
      "execution_count": 305,
      "outputs": []
    },
    {
      "cell_type": "markdown",
      "metadata": {
        "id": "Dj0pqJcrknYX"
      },
      "source": [
        "#### Ошибки года ввода в эксплуатацию дома"
      ]
    },
    {
      "cell_type": "code",
      "metadata": {
        "id": "uOYvuiR0knYX",
        "colab": {
          "base_uri": "https://localhost:8080/",
          "height": 131
        },
        "outputId": "25d5021c-fa3e-4c52-ec17-2887b0be8862"
      },
      "source": [
        "all_data.loc[all_data['HouseYear'] > 2020]"
      ],
      "execution_count": 306,
      "outputs": [
        {
          "output_type": "execute_result",
          "data": {
            "text/html": [
              "<div>\n",
              "<style scoped>\n",
              "    .dataframe tbody tr th:only-of-type {\n",
              "        vertical-align: middle;\n",
              "    }\n",
              "\n",
              "    .dataframe tbody tr th {\n",
              "        vertical-align: top;\n",
              "    }\n",
              "\n",
              "    .dataframe thead th {\n",
              "        text-align: right;\n",
              "    }\n",
              "</style>\n",
              "<table border=\"1\" class=\"dataframe\">\n",
              "  <thead>\n",
              "    <tr style=\"text-align: right;\">\n",
              "      <th></th>\n",
              "      <th>Id</th>\n",
              "      <th>DistrictId</th>\n",
              "      <th>Rooms</th>\n",
              "      <th>Square</th>\n",
              "      <th>LifeSquare</th>\n",
              "      <th>KitchenSquare</th>\n",
              "      <th>Floor</th>\n",
              "      <th>HouseFloor</th>\n",
              "      <th>HouseYear</th>\n",
              "      <th>Ecology_1</th>\n",
              "      <th>Ecology_2</th>\n",
              "      <th>Ecology_3</th>\n",
              "      <th>Social_1</th>\n",
              "      <th>Social_2</th>\n",
              "      <th>Social_3</th>\n",
              "      <th>Healthcare_1</th>\n",
              "      <th>Helthcare_2</th>\n",
              "      <th>Shops_1</th>\n",
              "      <th>Shops_2</th>\n",
              "    </tr>\n",
              "  </thead>\n",
              "  <tbody>\n",
              "    <tr>\n",
              "      <th>8828</th>\n",
              "      <td>11607</td>\n",
              "      <td>147</td>\n",
              "      <td>2</td>\n",
              "      <td>44.791836</td>\n",
              "      <td>28.360394</td>\n",
              "      <td>5.0</td>\n",
              "      <td>4</td>\n",
              "      <td>9</td>\n",
              "      <td>4968</td>\n",
              "      <td>0.319809</td>\n",
              "      <td>B</td>\n",
              "      <td>B</td>\n",
              "      <td>25</td>\n",
              "      <td>4756</td>\n",
              "      <td>16</td>\n",
              "      <td>2857.0</td>\n",
              "      <td>5</td>\n",
              "      <td>8</td>\n",
              "      <td>B</td>\n",
              "    </tr>\n",
              "    <tr>\n",
              "      <th>9163</th>\n",
              "      <td>10814</td>\n",
              "      <td>109</td>\n",
              "      <td>1</td>\n",
              "      <td>37.265072</td>\n",
              "      <td>20.239714</td>\n",
              "      <td>9.0</td>\n",
              "      <td>9</td>\n",
              "      <td>12</td>\n",
              "      <td>20052011</td>\n",
              "      <td>0.136330</td>\n",
              "      <td>B</td>\n",
              "      <td>B</td>\n",
              "      <td>30</td>\n",
              "      <td>6141</td>\n",
              "      <td>10</td>\n",
              "      <td>262.0</td>\n",
              "      <td>3</td>\n",
              "      <td>6</td>\n",
              "      <td>B</td>\n",
              "    </tr>\n",
              "  </tbody>\n",
              "</table>\n",
              "</div>"
            ],
            "text/plain": [
              "         Id  DistrictId  Rooms  ...  Helthcare_2  Shops_1  Shops_2\n",
              "8828  11607         147      2  ...            5        8        B\n",
              "9163  10814         109      1  ...            3        6        B\n",
              "\n",
              "[2 rows x 19 columns]"
            ]
          },
          "metadata": {
            "tags": []
          },
          "execution_count": 306
        }
      ]
    },
    {
      "cell_type": "code",
      "metadata": {
        "id": "fJIlQr_LknYX"
      },
      "source": [
        "def df_fix_house_year_manual(df):\n",
        "    df.loc[df['HouseYear'] == 20052011, 'HouseYear'] = int((2005 + 2011) / 2)\n",
        "    df.loc[df['HouseYear'] == 4968, 'HouseYear'] = 1968\n",
        "    return df"
      ],
      "execution_count": 307,
      "outputs": []
    },
    {
      "cell_type": "markdown",
      "metadata": {
        "id": "JiBwmGruknYX"
      },
      "source": [
        "## Обработка данных"
      ]
    },
    {
      "cell_type": "markdown",
      "metadata": {
        "id": "Ssl-kq-EknYY"
      },
      "source": [
        "### Загрузка библиотек"
      ]
    },
    {
      "cell_type": "code",
      "metadata": {
        "id": "MWeLjsg4knYY"
      },
      "source": [
        "import numpy as np\n",
        "\n",
        "from sklearn.preprocessing import MinMaxScaler\n",
        "from sklearn.cluster import KMeans\n",
        "from sklearn.cluster import AgglomerativeClustering"
      ],
      "execution_count": 308,
      "outputs": []
    },
    {
      "cell_type": "markdown",
      "metadata": {
        "id": "q-ogWmMiknYY"
      },
      "source": [
        "### Целевая переменная"
      ]
    },
    {
      "cell_type": "markdown",
      "metadata": {
        "id": "WG0BAigwknYY"
      },
      "source": [
        "#### Нормальное распределение целевой переменной"
      ]
    },
    {
      "cell_type": "code",
      "metadata": {
        "id": "PIlaonaaknYY",
        "colab": {
          "base_uri": "https://localhost:8080/",
          "height": 644
        },
        "outputId": "f9380e81-bb8f-48f4-e6a6-feb836823755"
      },
      "source": [
        "sns.distplot(train['Price'], fit=norm)\n",
        "\n",
        "mu, sigma = norm.fit(train['Price'])\n",
        "\n",
        "print(f'mu = {mu:.2f} and sigma = {sigma:.2f}')\n",
        "\n",
        "plt.legend(\n",
        "    [f'Normal dist. ($\\mu=$ {mu:.2f} and $\\sigma=$ {sigma:.2f} )'], loc='best')\n",
        "plt.ylabel('Frequency')\n",
        "plt.title('Распределение цен')\n",
        "\n",
        "# QQ-plot\n",
        "fig = plt.figure()\n",
        "res = stats.probplot(train['Price'], plot=plt)\n",
        "plt.show()"
      ],
      "execution_count": 309,
      "outputs": [
        {
          "output_type": "stream",
          "text": [
            "/usr/local/lib/python3.7/dist-packages/seaborn/distributions.py:2557: FutureWarning: `distplot` is a deprecated function and will be removed in a future version. Please adapt your code to use either `displot` (a figure-level function with similar flexibility) or `histplot` (an axes-level function for histograms).\n",
            "  warnings.warn(msg, FutureWarning)\n"
          ],
          "name": "stderr"
        },
        {
          "output_type": "stream",
          "text": [
            "mu = 214138.86 and sigma = 92867.65\n"
          ],
          "name": "stdout"
        },
        {
          "output_type": "display_data",
          "data": {
            "image/png": "[encoded data removed]",
            "text/plain": [
              "<Figure size 432x288 with 1 Axes>"
            ]
          },
          "metadata": {
            "tags": [],
            "needs_background": "light"
          }
        },
        {
          "output_type": "display_data",
          "data": {
            "image/png": "[encoded data removed]",
            "text/plain": [
              "<Figure size 432x288 with 1 Axes>"
            ]
          },
          "metadata": {
            "tags": [],
            "needs_background": "light"
          }
        }
      ]
    },
    {
      "cell_type": "markdown",
      "metadata": {
        "id": "UU8skYCyknYZ"
      },
      "source": [
        "#### Логарифмическое распределение целевой переменной"
      ]
    },
    {
      "cell_type": "code",
      "metadata": {
        "id": "aN-EJcENknYZ",
        "colab": {
          "base_uri": "https://localhost:8080/",
          "height": 644
        },
        "outputId": "f44005b2-fe7f-4fa8-a1fc-e7553caf47e0"
      },
      "source": [
        "price_log = np.log1p(train['Price'])\n",
        "sns.distplot(price_log, fit=norm)\n",
        "\n",
        "mu, sigma = norm.fit(train['Price'])\n",
        "\n",
        "print(f'mu = {mu:.2f} and sigma = {sigma:.2f}')\n",
        "\n",
        "plt.legend(\n",
        "    [f'Normal dist. ($\\mu=$ {mu:.2f} and $\\sigma=$ {sigma:.2f} )'], loc='best')\n",
        "plt.ylabel('Frequency')\n",
        "plt.title('Распределение цен')\n",
        "\n",
        "# QQ-plot\n",
        "fig = plt.figure()\n",
        "res = stats.probplot(price_log, plot=plt)\n",
        "plt.show()"
      ],
      "execution_count": 310,
      "outputs": [
        {
          "output_type": "stream",
          "text": [
            "/usr/local/lib/python3.7/dist-packages/seaborn/distributions.py:2557: FutureWarning: `distplot` is a deprecated function and will be removed in a future version. Please adapt your code to use either `displot` (a figure-level function with similar flexibility) or `histplot` (an axes-level function for histograms).\n",
            "  warnings.warn(msg, FutureWarning)\n"
          ],
          "name": "stderr"
        },
        {
          "output_type": "stream",
          "text": [
            "mu = 214138.86 and sigma = 92867.65\n"
          ],
          "name": "stdout"
        },
        {
          "output_type": "display_data",
          "data": {
            "image/png": "[encoded data removed]",
            "text/plain": [
              "<Figure size 432x288 with 1 Axes>"
            ]
          },
          "metadata": {
            "tags": [],
            "needs_background": "light"
          }
        },
        {
          "output_type": "display_data",
          "data": {
            "image/png": "[encoded data removed]",
            "text/plain": [
              "<Figure size 432x288 with 1 Axes>"
            ]
          },
          "metadata": {
            "tags": [],
            "needs_background": "light"
          }
        }
      ]
    },
    {
      "cell_type": "markdown",
      "metadata": {
        "id": "zGyeuNUcknYZ"
      },
      "source": [
        "### Распределение года ввода в эксплуатацию дома"
      ]
    },
    {
      "cell_type": "code",
      "metadata": {
        "colab": {
          "base_uri": "https://localhost:8080/",
          "height": 516
        },
        "id": "_STk_jpSknYZ",
        "outputId": "73ac53e7-7836-43bd-8a43-903ef1793a77"
      },
      "source": [
        "plt.figure(figsize=(18, 6))\n",
        "sns.barplot(train['HouseYear'], train['Price'])\n",
        "plt.xticks(rotation=90)\n",
        "plt.title('Распределение года ввода в эксплуатацию')"
      ],
      "execution_count": 311,
      "outputs": [
        {
          "output_type": "stream",
          "text": [
            "/usr/local/lib/python3.7/dist-packages/seaborn/_decorators.py:43: FutureWarning: Pass the following variables as keyword args: x, y. From version 0.12, the only valid positional argument will be `data`, and passing other arguments without an explicit keyword will result in an error or misinterpretation.\n",
            "  FutureWarning\n"
          ],
          "name": "stderr"
        },
        {
          "output_type": "execute_result",
          "data": {
            "text/plain": [
              "Text(0.5, 1.0, 'Распределение года ввода в эксплуатацию')"
            ]
          },
          "metadata": {
            "tags": []
          },
          "execution_count": 311
        },
        {
          "output_type": "display_data",
          "data": {
            "image/png": "[encoded data removed]",
            "text/plain": [
              "<Figure size 1296x432 with 1 Axes>"
            ]
          },
          "metadata": {
            "tags": [],
            "needs_background": "light"
          }
        }
      ]
    },
    {
      "cell_type": "markdown",
      "metadata": {
        "id": "jArc5GvgknYa"
      },
      "source": [
        "### Распределение переменной Id района"
      ]
    },
    {
      "cell_type": "code",
      "metadata": {
        "colab": {
          "base_uri": "https://localhost:8080/",
          "height": 484
        },
        "id": "-SfNk6iPknYa",
        "outputId": "938b161a-fc85-4d84-881e-1a2942a5e4e0"
      },
      "source": [
        "plt.figure(figsize=(18, 6))\n",
        "sns.barplot(train['DistrictId'], train['Price'])\n",
        "plt.xticks(rotation=90)\n",
        "plt.title('Распределение переменной Id района')"
      ],
      "execution_count": 312,
      "outputs": [
        {
          "output_type": "stream",
          "text": [
            "/usr/local/lib/python3.7/dist-packages/seaborn/_decorators.py:43: FutureWarning: Pass the following variables as keyword args: x, y. From version 0.12, the only valid positional argument will be `data`, and passing other arguments without an explicit keyword will result in an error or misinterpretation.\n",
            "  FutureWarning\n"
          ],
          "name": "stderr"
        },
        {
          "output_type": "execute_result",
          "data": {
            "text/plain": [
              "Text(0.5, 1.0, 'Распределение переменной Id района')"
            ]
          },
          "metadata": {
            "tags": []
          },
          "execution_count": 312
        },
        {
          "output_type": "display_data",
          "data": {
            "image/png": "[encoded data removed]",
            "text/plain": [
              "<Figure size 1296x432 with 1 Axes>"
            ]
          },
          "metadata": {
            "tags": [],
            "needs_background": "light"
          }
        }
      ]
    },
    {
      "cell_type": "markdown",
      "metadata": {
        "id": "jb6SuXpWknYa"
      },
      "source": [
        "### Обработка свойств данных"
      ]
    },
    {
      "cell_type": "markdown",
      "metadata": {
        "id": "R9jvng-MknYa"
      },
      "source": [
        "#### Пропуски"
      ]
    },
    {
      "cell_type": "code",
      "metadata": {
        "colab": {
          "base_uri": "https://localhost:8080/"
        },
        "id": "onZF63X9knYa",
        "outputId": "4da62688-3d3c-4eaa-d18b-11cb110a4617"
      },
      "source": [
        "all_data = pd.concat((train, test), sort=False).reset_index(drop=True)\n",
        "all_data.drop(['Price'], axis=1, inplace=True)\n",
        "print(f'all_data size is : {all_data.shape}')"
      ],
      "execution_count": 313,
      "outputs": [
        {
          "output_type": "stream",
          "text": [
            "all_data size is : (15000, 19)\n"
          ],
          "name": "stdout"
        }
      ]
    },
    {
      "cell_type": "code",
      "metadata": {
        "colab": {
          "base_uri": "https://localhost:8080/",
          "height": 111
        },
        "id": "zm7QzA7iknYa",
        "outputId": "dc16c332-7f18-46a9-a798-c84d73c00d14"
      },
      "source": [
        "all_data_na = (all_data.isnull().sum() / len(all_data)) * 100\n",
        "all_data_na = all_data_na.drop(\n",
        "    all_data_na[all_data_na == 0].index).sort_values(ascending=False)\n",
        "missing_data = pd.DataFrame({'Missing Ratio': all_data_na})\n",
        "missing_data"
      ],
      "execution_count": 314,
      "outputs": [
        {
          "output_type": "execute_result",
          "data": {
            "text/html": [
              "<div>\n",
              "<style scoped>\n",
              "    .dataframe tbody tr th:only-of-type {\n",
              "        vertical-align: middle;\n",
              "    }\n",
              "\n",
              "    .dataframe tbody tr th {\n",
              "        vertical-align: top;\n",
              "    }\n",
              "\n",
              "    .dataframe thead th {\n",
              "        text-align: right;\n",
              "    }\n",
              "</style>\n",
              "<table border=\"1\" class=\"dataframe\">\n",
              "  <thead>\n",
              "    <tr style=\"text-align: right;\">\n",
              "      <th></th>\n",
              "      <th>Missing Ratio</th>\n",
              "    </tr>\n",
              "  </thead>\n",
              "  <tbody>\n",
              "    <tr>\n",
              "      <th>Healthcare_1</th>\n",
              "      <td>47.833333</td>\n",
              "    </tr>\n",
              "    <tr>\n",
              "      <th>LifeSquare</th>\n",
              "      <td>21.026667</td>\n",
              "    </tr>\n",
              "  </tbody>\n",
              "</table>\n",
              "</div>"
            ],
            "text/plain": [
              "              Missing Ratio\n",
              "Healthcare_1      47.833333\n",
              "LifeSquare        21.026667"
            ]
          },
          "metadata": {
            "tags": []
          },
          "execution_count": 314
        }
      ]
    },
    {
      "cell_type": "code",
      "metadata": {
        "id": "vF6nSjWRknYb"
      },
      "source": [
        "def df_del_missing(df):\n",
        "    df_na = (df.isnull().sum() / len(df)) * 100\n",
        "\n",
        "    df_na = df_na.drop(\n",
        "        df_na[df_na == 0].index).sort_values(ascending=False)\n",
        "    df_na = list(df_na.index)\n",
        "    df.drop(df_na, axis=1, inplace=True)\n",
        "    return df"
      ],
      "execution_count": 315,
      "outputs": []
    },
    {
      "cell_type": "markdown",
      "metadata": {
        "id": "YJFo1BnGknYb"
      },
      "source": [
        "#### Корреляция данных"
      ]
    },
    {
      "cell_type": "code",
      "metadata": {
        "colab": {
          "base_uri": "https://localhost:8080/",
          "height": 617
        },
        "id": "JXrLgjfmknYb",
        "outputId": "141ddbf5-f11c-416e-9e03-624df932a8e1"
      },
      "source": [
        "corrmat = train.loc[:, train.columns != 'Id'].corr()\n",
        "plt.subplots(figsize=(12, 9))\n",
        "sns.heatmap(corrmat, vmax=0.9, square=True)"
      ],
      "execution_count": 316,
      "outputs": [
        {
          "output_type": "execute_result",
          "data": {
            "text/plain": [
              "<matplotlib.axes._subplots.AxesSubplot at 0x7f1f3c8a6610>"
            ]
          },
          "metadata": {
            "tags": []
          },
          "execution_count": 316
        },
        {
          "output_type": "display_data",
          "data": {
            "image/png": "[encoded data removed]",
            "text/plain": [
              "<Figure size 864x648 with 2 Axes>"
            ]
          },
          "metadata": {
            "tags": [],
            "needs_background": "light"
          }
        }
      ]
    },
    {
      "cell_type": "code",
      "metadata": {
        "colab": {
          "base_uri": "https://localhost:8080/",
          "height": 344
        },
        "id": "EMcjlbd0knYb",
        "outputId": "861ecd0f-37c8-4a01-d4be-f83037bd55f9"
      },
      "source": [
        "corrmat = train.loc[:, train.columns != 'Id'].corrwith(\n",
        "    train['Price']).abs().sort_values(ascending=False)[1:]\n",
        "plt.bar(corrmat.index, corrmat.values)\n",
        "plt.title('Корреляция цен')\n",
        "plt.xticks(rotation='vertical')\n",
        "plt.show()"
      ],
      "execution_count": 317,
      "outputs": [
        {
          "output_type": "display_data",
          "data": {
            "image/png": "[encoded data removed]",
            "text/plain": [
              "<Figure size 432x288 with 1 Axes>"
            ]
          },
          "metadata": {
            "tags": [],
            "needs_background": "light"
          }
        }
      ]
    },
    {
      "cell_type": "code",
      "metadata": {
        "colab": {
          "base_uri": "https://localhost:8080/",
          "height": 224
        },
        "id": "rYpS1jAuknYb",
        "outputId": "4bfe5943-aa12-4f04-feab-5e4703f56d1c"
      },
      "source": [
        "train.head()"
      ],
      "execution_count": 318,
      "outputs": [
        {
          "output_type": "execute_result",
          "data": {
            "text/html": [
              "<div>\n",
              "<style scoped>\n",
              "    .dataframe tbody tr th:only-of-type {\n",
              "        vertical-align: middle;\n",
              "    }\n",
              "\n",
              "    .dataframe tbody tr th {\n",
              "        vertical-align: top;\n",
              "    }\n",
              "\n",
              "    .dataframe thead th {\n",
              "        text-align: right;\n",
              "    }\n",
              "</style>\n",
              "<table border=\"1\" class=\"dataframe\">\n",
              "  <thead>\n",
              "    <tr style=\"text-align: right;\">\n",
              "      <th></th>\n",
              "      <th>Id</th>\n",
              "      <th>DistrictId</th>\n",
              "      <th>Rooms</th>\n",
              "      <th>Square</th>\n",
              "      <th>LifeSquare</th>\n",
              "      <th>KitchenSquare</th>\n",
              "      <th>Floor</th>\n",
              "      <th>HouseFloor</th>\n",
              "      <th>HouseYear</th>\n",
              "      <th>Ecology_1</th>\n",
              "      <th>Ecology_2</th>\n",
              "      <th>Ecology_3</th>\n",
              "      <th>Social_1</th>\n",
              "      <th>Social_2</th>\n",
              "      <th>Social_3</th>\n",
              "      <th>Healthcare_1</th>\n",
              "      <th>Helthcare_2</th>\n",
              "      <th>Shops_1</th>\n",
              "      <th>Shops_2</th>\n",
              "      <th>Price</th>\n",
              "    </tr>\n",
              "  </thead>\n",
              "  <tbody>\n",
              "    <tr>\n",
              "      <th>0</th>\n",
              "      <td>11809</td>\n",
              "      <td>27</td>\n",
              "      <td>3</td>\n",
              "      <td>115.027313</td>\n",
              "      <td>NaN</td>\n",
              "      <td>10.0</td>\n",
              "      <td>4</td>\n",
              "      <td>10</td>\n",
              "      <td>2014</td>\n",
              "      <td>0.075424</td>\n",
              "      <td>B</td>\n",
              "      <td>B</td>\n",
              "      <td>11</td>\n",
              "      <td>3097</td>\n",
              "      <td>0</td>\n",
              "      <td>NaN</td>\n",
              "      <td>0</td>\n",
              "      <td>0</td>\n",
              "      <td>B</td>\n",
              "      <td>305018.875000</td>\n",
              "    </tr>\n",
              "    <tr>\n",
              "      <th>1</th>\n",
              "      <td>3013</td>\n",
              "      <td>22</td>\n",
              "      <td>1</td>\n",
              "      <td>39.832523</td>\n",
              "      <td>23.169222</td>\n",
              "      <td>8.0</td>\n",
              "      <td>7</td>\n",
              "      <td>8</td>\n",
              "      <td>1966</td>\n",
              "      <td>0.118537</td>\n",
              "      <td>B</td>\n",
              "      <td>B</td>\n",
              "      <td>30</td>\n",
              "      <td>6207</td>\n",
              "      <td>1</td>\n",
              "      <td>1183.0</td>\n",
              "      <td>1</td>\n",
              "      <td>0</td>\n",
              "      <td>B</td>\n",
              "      <td>177734.546875</td>\n",
              "    </tr>\n",
              "    <tr>\n",
              "      <th>2</th>\n",
              "      <td>8215</td>\n",
              "      <td>1</td>\n",
              "      <td>3</td>\n",
              "      <td>78.342216</td>\n",
              "      <td>47.671970</td>\n",
              "      <td>10.0</td>\n",
              "      <td>2</td>\n",
              "      <td>17</td>\n",
              "      <td>1988</td>\n",
              "      <td>0.025609</td>\n",
              "      <td>B</td>\n",
              "      <td>B</td>\n",
              "      <td>33</td>\n",
              "      <td>5261</td>\n",
              "      <td>0</td>\n",
              "      <td>240.0</td>\n",
              "      <td>3</td>\n",
              "      <td>1</td>\n",
              "      <td>B</td>\n",
              "      <td>282078.718750</td>\n",
              "    </tr>\n",
              "    <tr>\n",
              "      <th>3</th>\n",
              "      <td>2352</td>\n",
              "      <td>1</td>\n",
              "      <td>1</td>\n",
              "      <td>40.409908</td>\n",
              "      <td>NaN</td>\n",
              "      <td>1.0</td>\n",
              "      <td>10</td>\n",
              "      <td>22</td>\n",
              "      <td>1977</td>\n",
              "      <td>0.007122</td>\n",
              "      <td>B</td>\n",
              "      <td>B</td>\n",
              "      <td>1</td>\n",
              "      <td>264</td>\n",
              "      <td>0</td>\n",
              "      <td>NaN</td>\n",
              "      <td>0</td>\n",
              "      <td>1</td>\n",
              "      <td>B</td>\n",
              "      <td>168106.000000</td>\n",
              "    </tr>\n",
              "    <tr>\n",
              "      <th>4</th>\n",
              "      <td>13866</td>\n",
              "      <td>94</td>\n",
              "      <td>2</td>\n",
              "      <td>64.285065</td>\n",
              "      <td>38.562515</td>\n",
              "      <td>9.0</td>\n",
              "      <td>16</td>\n",
              "      <td>16</td>\n",
              "      <td>1972</td>\n",
              "      <td>0.282798</td>\n",
              "      <td>B</td>\n",
              "      <td>B</td>\n",
              "      <td>33</td>\n",
              "      <td>8667</td>\n",
              "      <td>2</td>\n",
              "      <td>NaN</td>\n",
              "      <td>0</td>\n",
              "      <td>6</td>\n",
              "      <td>B</td>\n",
              "      <td>343995.093750</td>\n",
              "    </tr>\n",
              "  </tbody>\n",
              "</table>\n",
              "</div>"
            ],
            "text/plain": [
              "      Id  DistrictId  Rooms  ...  Shops_1  Shops_2          Price\n",
              "0  11809          27      3  ...        0        B  305018.875000\n",
              "1   3013          22      1  ...        0        B  177734.546875\n",
              "2   8215           1      3  ...        1        B  282078.718750\n",
              "3   2352           1      1  ...        1        B  168106.000000\n",
              "4  13866          94      2  ...        6        B  343995.093750\n",
              "\n",
              "[5 rows x 20 columns]"
            ]
          },
          "metadata": {
            "tags": []
          },
          "execution_count": 318
        }
      ]
    },
    {
      "cell_type": "markdown",
      "metadata": {
        "id": "q-MdXJFcknYc"
      },
      "source": [
        "#### Кластеризация"
      ]
    },
    {
      "cell_type": "code",
      "metadata": {
        "id": "-Wc7mB-jknYc"
      },
      "source": [
        "scaler = MinMaxScaler()"
      ],
      "execution_count": 319,
      "outputs": []
    },
    {
      "cell_type": "code",
      "metadata": {
        "id": "sX6LvnH3knYc"
      },
      "source": [
        "train_cluster = train.copy()"
      ],
      "execution_count": 320,
      "outputs": []
    },
    {
      "cell_type": "code",
      "metadata": {
        "id": "3JqK22qeknYc"
      },
      "source": [
        "train_cluster = df_fix_house_year_manual(train_cluster)"
      ],
      "execution_count": 321,
      "outputs": []
    },
    {
      "cell_type": "code",
      "metadata": {
        "id": "NfAg0GCPknYc"
      },
      "source": [
        "train_cluster_scaled = pd.DataFrame(scaler.fit_transform(\n",
        "    train_cluster.loc[:, ['HouseYear', 'Price']]), columns=['HouseYear', 'Price'])"
      ],
      "execution_count": 322,
      "outputs": []
    },
    {
      "cell_type": "code",
      "metadata": {
        "colab": {
          "base_uri": "https://localhost:8080/",
          "height": 281
        },
        "id": "dBJArmIdknYc",
        "outputId": "764063cb-f97d-49d4-bca6-dff9f73db60b"
      },
      "source": [
        "inertias = []\n",
        "\n",
        "for i in range(2, 10):\n",
        "    temp_model = KMeans(n_clusters=i, random_state=100)\n",
        "    temp_model.fit(train_cluster_scaled)\n",
        "    temp_inertia = temp_model.inertia_\n",
        "    inertias.append(temp_inertia)\n",
        "\n",
        "plt.plot(range(2, 10), inertias)\n",
        "plt.title('Инерция')\n",
        "\n",
        "plt.show()"
      ],
      "execution_count": 323,
      "outputs": [
        {
          "output_type": "display_data",
          "data": {
            "image/png": "[encoded data removed]",
            "text/plain": [
              "<Figure size 432x288 with 1 Axes>"
            ]
          },
          "metadata": {
            "tags": [],
            "needs_background": "light"
          }
        }
      ]
    },
    {
      "cell_type": "code",
      "metadata": {
        "colab": {
          "base_uri": "https://localhost:8080/",
          "height": 279
        },
        "id": "EO1saV6pknYd",
        "outputId": "387c27b4-497f-4927-aab7-48ba21c8625d"
      },
      "source": [
        "plt.scatter(train_cluster_scaled['HouseYear'], train_cluster_scaled['Price'])\n",
        "plt.xlabel('HouseYear')\n",
        "plt.ylabel('Price')\n",
        "plt.show()"
      ],
      "execution_count": 324,
      "outputs": [
        {
          "output_type": "display_data",
          "data": {
            "image/png": "[encoded data removed]",
            "text/plain": [
              "<Figure size 432x288 with 1 Axes>"
            ]
          },
          "metadata": {
            "tags": [],
            "needs_background": "light"
          }
        }
      ]
    },
    {
      "cell_type": "code",
      "metadata": {
        "id": "cBlIzCzEknYd"
      },
      "source": [
        "kmeans_model = KMeans(n_clusters=5, random_state=100)"
      ],
      "execution_count": 325,
      "outputs": []
    },
    {
      "cell_type": "code",
      "metadata": {
        "id": "ie2r990gknYd"
      },
      "source": [
        "train_labels = kmeans_model.fit_predict(train_cluster_scaled)"
      ],
      "execution_count": 326,
      "outputs": []
    },
    {
      "cell_type": "code",
      "metadata": {
        "colab": {
          "base_uri": "https://localhost:8080/",
          "height": 312
        },
        "id": "oMyQKuNAknYd",
        "outputId": "5bb464b1-28b5-4ccf-83c0-dc9b5523c99e"
      },
      "source": [
        "plt.scatter(train_cluster_scaled['HouseYear'],\n",
        "            train_cluster_scaled['Price'], c=train_labels)\n",
        "\n",
        "plt.xlabel('HouseYear')\n",
        "plt.ylabel('Price')\n",
        "\n",
        "plt.title('Кластеризация данных')"
      ],
      "execution_count": 327,
      "outputs": [
        {
          "output_type": "execute_result",
          "data": {
            "text/plain": [
              "Text(0.5, 1.0, 'Кластеризация данных')"
            ]
          },
          "metadata": {
            "tags": []
          },
          "execution_count": 327
        },
        {
          "output_type": "display_data",
          "data": {
            "image/png": "[encoded data removed]",
            "text/plain": [
              "<Figure size 432x288 with 1 Axes>"
            ]
          },
          "metadata": {
            "tags": [],
            "needs_background": "light"
          }
        }
      ]
    },
    {
      "cell_type": "code",
      "metadata": {
        "id": "ME7ellVVknYd"
      },
      "source": [
        "agglomerative_clustering_model = AgglomerativeClustering(n_clusters=5)"
      ],
      "execution_count": 328,
      "outputs": []
    },
    {
      "cell_type": "code",
      "metadata": {
        "id": "LNunLADZknYe"
      },
      "source": [
        "train_cluster['cluster_year'] = agglomerative_clustering_model.fit_predict(\n",
        "    train_cluster_scaled)"
      ],
      "execution_count": 329,
      "outputs": []
    },
    {
      "cell_type": "code",
      "metadata": {
        "colab": {
          "base_uri": "https://localhost:8080/",
          "height": 312
        },
        "id": "90REK61eknYe",
        "outputId": "5aad8aae-fd18-4c7e-ad83-e9c6c5faadca"
      },
      "source": [
        "plt.scatter(train_cluster['HouseYear'],\n",
        "            train_cluster['Price'], c=train_cluster['cluster_year'])\n",
        "plt.xlabel('HouseYear')\n",
        "plt.ylabel('Price')\n",
        "plt.title('Кластеры')"
      ],
      "execution_count": 330,
      "outputs": [
        {
          "output_type": "execute_result",
          "data": {
            "text/plain": [
              "Text(0.5, 1.0, 'Кластеры')"
            ]
          },
          "metadata": {
            "tags": []
          },
          "execution_count": 330
        },
        {
          "output_type": "display_data",
          "data": {
            "image/png": "[encoded data removed]",
            "text/plain": [
              "<Figure size 432x288 with 1 Axes>"
            ]
          },
          "metadata": {
            "tags": [],
            "needs_background": "light"
          }
        }
      ]
    },
    {
      "cell_type": "code",
      "metadata": {
        "id": "Ia6kReq2knYe"
      },
      "source": [
        "def add_cluster_year(df):\n",
        "    df_scaled = pd.DataFrame(scaler.fit_transform(\n",
        "        df.loc[:, ['HouseYear']]), columns=['HouseYear'])\n",
        "    df['cluster_year'] = agglomerative_clustering_model.fit_predict(df_scaled)\n",
        "    return df"
      ],
      "execution_count": 331,
      "outputs": []
    },
    {
      "cell_type": "markdown",
      "metadata": {
        "id": "e0KwUgtmknYe"
      },
      "source": [
        "#### Средняя цена за комнаты и средняя цена за комнату по районам"
      ]
    },
    {
      "cell_type": "code",
      "metadata": {
        "id": "y-572nVqknYe"
      },
      "source": [
        "def add_mean_price(df, df_train=train):\n",
        "    price = df_train['Price'].mean()\n",
        "    price_mean_by_rooms = df_train.groupby(['Rooms'], as_index=False).agg({'Price': 'mean'}).\\\n",
        "        rename(columns={'Price': 'mean_price_by_rooms'})\n",
        "\n",
        "    price_mean_by_distr_rooms = df_train.groupby(['DistrictId', 'Rooms'], as_index=False).agg({'Price': 'mean'}).\\\n",
        "        rename(columns={'Price': 'mean_price_dr'})\n",
        "\n",
        "    df = pd.merge(df, price_mean_by_distr_rooms, on=[\n",
        "                  'DistrictId', 'Rooms'], how='left')\n",
        "    df = pd.merge(df, price_mean_by_rooms, on='Rooms', how='left')\n",
        "    df['mean_price_dr'] = df['mean_price_dr'].fillna(df['mean_price_by_rooms'])\n",
        "    df['mean_price_dr'] = df['mean_price_dr'].fillna(price)\n",
        "    df['mean_price_by_rooms'] = df['mean_price_by_rooms'].fillna(price)\n",
        "    return df"
      ],
      "execution_count": 332,
      "outputs": []
    },
    {
      "cell_type": "markdown",
      "metadata": {
        "id": "6Fbg2qHVknYe"
      },
      "source": [
        "#### Большой район"
      ]
    },
    {
      "cell_type": "code",
      "metadata": {
        "id": "7s8tQiI1knYe"
      },
      "source": [
        "def add_distr_info(df):\n",
        "    distr_info = df['DistrictId'].value_counts().reset_index().\\\n",
        "        rename(columns={\"index\": \"DistrictId\", \"DistrictId\": 'large_district'})\n",
        "    df = pd.merge(df, distr_info, on='DistrictId', how='left')\n",
        "    df['large_district'] = df['large_district'].fillna(1)\n",
        "    return df"
      ],
      "execution_count": 333,
      "outputs": []
    },
    {
      "cell_type": "markdown",
      "metadata": {
        "id": "eJaw1MoZknYf"
      },
      "source": [
        "## Моделька"
      ]
    },
    {
      "cell_type": "markdown",
      "metadata": {
        "id": "AMXLvJ9rknYf"
      },
      "source": [
        "### Функции"
      ]
    },
    {
      "cell_type": "code",
      "metadata": {
        "id": "KvpRAHz-knYf"
      },
      "source": [
        "def data_prepare(df, df_train=train):\n",
        "    df = df_fix_square_manual(df)\n",
        "    df = df_fix_house_year_manual(df)\n",
        "    df = df_fix_room(df)\n",
        "    df = df_fix_square(df)\n",
        "    df = prepare_lifesquare(df)\n",
        "    df = fillna_life_square(df)\n",
        "    df = df_del_missing(df)\n",
        "    df = add_cluster_year(df)\n",
        "    df = add_mean_price(df, df_train)\n",
        "    df = add_distr_info(df)\n",
        "    df = pd.get_dummies(df)\n",
        "    df.drop('mean_square_per_room_in_dr', axis=1, inplace=True)\n",
        "    df.drop('mean_square_rooms_dr', axis=1, inplace=True)\n",
        "    optimizing_df(df)\n",
        "    return df\n",
        "\n",
        "\n",
        "def model_test(model, name, test, valid):\n",
        "    model_pred = model.predict(test)\n",
        "    r2 = r2_score(valid, model_pred)\n",
        "    mse = mean_squared_error(valid, model_pred)\n",
        "    plt.scatter(valid, (model_pred - valid))\n",
        "    plt.xlabel(\"Predicted values\")\n",
        "    plt.ylabel(\"Real values\")\n",
        "    plt.title(name)\n",
        "    plt.legend([f'R2= {r2:.4f} and mse= {mse:.0e}'])\n",
        "    plt.axhline(0, color='red')\n",
        "    plt.show()\n",
        "\n",
        "\n",
        "def model_top_deviation(model, test, valid):\n",
        "    model_pred = model.predict(test)\n",
        "    model_test = test.copy()\n",
        "    model_test['Price'] = model_pred\n",
        "    model_test['Price_test'] = valid\n",
        "    model_test['SD'] = abs(model_test['Price']\n",
        "                           - model_test['Price_test'])\n",
        "    return model_test.nlargest(10, 'SD')"
      ],
      "execution_count": 334,
      "outputs": []
    },
    {
      "cell_type": "markdown",
      "metadata": {
        "id": "zyxhUHEhknYf"
      },
      "source": [
        "### Загрузка библиотек"
      ]
    },
    {
      "cell_type": "code",
      "metadata": {
        "id": "0qMUEQTXknYf"
      },
      "source": [
        "from sklearn.linear_model import LinearRegression\n",
        "from sklearn.ensemble import RandomForestRegressor\n",
        "from sklearn.ensemble import GradientBoostingRegressor\n",
        "from sklearn.linear_model import LassoCV\n",
        "from xgboost import XGBRegressor\n",
        "from lightgbm import LGBMRegressor\n",
        "\n",
        "from sklearn.model_selection import GridSearchCV\n",
        "\n",
        "from sklearn.metrics import r2_score\n",
        "from sklearn.metrics import mean_squared_error\n",
        "\n",
        "from sklearn.model_selection import train_test_split"
      ],
      "execution_count": 335,
      "outputs": []
    },
    {
      "cell_type": "markdown",
      "metadata": {
        "id": "gkGNc5N-knYf"
      },
      "source": [
        "###  Обработка данных"
      ]
    },
    {
      "cell_type": "code",
      "metadata": {
        "colab": {
          "base_uri": "https://localhost:8080/"
        },
        "id": "XY0pfjYYknYf",
        "outputId": "da01d0ca-2029-4162-9d2e-f31da814fd82"
      },
      "source": [
        "print(train.columns)"
      ],
      "execution_count": 336,
      "outputs": [
        {
          "output_type": "stream",
          "text": [
            "Index(['Id', 'DistrictId', 'Rooms', 'Square', 'LifeSquare', 'KitchenSquare',\n",
            "       'Floor', 'HouseFloor', 'HouseYear', 'Ecology_1', 'Ecology_2',\n",
            "       'Ecology_3', 'Social_1', 'Social_2', 'Social_3', 'Healthcare_1',\n",
            "       'Helthcare_2', 'Shops_1', 'Shops_2', 'Price'],\n",
            "      dtype='object')\n"
          ],
          "name": "stdout"
        }
      ]
    },
    {
      "cell_type": "code",
      "metadata": {
        "id": "nJ4HFrJvknYg"
      },
      "source": [
        "features = list(train.loc[:, train.columns != 'Id'].corrwith(\n",
        "    train['Price']).abs().sort_values(ascending=False)[1:].index)\n",
        "\n",
        "target = 'Price'"
      ],
      "execution_count": 337,
      "outputs": []
    },
    {
      "cell_type": "code",
      "metadata": {
        "colab": {
          "base_uri": "https://localhost:8080/",
          "height": 204
        },
        "id": "5U8RIx9hknYg",
        "outputId": "c6d188d6-f06b-446e-ee51-4cc2d21b4806"
      },
      "source": [
        "train[features].head()"
      ],
      "execution_count": 338,
      "outputs": [
        {
          "output_type": "execute_result",
          "data": {
            "text/html": [
              "<div>\n",
              "<style scoped>\n",
              "    .dataframe tbody tr th:only-of-type {\n",
              "        vertical-align: middle;\n",
              "    }\n",
              "\n",
              "    .dataframe tbody tr th {\n",
              "        vertical-align: top;\n",
              "    }\n",
              "\n",
              "    .dataframe thead th {\n",
              "        text-align: right;\n",
              "    }\n",
              "</style>\n",
              "<table border=\"1\" class=\"dataframe\">\n",
              "  <thead>\n",
              "    <tr style=\"text-align: right;\">\n",
              "      <th></th>\n",
              "      <th>Rooms</th>\n",
              "      <th>Square</th>\n",
              "      <th>DistrictId</th>\n",
              "      <th>Social_1</th>\n",
              "      <th>Helthcare_2</th>\n",
              "      <th>Social_2</th>\n",
              "      <th>Shops_1</th>\n",
              "      <th>Healthcare_1</th>\n",
              "      <th>Floor</th>\n",
              "      <th>HouseFloor</th>\n",
              "      <th>LifeSquare</th>\n",
              "      <th>Social_3</th>\n",
              "      <th>Ecology_1</th>\n",
              "      <th>KitchenSquare</th>\n",
              "      <th>HouseYear</th>\n",
              "    </tr>\n",
              "  </thead>\n",
              "  <tbody>\n",
              "    <tr>\n",
              "      <th>0</th>\n",
              "      <td>3</td>\n",
              "      <td>115.027313</td>\n",
              "      <td>27</td>\n",
              "      <td>11</td>\n",
              "      <td>0</td>\n",
              "      <td>3097</td>\n",
              "      <td>0</td>\n",
              "      <td>NaN</td>\n",
              "      <td>4</td>\n",
              "      <td>10</td>\n",
              "      <td>NaN</td>\n",
              "      <td>0</td>\n",
              "      <td>0.075424</td>\n",
              "      <td>10.0</td>\n",
              "      <td>2014</td>\n",
              "    </tr>\n",
              "    <tr>\n",
              "      <th>1</th>\n",
              "      <td>1</td>\n",
              "      <td>39.832523</td>\n",
              "      <td>22</td>\n",
              "      <td>30</td>\n",
              "      <td>1</td>\n",
              "      <td>6207</td>\n",
              "      <td>0</td>\n",
              "      <td>1183.0</td>\n",
              "      <td>7</td>\n",
              "      <td>8</td>\n",
              "      <td>23.169222</td>\n",
              "      <td>1</td>\n",
              "      <td>0.118537</td>\n",
              "      <td>8.0</td>\n",
              "      <td>1966</td>\n",
              "    </tr>\n",
              "    <tr>\n",
              "      <th>2</th>\n",
              "      <td>3</td>\n",
              "      <td>78.342216</td>\n",
              "      <td>1</td>\n",
              "      <td>33</td>\n",
              "      <td>3</td>\n",
              "      <td>5261</td>\n",
              "      <td>1</td>\n",
              "      <td>240.0</td>\n",
              "      <td>2</td>\n",
              "      <td>17</td>\n",
              "      <td>47.671970</td>\n",
              "      <td>0</td>\n",
              "      <td>0.025609</td>\n",
              "      <td>10.0</td>\n",
              "      <td>1988</td>\n",
              "    </tr>\n",
              "    <tr>\n",
              "      <th>3</th>\n",
              "      <td>1</td>\n",
              "      <td>40.409908</td>\n",
              "      <td>1</td>\n",
              "      <td>1</td>\n",
              "      <td>0</td>\n",
              "      <td>264</td>\n",
              "      <td>1</td>\n",
              "      <td>NaN</td>\n",
              "      <td>10</td>\n",
              "      <td>22</td>\n",
              "      <td>NaN</td>\n",
              "      <td>0</td>\n",
              "      <td>0.007122</td>\n",
              "      <td>1.0</td>\n",
              "      <td>1977</td>\n",
              "    </tr>\n",
              "    <tr>\n",
              "      <th>4</th>\n",
              "      <td>2</td>\n",
              "      <td>64.285065</td>\n",
              "      <td>94</td>\n",
              "      <td>33</td>\n",
              "      <td>0</td>\n",
              "      <td>8667</td>\n",
              "      <td>6</td>\n",
              "      <td>NaN</td>\n",
              "      <td>16</td>\n",
              "      <td>16</td>\n",
              "      <td>38.562515</td>\n",
              "      <td>2</td>\n",
              "      <td>0.282798</td>\n",
              "      <td>9.0</td>\n",
              "      <td>1972</td>\n",
              "    </tr>\n",
              "  </tbody>\n",
              "</table>\n",
              "</div>"
            ],
            "text/plain": [
              "   Rooms      Square  DistrictId  ...  Ecology_1  KitchenSquare  HouseYear\n",
              "0      3  115.027313          27  ...   0.075424           10.0       2014\n",
              "1      1   39.832523          22  ...   0.118537            8.0       1966\n",
              "2      3   78.342216           1  ...   0.025609           10.0       1988\n",
              "3      1   40.409908           1  ...   0.007122            1.0       1977\n",
              "4      2   64.285065          94  ...   0.282798            9.0       1972\n",
              "\n",
              "[5 rows x 15 columns]"
            ]
          },
          "metadata": {
            "tags": []
          },
          "execution_count": 338
        }
      ]
    },
    {
      "cell_type": "code",
      "metadata": {
        "id": "zGwerzaVknYg"
      },
      "source": [
        "models_dict = {}"
      ],
      "execution_count": 339,
      "outputs": []
    },
    {
      "cell_type": "code",
      "metadata": {
        "id": "4zf6zRotknYg"
      },
      "source": [
        "X_train, X_test, y_train, y_test = train_test_split(\n",
        "    train[features], train[target], test_size=0.3, random_state=42)"
      ],
      "execution_count": 340,
      "outputs": []
    },
    {
      "cell_type": "code",
      "metadata": {
        "id": "HMolQAREknYg"
      },
      "source": [
        "X_train = data_prepare(X_train, train)\n",
        "X_test = data_prepare(X_test, train)"
      ],
      "execution_count": 341,
      "outputs": []
    },
    {
      "cell_type": "code",
      "metadata": {
        "colab": {
          "base_uri": "https://localhost:8080/"
        },
        "id": "DfscQTD2knYg",
        "outputId": "d031dbfc-e4fa-4bba-9123-0ed640f3afa1"
      },
      "source": [
        "X_train.info()"
      ],
      "execution_count": 342,
      "outputs": [
        {
          "output_type": "stream",
          "text": [
            "<class 'pandas.core.frame.DataFrame'>\n",
            "Int64Index: 7000 entries, 0 to 6999\n",
            "Data columns (total 18 columns):\n",
            " #   Column               Non-Null Count  Dtype  \n",
            "---  ------               --------------  -----  \n",
            " 0   Rooms                7000 non-null   uint8  \n",
            " 1   Square               7000 non-null   float32\n",
            " 2   DistrictId           7000 non-null   uint8  \n",
            " 3   Social_1             7000 non-null   uint8  \n",
            " 4   Helthcare_2          7000 non-null   uint8  \n",
            " 5   Social_2             7000 non-null   uint16 \n",
            " 6   Shops_1              7000 non-null   uint8  \n",
            " 7   Floor                7000 non-null   uint8  \n",
            " 8   HouseFloor           7000 non-null   uint8  \n",
            " 9   LifeSquare           7000 non-null   float32\n",
            " 10  Social_3             7000 non-null   uint8  \n",
            " 11  Ecology_1            7000 non-null   float32\n",
            " 12  KitchenSquare        7000 non-null   float32\n",
            " 13  HouseYear            7000 non-null   uint16 \n",
            " 14  cluster_year         7000 non-null   uint8  \n",
            " 15  mean_price_dr        7000 non-null   float32\n",
            " 16  mean_price_by_rooms  7000 non-null   float32\n",
            " 17  large_district       7000 non-null   uint16 \n",
            "dtypes: float32(6), uint16(3), uint8(9)\n",
            "memory usage: 321.3 KB\n"
          ],
          "name": "stdout"
        }
      ]
    },
    {
      "cell_type": "code",
      "metadata": {
        "colab": {
          "base_uri": "https://localhost:8080/"
        },
        "id": "-Gw26XPAknYh",
        "outputId": "7f37b4d6-f748-4922-998f-41ac792b927e"
      },
      "source": [
        "X_test.info()"
      ],
      "execution_count": 343,
      "outputs": [
        {
          "output_type": "stream",
          "text": [
            "<class 'pandas.core.frame.DataFrame'>\n",
            "Int64Index: 3000 entries, 0 to 2999\n",
            "Data columns (total 18 columns):\n",
            " #   Column               Non-Null Count  Dtype  \n",
            "---  ------               --------------  -----  \n",
            " 0   Rooms                3000 non-null   uint8  \n",
            " 1   Square               3000 non-null   float32\n",
            " 2   DistrictId           3000 non-null   uint8  \n",
            " 3   Social_1             3000 non-null   uint8  \n",
            " 4   Helthcare_2          3000 non-null   uint8  \n",
            " 5   Social_2             3000 non-null   uint16 \n",
            " 6   Shops_1              3000 non-null   uint8  \n",
            " 7   Floor                3000 non-null   uint8  \n",
            " 8   HouseFloor           3000 non-null   uint8  \n",
            " 9   LifeSquare           3000 non-null   float32\n",
            " 10  Social_3             3000 non-null   uint8  \n",
            " 11  Ecology_1            3000 non-null   float32\n",
            " 12  KitchenSquare        3000 non-null   float32\n",
            " 13  HouseYear            3000 non-null   uint16 \n",
            " 14  cluster_year         3000 non-null   uint8  \n",
            " 15  mean_price_dr        3000 non-null   float32\n",
            " 16  mean_price_by_rooms  3000 non-null   float32\n",
            " 17  large_district       3000 non-null   uint16 \n",
            "dtypes: float32(6), uint16(3), uint8(9)\n",
            "memory usage: 137.7 KB\n"
          ],
          "name": "stdout"
        }
      ]
    },
    {
      "cell_type": "code",
      "metadata": {
        "colab": {
          "base_uri": "https://localhost:8080/",
          "height": 224
        },
        "id": "GR5wEJF4knYh",
        "outputId": "764cd9b0-ed42-4a14-c5fd-a96cfbf09778"
      },
      "source": [
        "X_train.head()"
      ],
      "execution_count": 344,
      "outputs": [
        {
          "output_type": "execute_result",
          "data": {
            "text/html": [
              "<div>\n",
              "<style scoped>\n",
              "    .dataframe tbody tr th:only-of-type {\n",
              "        vertical-align: middle;\n",
              "    }\n",
              "\n",
              "    .dataframe tbody tr th {\n",
              "        vertical-align: top;\n",
              "    }\n",
              "\n",
              "    .dataframe thead th {\n",
              "        text-align: right;\n",
              "    }\n",
              "</style>\n",
              "<table border=\"1\" class=\"dataframe\">\n",
              "  <thead>\n",
              "    <tr style=\"text-align: right;\">\n",
              "      <th></th>\n",
              "      <th>Rooms</th>\n",
              "      <th>Square</th>\n",
              "      <th>DistrictId</th>\n",
              "      <th>Social_1</th>\n",
              "      <th>Helthcare_2</th>\n",
              "      <th>Social_2</th>\n",
              "      <th>Shops_1</th>\n",
              "      <th>Floor</th>\n",
              "      <th>HouseFloor</th>\n",
              "      <th>LifeSquare</th>\n",
              "      <th>Social_3</th>\n",
              "      <th>Ecology_1</th>\n",
              "      <th>KitchenSquare</th>\n",
              "      <th>HouseYear</th>\n",
              "      <th>cluster_year</th>\n",
              "      <th>mean_price_dr</th>\n",
              "      <th>mean_price_by_rooms</th>\n",
              "      <th>large_district</th>\n",
              "    </tr>\n",
              "  </thead>\n",
              "  <tbody>\n",
              "    <tr>\n",
              "      <th>0</th>\n",
              "      <td>1</td>\n",
              "      <td>38.234364</td>\n",
              "      <td>31</td>\n",
              "      <td>23</td>\n",
              "      <td>0</td>\n",
              "      <td>3684</td>\n",
              "      <td>4</td>\n",
              "      <td>6</td>\n",
              "      <td>3</td>\n",
              "      <td>20.008121</td>\n",
              "      <td>2</td>\n",
              "      <td>0.000000</td>\n",
              "      <td>8.0</td>\n",
              "      <td>1977</td>\n",
              "      <td>3</td>\n",
              "      <td>234734.109375</td>\n",
              "      <td>159850.796875</td>\n",
              "      <td>40</td>\n",
              "    </tr>\n",
              "    <tr>\n",
              "      <th>1</th>\n",
              "      <td>1</td>\n",
              "      <td>31.309444</td>\n",
              "      <td>11</td>\n",
              "      <td>28</td>\n",
              "      <td>2</td>\n",
              "      <td>6533</td>\n",
              "      <td>5</td>\n",
              "      <td>1</td>\n",
              "      <td>5</td>\n",
              "      <td>24.479166</td>\n",
              "      <td>1</td>\n",
              "      <td>0.038693</td>\n",
              "      <td>5.0</td>\n",
              "      <td>1969</td>\n",
              "      <td>0</td>\n",
              "      <td>159161.390625</td>\n",
              "      <td>159850.796875</td>\n",
              "      <td>88</td>\n",
              "    </tr>\n",
              "    <tr>\n",
              "      <th>2</th>\n",
              "      <td>2</td>\n",
              "      <td>47.234447</td>\n",
              "      <td>123</td>\n",
              "      <td>47</td>\n",
              "      <td>3</td>\n",
              "      <td>11319</td>\n",
              "      <td>5</td>\n",
              "      <td>2</td>\n",
              "      <td>12</td>\n",
              "      <td>19.363581</td>\n",
              "      <td>0</td>\n",
              "      <td>0.000000</td>\n",
              "      <td>6.0</td>\n",
              "      <td>1980</td>\n",
              "      <td>1</td>\n",
              "      <td>313771.312500</td>\n",
              "      <td>215256.312500</td>\n",
              "      <td>18</td>\n",
              "    </tr>\n",
              "    <tr>\n",
              "      <th>3</th>\n",
              "      <td>3</td>\n",
              "      <td>63.841679</td>\n",
              "      <td>61</td>\n",
              "      <td>52</td>\n",
              "      <td>1</td>\n",
              "      <td>10311</td>\n",
              "      <td>9</td>\n",
              "      <td>9</td>\n",
              "      <td>12</td>\n",
              "      <td>38.098614</td>\n",
              "      <td>6</td>\n",
              "      <td>0.300323</td>\n",
              "      <td>8.0</td>\n",
              "      <td>1983</td>\n",
              "      <td>1</td>\n",
              "      <td>274123.468750</td>\n",
              "      <td>289337.968750</td>\n",
              "      <td>81</td>\n",
              "    </tr>\n",
              "    <tr>\n",
              "      <th>4</th>\n",
              "      <td>1</td>\n",
              "      <td>36.054333</td>\n",
              "      <td>27</td>\n",
              "      <td>4</td>\n",
              "      <td>0</td>\n",
              "      <td>915</td>\n",
              "      <td>0</td>\n",
              "      <td>15</td>\n",
              "      <td>17</td>\n",
              "      <td>34.296082</td>\n",
              "      <td>0</td>\n",
              "      <td>0.011654</td>\n",
              "      <td>1.0</td>\n",
              "      <td>2016</td>\n",
              "      <td>4</td>\n",
              "      <td>122710.742188</td>\n",
              "      <td>159850.796875</td>\n",
              "      <td>594</td>\n",
              "    </tr>\n",
              "  </tbody>\n",
              "</table>\n",
              "</div>"
            ],
            "text/plain": [
              "   Rooms     Square  ...  mean_price_by_rooms  large_district\n",
              "0      1  38.234364  ...        159850.796875              40\n",
              "1      1  31.309444  ...        159850.796875              88\n",
              "2      2  47.234447  ...        215256.312500              18\n",
              "3      3  63.841679  ...        289337.968750              81\n",
              "4      1  36.054333  ...        159850.796875             594\n",
              "\n",
              "[5 rows x 18 columns]"
            ]
          },
          "metadata": {
            "tags": []
          },
          "execution_count": 344
        }
      ]
    },
    {
      "cell_type": "code",
      "metadata": {
        "colab": {
          "base_uri": "https://localhost:8080/"
        },
        "id": "orAejllWknYh",
        "outputId": "9f4cd11a-8486-481f-d608-860e7f51672e"
      },
      "source": [
        "y_train.head()"
      ],
      "execution_count": 345,
      "outputs": [
        {
          "output_type": "execute_result",
          "data": {
            "text/plain": [
              "9069    251801.843750\n",
              "2603    134975.000000\n",
              "7738    153924.156250\n",
              "1579    313853.968750\n",
              "5058    113608.078125\n",
              "Name: Price, dtype: float32"
            ]
          },
          "metadata": {
            "tags": []
          },
          "execution_count": 345
        }
      ]
    },
    {
      "cell_type": "markdown",
      "metadata": {
        "id": "zqVIl8wSknYh"
      },
      "source": [
        "### Линейная регрессия"
      ]
    },
    {
      "cell_type": "code",
      "metadata": {
        "colab": {
          "base_uri": "https://localhost:8080/"
        },
        "id": "SRutQNHKknYh",
        "outputId": "2f10e167-57c1-4f5a-a684-6f7b88bdcd97"
      },
      "source": [
        "line_regression_model = LinearRegression()\n",
        "line_regression_model.fit(X_train, y_train)"
      ],
      "execution_count": 346,
      "outputs": [
        {
          "output_type": "execute_result",
          "data": {
            "text/plain": [
              "LinearRegression(copy_X=True, fit_intercept=True, n_jobs=None, normalize=False)"
            ]
          },
          "metadata": {
            "tags": []
          },
          "execution_count": 346
        }
      ]
    },
    {
      "cell_type": "code",
      "metadata": {
        "id": "YgGdh8yJknYi"
      },
      "source": [
        "models_dict['Линейная регрессия'] = line_regression_model"
      ],
      "execution_count": 347,
      "outputs": []
    },
    {
      "cell_type": "markdown",
      "metadata": {
        "id": "6U5mzq8sknYi"
      },
      "source": [
        "#### Test Linear Regression"
      ]
    },
    {
      "cell_type": "code",
      "metadata": {
        "colab": {
          "base_uri": "https://localhost:8080/",
          "height": 295
        },
        "id": "9Do3Qhk5knYi",
        "outputId": "0a09915e-ba16-46a1-b1b0-f06b63de14f2"
      },
      "source": [
        "model_test(line_regression_model, 'Линейная регрессия(тест)', X_test, y_test)"
      ],
      "execution_count": 348,
      "outputs": [
        {
          "output_type": "display_data",
          "data": {
            "image/png": "[encoded data removed]",
            "text/plain": [
              "<Figure size 432x288 with 1 Axes>"
            ]
          },
          "metadata": {
            "tags": [],
            "needs_background": "light"
          }
        }
      ]
    },
    {
      "cell_type": "code",
      "metadata": {
        "colab": {
          "base_uri": "https://localhost:8080/",
          "height": 379
        },
        "id": "ypP_mKzGknYi",
        "outputId": "4234f100-111d-4cd1-f0cf-f69eba19a3d4"
      },
      "source": [
        "model_top_deviation(line_regression_model, X_test, y_test)"
      ],
      "execution_count": 349,
      "outputs": [
        {
          "output_type": "execute_result",
          "data": {
            "text/html": [
              "<div>\n",
              "<style scoped>\n",
              "    .dataframe tbody tr th:only-of-type {\n",
              "        vertical-align: middle;\n",
              "    }\n",
              "\n",
              "    .dataframe tbody tr th {\n",
              "        vertical-align: top;\n",
              "    }\n",
              "\n",
              "    .dataframe thead th {\n",
              "        text-align: right;\n",
              "    }\n",
              "</style>\n",
              "<table border=\"1\" class=\"dataframe\">\n",
              "  <thead>\n",
              "    <tr style=\"text-align: right;\">\n",
              "      <th></th>\n",
              "      <th>Rooms</th>\n",
              "      <th>Square</th>\n",
              "      <th>DistrictId</th>\n",
              "      <th>Social_1</th>\n",
              "      <th>Helthcare_2</th>\n",
              "      <th>Social_2</th>\n",
              "      <th>Shops_1</th>\n",
              "      <th>Floor</th>\n",
              "      <th>HouseFloor</th>\n",
              "      <th>LifeSquare</th>\n",
              "      <th>Social_3</th>\n",
              "      <th>Ecology_1</th>\n",
              "      <th>KitchenSquare</th>\n",
              "      <th>HouseYear</th>\n",
              "      <th>cluster_year</th>\n",
              "      <th>mean_price_dr</th>\n",
              "      <th>mean_price_by_rooms</th>\n",
              "      <th>large_district</th>\n",
              "      <th>Price</th>\n",
              "      <th>Price_test</th>\n",
              "      <th>SD</th>\n",
              "    </tr>\n",
              "  </thead>\n",
              "  <tbody>\n",
              "    <tr>\n",
              "      <th>1026</th>\n",
              "      <td>1</td>\n",
              "      <td>34.382664</td>\n",
              "      <td>29</td>\n",
              "      <td>31</td>\n",
              "      <td>1</td>\n",
              "      <td>6119</td>\n",
              "      <td>2</td>\n",
              "      <td>7</td>\n",
              "      <td>9</td>\n",
              "      <td>22.438042</td>\n",
              "      <td>4</td>\n",
              "      <td>0.069660</td>\n",
              "      <td>5.0</td>\n",
              "      <td>1965</td>\n",
              "      <td>2</td>\n",
              "      <td>146802.281250</td>\n",
              "      <td>159850.796875</td>\n",
              "      <td>27</td>\n",
              "      <td>134322.09375</td>\n",
              "      <td>624156.000000</td>\n",
              "      <td>489833.90625</td>\n",
              "    </tr>\n",
              "    <tr>\n",
              "      <th>2963</th>\n",
              "      <td>1</td>\n",
              "      <td>42.456928</td>\n",
              "      <td>23</td>\n",
              "      <td>6</td>\n",
              "      <td>0</td>\n",
              "      <td>1437</td>\n",
              "      <td>2</td>\n",
              "      <td>7</td>\n",
              "      <td>17</td>\n",
              "      <td>36.527630</td>\n",
              "      <td>3</td>\n",
              "      <td>0.075779</td>\n",
              "      <td>1.0</td>\n",
              "      <td>1977</td>\n",
              "      <td>0</td>\n",
              "      <td>100961.812500</td>\n",
              "      <td>159850.796875</td>\n",
              "      <td>175</td>\n",
              "      <td>106565.03125</td>\n",
              "      <td>554809.437500</td>\n",
              "      <td>448244.40625</td>\n",
              "    </tr>\n",
              "    <tr>\n",
              "      <th>940</th>\n",
              "      <td>1</td>\n",
              "      <td>50.299168</td>\n",
              "      <td>9</td>\n",
              "      <td>11</td>\n",
              "      <td>0</td>\n",
              "      <td>2370</td>\n",
              "      <td>1</td>\n",
              "      <td>11</td>\n",
              "      <td>16</td>\n",
              "      <td>24.349604</td>\n",
              "      <td>0</td>\n",
              "      <td>0.136244</td>\n",
              "      <td>9.0</td>\n",
              "      <td>2006</td>\n",
              "      <td>1</td>\n",
              "      <td>141847.359375</td>\n",
              "      <td>159850.796875</td>\n",
              "      <td>89</td>\n",
              "      <td>167767.90625</td>\n",
              "      <td>608674.125000</td>\n",
              "      <td>440906.21875</td>\n",
              "    </tr>\n",
              "    <tr>\n",
              "      <th>347</th>\n",
              "      <td>2</td>\n",
              "      <td>62.646122</td>\n",
              "      <td>27</td>\n",
              "      <td>2</td>\n",
              "      <td>0</td>\n",
              "      <td>629</td>\n",
              "      <td>0</td>\n",
              "      <td>4</td>\n",
              "      <td>1</td>\n",
              "      <td>36.527630</td>\n",
              "      <td>1</td>\n",
              "      <td>0.072158</td>\n",
              "      <td>1.0</td>\n",
              "      <td>1977</td>\n",
              "      <td>0</td>\n",
              "      <td>166014.062500</td>\n",
              "      <td>215256.312500</td>\n",
              "      <td>257</td>\n",
              "      <td>165702.84375</td>\n",
              "      <td>593618.750000</td>\n",
              "      <td>427915.90625</td>\n",
              "    </tr>\n",
              "    <tr>\n",
              "      <th>2540</th>\n",
              "      <td>5</td>\n",
              "      <td>183.382278</td>\n",
              "      <td>13</td>\n",
              "      <td>74</td>\n",
              "      <td>5</td>\n",
              "      <td>19083</td>\n",
              "      <td>15</td>\n",
              "      <td>2</td>\n",
              "      <td>6</td>\n",
              "      <td>100.985504</td>\n",
              "      <td>2</td>\n",
              "      <td>0.090799</td>\n",
              "      <td>15.0</td>\n",
              "      <td>1997</td>\n",
              "      <td>1</td>\n",
              "      <td>528831.562500</td>\n",
              "      <td>410431.593750</td>\n",
              "      <td>30</td>\n",
              "      <td>637725.00000</td>\n",
              "      <td>212589.703125</td>\n",
              "      <td>425135.31250</td>\n",
              "    </tr>\n",
              "    <tr>\n",
              "      <th>2906</th>\n",
              "      <td>3</td>\n",
              "      <td>129.475021</td>\n",
              "      <td>17</td>\n",
              "      <td>23</td>\n",
              "      <td>2</td>\n",
              "      <td>4635</td>\n",
              "      <td>4</td>\n",
              "      <td>17</td>\n",
              "      <td>20</td>\n",
              "      <td>36.527630</td>\n",
              "      <td>5</td>\n",
              "      <td>0.093443</td>\n",
              "      <td>10.0</td>\n",
              "      <td>1977</td>\n",
              "      <td>0</td>\n",
              "      <td>419768.781250</td>\n",
              "      <td>289337.968750</td>\n",
              "      <td>20</td>\n",
              "      <td>520976.65625</td>\n",
              "      <td>111787.078125</td>\n",
              "      <td>409189.56250</td>\n",
              "    </tr>\n",
              "    <tr>\n",
              "      <th>858</th>\n",
              "      <td>1</td>\n",
              "      <td>40.279987</td>\n",
              "      <td>27</td>\n",
              "      <td>9</td>\n",
              "      <td>0</td>\n",
              "      <td>1892</td>\n",
              "      <td>1</td>\n",
              "      <td>8</td>\n",
              "      <td>15</td>\n",
              "      <td>38.652657</td>\n",
              "      <td>0</td>\n",
              "      <td>0.211401</td>\n",
              "      <td>10.0</td>\n",
              "      <td>2018</td>\n",
              "      <td>3</td>\n",
              "      <td>122710.742188</td>\n",
              "      <td>159850.796875</td>\n",
              "      <td>257</td>\n",
              "      <td>120720.28125</td>\n",
              "      <td>524279.250000</td>\n",
              "      <td>403558.96875</td>\n",
              "    </tr>\n",
              "    <tr>\n",
              "      <th>964</th>\n",
              "      <td>5</td>\n",
              "      <td>118.871948</td>\n",
              "      <td>78</td>\n",
              "      <td>21</td>\n",
              "      <td>1</td>\n",
              "      <td>4346</td>\n",
              "      <td>2</td>\n",
              "      <td>15</td>\n",
              "      <td>16</td>\n",
              "      <td>69.023506</td>\n",
              "      <td>2</td>\n",
              "      <td>0.092291</td>\n",
              "      <td>10.0</td>\n",
              "      <td>1998</td>\n",
              "      <td>1</td>\n",
              "      <td>496026.656250</td>\n",
              "      <td>410431.593750</td>\n",
              "      <td>10</td>\n",
              "      <td>519079.15625</td>\n",
              "      <td>119853.828125</td>\n",
              "      <td>399225.31250</td>\n",
              "    </tr>\n",
              "    <tr>\n",
              "      <th>2436</th>\n",
              "      <td>1</td>\n",
              "      <td>38.704697</td>\n",
              "      <td>22</td>\n",
              "      <td>49</td>\n",
              "      <td>3</td>\n",
              "      <td>11395</td>\n",
              "      <td>4</td>\n",
              "      <td>9</td>\n",
              "      <td>22</td>\n",
              "      <td>21.993610</td>\n",
              "      <td>3</td>\n",
              "      <td>0.133215</td>\n",
              "      <td>10.0</td>\n",
              "      <td>1991</td>\n",
              "      <td>0</td>\n",
              "      <td>162263.906250</td>\n",
              "      <td>159850.796875</td>\n",
              "      <td>18</td>\n",
              "      <td>180111.96875</td>\n",
              "      <td>573999.437500</td>\n",
              "      <td>393887.46875</td>\n",
              "    </tr>\n",
              "    <tr>\n",
              "      <th>106</th>\n",
              "      <td>2</td>\n",
              "      <td>44.537441</td>\n",
              "      <td>10</td>\n",
              "      <td>33</td>\n",
              "      <td>0</td>\n",
              "      <td>8667</td>\n",
              "      <td>6</td>\n",
              "      <td>8</td>\n",
              "      <td>9</td>\n",
              "      <td>32.103275</td>\n",
              "      <td>2</td>\n",
              "      <td>0.282798</td>\n",
              "      <td>5.0</td>\n",
              "      <td>1971</td>\n",
              "      <td>2</td>\n",
              "      <td>226197.562500</td>\n",
              "      <td>215256.312500</td>\n",
              "      <td>20</td>\n",
              "      <td>192550.59375</td>\n",
              "      <td>574631.312500</td>\n",
              "      <td>382080.71875</td>\n",
              "    </tr>\n",
              "  </tbody>\n",
              "</table>\n",
              "</div>"
            ],
            "text/plain": [
              "      Rooms      Square  DistrictId  ...         Price     Price_test            SD\n",
              "1026      1   34.382664          29  ...  134322.09375  624156.000000  489833.90625\n",
              "2963      1   42.456928          23  ...  106565.03125  554809.437500  448244.40625\n",
              "940       1   50.299168           9  ...  167767.90625  608674.125000  440906.21875\n",
              "347       2   62.646122          27  ...  165702.84375  593618.750000  427915.90625\n",
              "2540      5  183.382278          13  ...  637725.00000  212589.703125  425135.31250\n",
              "2906      3  129.475021          17  ...  520976.65625  111787.078125  409189.56250\n",
              "858       1   40.279987          27  ...  120720.28125  524279.250000  403558.96875\n",
              "964       5  118.871948          78  ...  519079.15625  119853.828125  399225.31250\n",
              "2436      1   38.704697          22  ...  180111.96875  573999.437500  393887.46875\n",
              "106       2   44.537441          10  ...  192550.59375  574631.312500  382080.71875\n",
              "\n",
              "[10 rows x 21 columns]"
            ]
          },
          "metadata": {
            "tags": []
          },
          "execution_count": 349
        }
      ]
    },
    {
      "cell_type": "markdown",
      "metadata": {
        "id": "HAe6CEPPknYi"
      },
      "source": [
        "### Случайный лес регрессия"
      ]
    },
    {
      "cell_type": "code",
      "metadata": {
        "colab": {
          "base_uri": "https://localhost:8080/"
        },
        "id": "hO5vtS5UknYi",
        "outputId": "84d103a1-ae04-41ab-e095-1a7c9408fe39"
      },
      "source": [
        "random_forest_regressor_model = RandomForestRegressor()\n",
        "random_forest_regressor_model.fit(X_train, y_train)"
      ],
      "execution_count": 350,
      "outputs": [
        {
          "output_type": "execute_result",
          "data": {
            "text/plain": [
              "RandomForestRegressor(bootstrap=True, ccp_alpha=0.0, criterion='mse',\n",
              "                      max_depth=None, max_features='auto', max_leaf_nodes=None,\n",
              "                      max_samples=None, min_impurity_decrease=0.0,\n",
              "                      min_impurity_split=None, min_samples_leaf=1,\n",
              "                      min_samples_split=2, min_weight_fraction_leaf=0.0,\n",
              "                      n_estimators=100, n_jobs=None, oob_score=False,\n",
              "                      random_state=None, verbose=0, warm_start=False)"
            ]
          },
          "metadata": {
            "tags": []
          },
          "execution_count": 350
        }
      ]
    },
    {
      "cell_type": "code",
      "metadata": {
        "id": "RNemVPPJknYj"
      },
      "source": [
        "models_dict['Случайный лес'] = random_forest_regressor_model"
      ],
      "execution_count": 351,
      "outputs": []
    },
    {
      "cell_type": "markdown",
      "metadata": {
        "id": "b7sO1IlrknYj"
      },
      "source": [
        "#### Тест случайный лес регрессия"
      ]
    },
    {
      "cell_type": "code",
      "metadata": {
        "colab": {
          "base_uri": "https://localhost:8080/",
          "height": 295
        },
        "id": "rj7dMlzXknYj",
        "outputId": "9e41576c-c1d1-4a17-d7b5-2397d2d5b201"
      },
      "source": [
        "model_test(random_forest_regressor_model,\n",
        "           'Случайный лес(тест)', X_test, y_test)"
      ],
      "execution_count": 352,
      "outputs": [
        {
          "output_type": "display_data",
          "data": {
            "image/png": "[encoded data removed]",
            "text/plain": [
              "<Figure size 432x288 with 1 Axes>"
            ]
          },
          "metadata": {
            "tags": [],
            "needs_background": "light"
          }
        }
      ]
    },
    {
      "cell_type": "code",
      "metadata": {
        "colab": {
          "base_uri": "https://localhost:8080/",
          "height": 379
        },
        "id": "TKi7_U4jknYj",
        "outputId": "326227a8-e369-4ac2-cefc-277373e50475"
      },
      "source": [
        "model_top_deviation(random_forest_regressor_model, X_test, y_test)"
      ],
      "execution_count": 353,
      "outputs": [
        {
          "output_type": "execute_result",
          "data": {
            "text/html": [
              "<div>\n",
              "<style scoped>\n",
              "    .dataframe tbody tr th:only-of-type {\n",
              "        vertical-align: middle;\n",
              "    }\n",
              "\n",
              "    .dataframe tbody tr th {\n",
              "        vertical-align: top;\n",
              "    }\n",
              "\n",
              "    .dataframe thead th {\n",
              "        text-align: right;\n",
              "    }\n",
              "</style>\n",
              "<table border=\"1\" class=\"dataframe\">\n",
              "  <thead>\n",
              "    <tr style=\"text-align: right;\">\n",
              "      <th></th>\n",
              "      <th>Rooms</th>\n",
              "      <th>Square</th>\n",
              "      <th>DistrictId</th>\n",
              "      <th>Social_1</th>\n",
              "      <th>Helthcare_2</th>\n",
              "      <th>Social_2</th>\n",
              "      <th>Shops_1</th>\n",
              "      <th>Floor</th>\n",
              "      <th>HouseFloor</th>\n",
              "      <th>LifeSquare</th>\n",
              "      <th>Social_3</th>\n",
              "      <th>Ecology_1</th>\n",
              "      <th>KitchenSquare</th>\n",
              "      <th>HouseYear</th>\n",
              "      <th>cluster_year</th>\n",
              "      <th>mean_price_dr</th>\n",
              "      <th>mean_price_by_rooms</th>\n",
              "      <th>large_district</th>\n",
              "      <th>Price</th>\n",
              "      <th>Price_test</th>\n",
              "      <th>SD</th>\n",
              "    </tr>\n",
              "  </thead>\n",
              "  <tbody>\n",
              "    <tr>\n",
              "      <th>1026</th>\n",
              "      <td>1</td>\n",
              "      <td>34.382664</td>\n",
              "      <td>29</td>\n",
              "      <td>31</td>\n",
              "      <td>1</td>\n",
              "      <td>6119</td>\n",
              "      <td>2</td>\n",
              "      <td>7</td>\n",
              "      <td>9</td>\n",
              "      <td>22.438042</td>\n",
              "      <td>4</td>\n",
              "      <td>0.069660</td>\n",
              "      <td>5.0</td>\n",
              "      <td>1965</td>\n",
              "      <td>2</td>\n",
              "      <td>146802.281250</td>\n",
              "      <td>159850.796875</td>\n",
              "      <td>27</td>\n",
              "      <td>135536.683906</td>\n",
              "      <td>624156.000000</td>\n",
              "      <td>488619.316094</td>\n",
              "    </tr>\n",
              "    <tr>\n",
              "      <th>940</th>\n",
              "      <td>1</td>\n",
              "      <td>50.299168</td>\n",
              "      <td>9</td>\n",
              "      <td>11</td>\n",
              "      <td>0</td>\n",
              "      <td>2370</td>\n",
              "      <td>1</td>\n",
              "      <td>11</td>\n",
              "      <td>16</td>\n",
              "      <td>24.349604</td>\n",
              "      <td>0</td>\n",
              "      <td>0.136244</td>\n",
              "      <td>9.0</td>\n",
              "      <td>2006</td>\n",
              "      <td>1</td>\n",
              "      <td>141847.359375</td>\n",
              "      <td>159850.796875</td>\n",
              "      <td>89</td>\n",
              "      <td>146417.283906</td>\n",
              "      <td>608674.125000</td>\n",
              "      <td>462256.841094</td>\n",
              "    </tr>\n",
              "    <tr>\n",
              "      <th>2963</th>\n",
              "      <td>1</td>\n",
              "      <td>42.456928</td>\n",
              "      <td>23</td>\n",
              "      <td>6</td>\n",
              "      <td>0</td>\n",
              "      <td>1437</td>\n",
              "      <td>2</td>\n",
              "      <td>7</td>\n",
              "      <td>17</td>\n",
              "      <td>36.527630</td>\n",
              "      <td>3</td>\n",
              "      <td>0.075779</td>\n",
              "      <td>1.0</td>\n",
              "      <td>1977</td>\n",
              "      <td>0</td>\n",
              "      <td>100961.812500</td>\n",
              "      <td>159850.796875</td>\n",
              "      <td>175</td>\n",
              "      <td>116824.680547</td>\n",
              "      <td>554809.437500</td>\n",
              "      <td>437984.756953</td>\n",
              "    </tr>\n",
              "    <tr>\n",
              "      <th>858</th>\n",
              "      <td>1</td>\n",
              "      <td>40.279987</td>\n",
              "      <td>27</td>\n",
              "      <td>9</td>\n",
              "      <td>0</td>\n",
              "      <td>1892</td>\n",
              "      <td>1</td>\n",
              "      <td>8</td>\n",
              "      <td>15</td>\n",
              "      <td>38.652657</td>\n",
              "      <td>0</td>\n",
              "      <td>0.211401</td>\n",
              "      <td>10.0</td>\n",
              "      <td>2018</td>\n",
              "      <td>3</td>\n",
              "      <td>122710.742188</td>\n",
              "      <td>159850.796875</td>\n",
              "      <td>257</td>\n",
              "      <td>104874.881406</td>\n",
              "      <td>524279.250000</td>\n",
              "      <td>419404.368594</td>\n",
              "    </tr>\n",
              "    <tr>\n",
              "      <th>1559</th>\n",
              "      <td>3</td>\n",
              "      <td>106.867638</td>\n",
              "      <td>146</td>\n",
              "      <td>16</td>\n",
              "      <td>3</td>\n",
              "      <td>3893</td>\n",
              "      <td>10</td>\n",
              "      <td>4</td>\n",
              "      <td>22</td>\n",
              "      <td>64.341759</td>\n",
              "      <td>27</td>\n",
              "      <td>0.236108</td>\n",
              "      <td>14.0</td>\n",
              "      <td>2011</td>\n",
              "      <td>3</td>\n",
              "      <td>465889.093750</td>\n",
              "      <td>289337.968750</td>\n",
              "      <td>7</td>\n",
              "      <td>551413.128906</td>\n",
              "      <td>151073.703125</td>\n",
              "      <td>400339.425781</td>\n",
              "    </tr>\n",
              "    <tr>\n",
              "      <th>2436</th>\n",
              "      <td>1</td>\n",
              "      <td>38.704697</td>\n",
              "      <td>22</td>\n",
              "      <td>49</td>\n",
              "      <td>3</td>\n",
              "      <td>11395</td>\n",
              "      <td>4</td>\n",
              "      <td>9</td>\n",
              "      <td>22</td>\n",
              "      <td>21.993610</td>\n",
              "      <td>3</td>\n",
              "      <td>0.133215</td>\n",
              "      <td>10.0</td>\n",
              "      <td>1991</td>\n",
              "      <td>0</td>\n",
              "      <td>162263.906250</td>\n",
              "      <td>159850.796875</td>\n",
              "      <td>18</td>\n",
              "      <td>182497.975234</td>\n",
              "      <td>573999.437500</td>\n",
              "      <td>391501.462266</td>\n",
              "    </tr>\n",
              "    <tr>\n",
              "      <th>964</th>\n",
              "      <td>5</td>\n",
              "      <td>118.871948</td>\n",
              "      <td>78</td>\n",
              "      <td>21</td>\n",
              "      <td>1</td>\n",
              "      <td>4346</td>\n",
              "      <td>2</td>\n",
              "      <td>15</td>\n",
              "      <td>16</td>\n",
              "      <td>69.023506</td>\n",
              "      <td>2</td>\n",
              "      <td>0.092291</td>\n",
              "      <td>10.0</td>\n",
              "      <td>1998</td>\n",
              "      <td>1</td>\n",
              "      <td>496026.656250</td>\n",
              "      <td>410431.593750</td>\n",
              "      <td>10</td>\n",
              "      <td>503163.917500</td>\n",
              "      <td>119853.828125</td>\n",
              "      <td>383310.089375</td>\n",
              "    </tr>\n",
              "    <tr>\n",
              "      <th>347</th>\n",
              "      <td>2</td>\n",
              "      <td>62.646122</td>\n",
              "      <td>27</td>\n",
              "      <td>2</td>\n",
              "      <td>0</td>\n",
              "      <td>629</td>\n",
              "      <td>0</td>\n",
              "      <td>4</td>\n",
              "      <td>1</td>\n",
              "      <td>36.527630</td>\n",
              "      <td>1</td>\n",
              "      <td>0.072158</td>\n",
              "      <td>1.0</td>\n",
              "      <td>1977</td>\n",
              "      <td>0</td>\n",
              "      <td>166014.062500</td>\n",
              "      <td>215256.312500</td>\n",
              "      <td>257</td>\n",
              "      <td>213196.031250</td>\n",
              "      <td>593618.750000</td>\n",
              "      <td>380422.718750</td>\n",
              "    </tr>\n",
              "    <tr>\n",
              "      <th>68</th>\n",
              "      <td>1</td>\n",
              "      <td>41.358940</td>\n",
              "      <td>93</td>\n",
              "      <td>25</td>\n",
              "      <td>0</td>\n",
              "      <td>6149</td>\n",
              "      <td>0</td>\n",
              "      <td>7</td>\n",
              "      <td>16</td>\n",
              "      <td>22.449837</td>\n",
              "      <td>0</td>\n",
              "      <td>0.521867</td>\n",
              "      <td>9.0</td>\n",
              "      <td>1987</td>\n",
              "      <td>0</td>\n",
              "      <td>143967.718750</td>\n",
              "      <td>159850.796875</td>\n",
              "      <td>22</td>\n",
              "      <td>148128.396484</td>\n",
              "      <td>526817.562500</td>\n",
              "      <td>378689.166016</td>\n",
              "    </tr>\n",
              "    <tr>\n",
              "      <th>586</th>\n",
              "      <td>1</td>\n",
              "      <td>33.007565</td>\n",
              "      <td>121</td>\n",
              "      <td>19</td>\n",
              "      <td>3</td>\n",
              "      <td>3293</td>\n",
              "      <td>7</td>\n",
              "      <td>2</td>\n",
              "      <td>12</td>\n",
              "      <td>16.212633</td>\n",
              "      <td>16</td>\n",
              "      <td>0.212515</td>\n",
              "      <td>7.0</td>\n",
              "      <td>1974</td>\n",
              "      <td>0</td>\n",
              "      <td>209441.734375</td>\n",
              "      <td>159850.796875</td>\n",
              "      <td>11</td>\n",
              "      <td>174923.143750</td>\n",
              "      <td>548502.062500</td>\n",
              "      <td>373578.918750</td>\n",
              "    </tr>\n",
              "  </tbody>\n",
              "</table>\n",
              "</div>"
            ],
            "text/plain": [
              "      Rooms      Square  ...     Price_test             SD\n",
              "1026      1   34.382664  ...  624156.000000  488619.316094\n",
              "940       1   50.299168  ...  608674.125000  462256.841094\n",
              "2963      1   42.456928  ...  554809.437500  437984.756953\n",
              "858       1   40.279987  ...  524279.250000  419404.368594\n",
              "1559      3  106.867638  ...  151073.703125  400339.425781\n",
              "2436      1   38.704697  ...  573999.437500  391501.462266\n",
              "964       5  118.871948  ...  119853.828125  383310.089375\n",
              "347       2   62.646122  ...  593618.750000  380422.718750\n",
              "68        1   41.358940  ...  526817.562500  378689.166016\n",
              "586       1   33.007565  ...  548502.062500  373578.918750\n",
              "\n",
              "[10 rows x 21 columns]"
            ]
          },
          "metadata": {
            "tags": []
          },
          "execution_count": 353
        }
      ]
    },
    {
      "cell_type": "markdown",
      "metadata": {
        "id": "cLNt0-eiknYj"
      },
      "source": [
        "### Gradient Boosting регрессия\r\n",
        "\r\n"
      ]
    },
    {
      "cell_type": "code",
      "metadata": {
        "colab": {
          "base_uri": "https://localhost:8080/"
        },
        "id": "sOnJVOeIknYj",
        "outputId": "0554e0bf-6cf8-494e-a81b-fbd4294e16f7"
      },
      "source": [
        "gradient_boosting_regressor_model = GradientBoostingRegressor()\n",
        "gradient_boosting_regressor_model.fit(X_train, y_train)"
      ],
      "execution_count": 354,
      "outputs": [
        {
          "output_type": "execute_result",
          "data": {
            "text/plain": [
              "GradientBoostingRegressor(alpha=0.9, ccp_alpha=0.0, criterion='friedman_mse',\n",
              "                          init=None, learning_rate=0.1, loss='ls', max_depth=3,\n",
              "                          max_features=None, max_leaf_nodes=None,\n",
              "                          min_impurity_decrease=0.0, min_impurity_split=None,\n",
              "                          min_samples_leaf=1, min_samples_split=2,\n",
              "                          min_weight_fraction_leaf=0.0, n_estimators=100,\n",
              "                          n_iter_no_change=None, presort='deprecated',\n",
              "                          random_state=None, subsample=1.0, tol=0.0001,\n",
              "                          validation_fraction=0.1, verbose=0, warm_start=False)"
            ]
          },
          "metadata": {
            "tags": []
          },
          "execution_count": 354
        }
      ]
    },
    {
      "cell_type": "code",
      "metadata": {
        "id": "nPz9V-seknYk"
      },
      "source": [
        "models_dict['Gradient Boosting регрессия'] = gradient_boosting_regressor_model"
      ],
      "execution_count": 355,
      "outputs": []
    },
    {
      "cell_type": "markdown",
      "metadata": {
        "id": "3wkQ6zQgknYk"
      },
      "source": [
        "#### Тест Gradient Boosting регрессия"
      ]
    },
    {
      "cell_type": "code",
      "metadata": {
        "colab": {
          "base_uri": "https://localhost:8080/",
          "height": 295
        },
        "id": "q4SQtUMjknYk",
        "outputId": "dc182541-8081-4333-92ad-ae850948cb58"
      },
      "source": [
        "model_test(gradient_boosting_regressor_model,\n",
        "           'Gradient Boosting регрессия(тест)', X_test, y_test)"
      ],
      "execution_count": 356,
      "outputs": [
        {
          "output_type": "display_data",
          "data": {
            "image/png": "[encoded data removed]",
            "text/plain": [
              "<Figure size 432x288 with 1 Axes>"
            ]
          },
          "metadata": {
            "tags": [],
            "needs_background": "light"
          }
        }
      ]
    },
    {
      "cell_type": "code",
      "metadata": {
        "colab": {
          "base_uri": "https://localhost:8080/",
          "height": 379
        },
        "id": "bu23T6kdknYk",
        "outputId": "25611ef2-538b-41c4-a3f8-f94a3ea86172"
      },
      "source": [
        "model_top_deviation(gradient_boosting_regressor_model, X_test, y_test)"
      ],
      "execution_count": 357,
      "outputs": [
        {
          "output_type": "execute_result",
          "data": {
            "text/html": [
              "<div>\n",
              "<style scoped>\n",
              "    .dataframe tbody tr th:only-of-type {\n",
              "        vertical-align: middle;\n",
              "    }\n",
              "\n",
              "    .dataframe tbody tr th {\n",
              "        vertical-align: top;\n",
              "    }\n",
              "\n",
              "    .dataframe thead th {\n",
              "        text-align: right;\n",
              "    }\n",
              "</style>\n",
              "<table border=\"1\" class=\"dataframe\">\n",
              "  <thead>\n",
              "    <tr style=\"text-align: right;\">\n",
              "      <th></th>\n",
              "      <th>Rooms</th>\n",
              "      <th>Square</th>\n",
              "      <th>DistrictId</th>\n",
              "      <th>Social_1</th>\n",
              "      <th>Helthcare_2</th>\n",
              "      <th>Social_2</th>\n",
              "      <th>Shops_1</th>\n",
              "      <th>Floor</th>\n",
              "      <th>HouseFloor</th>\n",
              "      <th>LifeSquare</th>\n",
              "      <th>Social_3</th>\n",
              "      <th>Ecology_1</th>\n",
              "      <th>KitchenSquare</th>\n",
              "      <th>HouseYear</th>\n",
              "      <th>cluster_year</th>\n",
              "      <th>mean_price_dr</th>\n",
              "      <th>mean_price_by_rooms</th>\n",
              "      <th>large_district</th>\n",
              "      <th>Price</th>\n",
              "      <th>Price_test</th>\n",
              "      <th>SD</th>\n",
              "    </tr>\n",
              "  </thead>\n",
              "  <tbody>\n",
              "    <tr>\n",
              "      <th>1026</th>\n",
              "      <td>1</td>\n",
              "      <td>34.382664</td>\n",
              "      <td>29</td>\n",
              "      <td>31</td>\n",
              "      <td>1</td>\n",
              "      <td>6119</td>\n",
              "      <td>2</td>\n",
              "      <td>7</td>\n",
              "      <td>9</td>\n",
              "      <td>22.438042</td>\n",
              "      <td>4</td>\n",
              "      <td>0.069660</td>\n",
              "      <td>5.0</td>\n",
              "      <td>1965</td>\n",
              "      <td>2</td>\n",
              "      <td>146802.281250</td>\n",
              "      <td>159850.796875</td>\n",
              "      <td>27</td>\n",
              "      <td>142365.680935</td>\n",
              "      <td>624156.000000</td>\n",
              "      <td>481790.319065</td>\n",
              "    </tr>\n",
              "    <tr>\n",
              "      <th>940</th>\n",
              "      <td>1</td>\n",
              "      <td>50.299168</td>\n",
              "      <td>9</td>\n",
              "      <td>11</td>\n",
              "      <td>0</td>\n",
              "      <td>2370</td>\n",
              "      <td>1</td>\n",
              "      <td>11</td>\n",
              "      <td>16</td>\n",
              "      <td>24.349604</td>\n",
              "      <td>0</td>\n",
              "      <td>0.136244</td>\n",
              "      <td>9.0</td>\n",
              "      <td>2006</td>\n",
              "      <td>1</td>\n",
              "      <td>141847.359375</td>\n",
              "      <td>159850.796875</td>\n",
              "      <td>89</td>\n",
              "      <td>157559.234632</td>\n",
              "      <td>608674.125000</td>\n",
              "      <td>451114.890368</td>\n",
              "    </tr>\n",
              "    <tr>\n",
              "      <th>2963</th>\n",
              "      <td>1</td>\n",
              "      <td>42.456928</td>\n",
              "      <td>23</td>\n",
              "      <td>6</td>\n",
              "      <td>0</td>\n",
              "      <td>1437</td>\n",
              "      <td>2</td>\n",
              "      <td>7</td>\n",
              "      <td>17</td>\n",
              "      <td>36.527630</td>\n",
              "      <td>3</td>\n",
              "      <td>0.075779</td>\n",
              "      <td>1.0</td>\n",
              "      <td>1977</td>\n",
              "      <td>0</td>\n",
              "      <td>100961.812500</td>\n",
              "      <td>159850.796875</td>\n",
              "      <td>175</td>\n",
              "      <td>119917.483518</td>\n",
              "      <td>554809.437500</td>\n",
              "      <td>434891.953982</td>\n",
              "    </tr>\n",
              "    <tr>\n",
              "      <th>347</th>\n",
              "      <td>2</td>\n",
              "      <td>62.646122</td>\n",
              "      <td>27</td>\n",
              "      <td>2</td>\n",
              "      <td>0</td>\n",
              "      <td>629</td>\n",
              "      <td>0</td>\n",
              "      <td>4</td>\n",
              "      <td>1</td>\n",
              "      <td>36.527630</td>\n",
              "      <td>1</td>\n",
              "      <td>0.072158</td>\n",
              "      <td>1.0</td>\n",
              "      <td>1977</td>\n",
              "      <td>0</td>\n",
              "      <td>166014.062500</td>\n",
              "      <td>215256.312500</td>\n",
              "      <td>257</td>\n",
              "      <td>169553.734831</td>\n",
              "      <td>593618.750000</td>\n",
              "      <td>424065.015169</td>\n",
              "    </tr>\n",
              "    <tr>\n",
              "      <th>858</th>\n",
              "      <td>1</td>\n",
              "      <td>40.279987</td>\n",
              "      <td>27</td>\n",
              "      <td>9</td>\n",
              "      <td>0</td>\n",
              "      <td>1892</td>\n",
              "      <td>1</td>\n",
              "      <td>8</td>\n",
              "      <td>15</td>\n",
              "      <td>38.652657</td>\n",
              "      <td>0</td>\n",
              "      <td>0.211401</td>\n",
              "      <td>10.0</td>\n",
              "      <td>2018</td>\n",
              "      <td>3</td>\n",
              "      <td>122710.742188</td>\n",
              "      <td>159850.796875</td>\n",
              "      <td>257</td>\n",
              "      <td>115536.119117</td>\n",
              "      <td>524279.250000</td>\n",
              "      <td>408743.130883</td>\n",
              "    </tr>\n",
              "    <tr>\n",
              "      <th>2436</th>\n",
              "      <td>1</td>\n",
              "      <td>38.704697</td>\n",
              "      <td>22</td>\n",
              "      <td>49</td>\n",
              "      <td>3</td>\n",
              "      <td>11395</td>\n",
              "      <td>4</td>\n",
              "      <td>9</td>\n",
              "      <td>22</td>\n",
              "      <td>21.993610</td>\n",
              "      <td>3</td>\n",
              "      <td>0.133215</td>\n",
              "      <td>10.0</td>\n",
              "      <td>1991</td>\n",
              "      <td>0</td>\n",
              "      <td>162263.906250</td>\n",
              "      <td>159850.796875</td>\n",
              "      <td>18</td>\n",
              "      <td>170966.866901</td>\n",
              "      <td>573999.437500</td>\n",
              "      <td>403032.570599</td>\n",
              "    </tr>\n",
              "    <tr>\n",
              "      <th>964</th>\n",
              "      <td>5</td>\n",
              "      <td>118.871948</td>\n",
              "      <td>78</td>\n",
              "      <td>21</td>\n",
              "      <td>1</td>\n",
              "      <td>4346</td>\n",
              "      <td>2</td>\n",
              "      <td>15</td>\n",
              "      <td>16</td>\n",
              "      <td>69.023506</td>\n",
              "      <td>2</td>\n",
              "      <td>0.092291</td>\n",
              "      <td>10.0</td>\n",
              "      <td>1998</td>\n",
              "      <td>1</td>\n",
              "      <td>496026.656250</td>\n",
              "      <td>410431.593750</td>\n",
              "      <td>10</td>\n",
              "      <td>509404.921900</td>\n",
              "      <td>119853.828125</td>\n",
              "      <td>389551.093775</td>\n",
              "    </tr>\n",
              "    <tr>\n",
              "      <th>2663</th>\n",
              "      <td>2</td>\n",
              "      <td>68.983444</td>\n",
              "      <td>23</td>\n",
              "      <td>0</td>\n",
              "      <td>0</td>\n",
              "      <td>168</td>\n",
              "      <td>0</td>\n",
              "      <td>1</td>\n",
              "      <td>3</td>\n",
              "      <td>67.122673</td>\n",
              "      <td>0</td>\n",
              "      <td>0.034656</td>\n",
              "      <td>0.0</td>\n",
              "      <td>2014</td>\n",
              "      <td>3</td>\n",
              "      <td>135324.359375</td>\n",
              "      <td>215256.312500</td>\n",
              "      <td>175</td>\n",
              "      <td>124276.130580</td>\n",
              "      <td>506175.000000</td>\n",
              "      <td>381898.869420</td>\n",
              "    </tr>\n",
              "    <tr>\n",
              "      <th>68</th>\n",
              "      <td>1</td>\n",
              "      <td>41.358940</td>\n",
              "      <td>93</td>\n",
              "      <td>25</td>\n",
              "      <td>0</td>\n",
              "      <td>6149</td>\n",
              "      <td>0</td>\n",
              "      <td>7</td>\n",
              "      <td>16</td>\n",
              "      <td>22.449837</td>\n",
              "      <td>0</td>\n",
              "      <td>0.521867</td>\n",
              "      <td>9.0</td>\n",
              "      <td>1987</td>\n",
              "      <td>0</td>\n",
              "      <td>143967.718750</td>\n",
              "      <td>159850.796875</td>\n",
              "      <td>22</td>\n",
              "      <td>146607.915650</td>\n",
              "      <td>526817.562500</td>\n",
              "      <td>380209.646850</td>\n",
              "    </tr>\n",
              "    <tr>\n",
              "      <th>106</th>\n",
              "      <td>2</td>\n",
              "      <td>44.537441</td>\n",
              "      <td>10</td>\n",
              "      <td>33</td>\n",
              "      <td>0</td>\n",
              "      <td>8667</td>\n",
              "      <td>6</td>\n",
              "      <td>8</td>\n",
              "      <td>9</td>\n",
              "      <td>32.103275</td>\n",
              "      <td>2</td>\n",
              "      <td>0.282798</td>\n",
              "      <td>5.0</td>\n",
              "      <td>1971</td>\n",
              "      <td>2</td>\n",
              "      <td>226197.562500</td>\n",
              "      <td>215256.312500</td>\n",
              "      <td>20</td>\n",
              "      <td>203619.212358</td>\n",
              "      <td>574631.312500</td>\n",
              "      <td>371012.100142</td>\n",
              "    </tr>\n",
              "  </tbody>\n",
              "</table>\n",
              "</div>"
            ],
            "text/plain": [
              "      Rooms      Square  ...     Price_test             SD\n",
              "1026      1   34.382664  ...  624156.000000  481790.319065\n",
              "940       1   50.299168  ...  608674.125000  451114.890368\n",
              "2963      1   42.456928  ...  554809.437500  434891.953982\n",
              "347       2   62.646122  ...  593618.750000  424065.015169\n",
              "858       1   40.279987  ...  524279.250000  408743.130883\n",
              "2436      1   38.704697  ...  573999.437500  403032.570599\n",
              "964       5  118.871948  ...  119853.828125  389551.093775\n",
              "2663      2   68.983444  ...  506175.000000  381898.869420\n",
              "68        1   41.358940  ...  526817.562500  380209.646850\n",
              "106       2   44.537441  ...  574631.312500  371012.100142\n",
              "\n",
              "[10 rows x 21 columns]"
            ]
          },
          "metadata": {
            "tags": []
          },
          "execution_count": 357
        }
      ]
    },
    {
      "cell_type": "markdown",
      "metadata": {
        "id": "nqwkABfRknYk"
      },
      "source": [
        "### LassoCV"
      ]
    },
    {
      "cell_type": "code",
      "metadata": {
        "colab": {
          "base_uri": "https://localhost:8080/"
        },
        "id": "W0jPRnS1knYk",
        "outputId": "e939e4e9-e320-4a77-c268-7c3613d24257"
      },
      "source": [
        "lasso_cv_model = LassoCV()\n",
        "lasso_cv_model.fit(X_train, y_train)"
      ],
      "execution_count": 358,
      "outputs": [
        {
          "output_type": "execute_result",
          "data": {
            "text/plain": [
              "LassoCV(alphas=None, copy_X=True, cv=None, eps=0.001, fit_intercept=True,\n",
              "        max_iter=1000, n_alphas=100, n_jobs=None, normalize=False,\n",
              "        positive=False, precompute='auto', random_state=None,\n",
              "        selection='cyclic', tol=0.0001, verbose=False)"
            ]
          },
          "metadata": {
            "tags": []
          },
          "execution_count": 358
        }
      ]
    },
    {
      "cell_type": "code",
      "metadata": {
        "id": "hXSj8vLVknYl"
      },
      "source": [
        "models_dict['LassoCV'] = lasso_cv_model"
      ],
      "execution_count": 359,
      "outputs": []
    },
    {
      "cell_type": "markdown",
      "metadata": {
        "id": "1rR6Jv7NknYl"
      },
      "source": [
        "#### Test LassoCV"
      ]
    },
    {
      "cell_type": "code",
      "metadata": {
        "colab": {
          "base_uri": "https://localhost:8080/",
          "height": 295
        },
        "id": "z4wfh206knYl",
        "outputId": "f85edddb-9c4b-44ed-a9e5-cf080a4d3dd0"
      },
      "source": [
        "model_test(lasso_cv_model, 'LassoCV(тест)', X_test, y_test)"
      ],
      "execution_count": 360,
      "outputs": [
        {
          "output_type": "display_data",
          "data": {
            "image/png": "[encoded data removed]",
            "text/plain": [
              "<Figure size 432x288 with 1 Axes>"
            ]
          },
          "metadata": {
            "tags": [],
            "needs_background": "light"
          }
        }
      ]
    },
    {
      "cell_type": "code",
      "metadata": {
        "colab": {
          "base_uri": "https://localhost:8080/",
          "height": 379
        },
        "id": "yBuCvK3HknYl",
        "outputId": "9e51bf30-29fb-4303-f573-17e81bb32c1a"
      },
      "source": [
        "model_top_deviation(lasso_cv_model, X_test, y_test)"
      ],
      "execution_count": 361,
      "outputs": [
        {
          "output_type": "execute_result",
          "data": {
            "text/html": [
              "<div>\n",
              "<style scoped>\n",
              "    .dataframe tbody tr th:only-of-type {\n",
              "        vertical-align: middle;\n",
              "    }\n",
              "\n",
              "    .dataframe tbody tr th {\n",
              "        vertical-align: top;\n",
              "    }\n",
              "\n",
              "    .dataframe thead th {\n",
              "        text-align: right;\n",
              "    }\n",
              "</style>\n",
              "<table border=\"1\" class=\"dataframe\">\n",
              "  <thead>\n",
              "    <tr style=\"text-align: right;\">\n",
              "      <th></th>\n",
              "      <th>Rooms</th>\n",
              "      <th>Square</th>\n",
              "      <th>DistrictId</th>\n",
              "      <th>Social_1</th>\n",
              "      <th>Helthcare_2</th>\n",
              "      <th>Social_2</th>\n",
              "      <th>Shops_1</th>\n",
              "      <th>Floor</th>\n",
              "      <th>HouseFloor</th>\n",
              "      <th>LifeSquare</th>\n",
              "      <th>Social_3</th>\n",
              "      <th>Ecology_1</th>\n",
              "      <th>KitchenSquare</th>\n",
              "      <th>HouseYear</th>\n",
              "      <th>cluster_year</th>\n",
              "      <th>mean_price_dr</th>\n",
              "      <th>mean_price_by_rooms</th>\n",
              "      <th>large_district</th>\n",
              "      <th>Price</th>\n",
              "      <th>Price_test</th>\n",
              "      <th>SD</th>\n",
              "    </tr>\n",
              "  </thead>\n",
              "  <tbody>\n",
              "    <tr>\n",
              "      <th>1026</th>\n",
              "      <td>1</td>\n",
              "      <td>34.382664</td>\n",
              "      <td>29</td>\n",
              "      <td>31</td>\n",
              "      <td>1</td>\n",
              "      <td>6119</td>\n",
              "      <td>2</td>\n",
              "      <td>7</td>\n",
              "      <td>9</td>\n",
              "      <td>22.438042</td>\n",
              "      <td>4</td>\n",
              "      <td>0.069660</td>\n",
              "      <td>5.0</td>\n",
              "      <td>1965</td>\n",
              "      <td>2</td>\n",
              "      <td>146802.281250</td>\n",
              "      <td>159850.796875</td>\n",
              "      <td>27</td>\n",
              "      <td>146990.937500</td>\n",
              "      <td>624156.000000</td>\n",
              "      <td>477165.06250</td>\n",
              "    </tr>\n",
              "    <tr>\n",
              "      <th>940</th>\n",
              "      <td>1</td>\n",
              "      <td>50.299168</td>\n",
              "      <td>9</td>\n",
              "      <td>11</td>\n",
              "      <td>0</td>\n",
              "      <td>2370</td>\n",
              "      <td>1</td>\n",
              "      <td>11</td>\n",
              "      <td>16</td>\n",
              "      <td>24.349604</td>\n",
              "      <td>0</td>\n",
              "      <td>0.136244</td>\n",
              "      <td>9.0</td>\n",
              "      <td>2006</td>\n",
              "      <td>1</td>\n",
              "      <td>141847.359375</td>\n",
              "      <td>159850.796875</td>\n",
              "      <td>89</td>\n",
              "      <td>142098.312500</td>\n",
              "      <td>608674.125000</td>\n",
              "      <td>466575.81250</td>\n",
              "    </tr>\n",
              "    <tr>\n",
              "      <th>2963</th>\n",
              "      <td>1</td>\n",
              "      <td>42.456928</td>\n",
              "      <td>23</td>\n",
              "      <td>6</td>\n",
              "      <td>0</td>\n",
              "      <td>1437</td>\n",
              "      <td>2</td>\n",
              "      <td>7</td>\n",
              "      <td>17</td>\n",
              "      <td>36.527630</td>\n",
              "      <td>3</td>\n",
              "      <td>0.075779</td>\n",
              "      <td>1.0</td>\n",
              "      <td>1977</td>\n",
              "      <td>0</td>\n",
              "      <td>100961.812500</td>\n",
              "      <td>159850.796875</td>\n",
              "      <td>175</td>\n",
              "      <td>101726.812500</td>\n",
              "      <td>554809.437500</td>\n",
              "      <td>453082.62500</td>\n",
              "    </tr>\n",
              "    <tr>\n",
              "      <th>347</th>\n",
              "      <td>2</td>\n",
              "      <td>62.646122</td>\n",
              "      <td>27</td>\n",
              "      <td>2</td>\n",
              "      <td>0</td>\n",
              "      <td>629</td>\n",
              "      <td>0</td>\n",
              "      <td>4</td>\n",
              "      <td>1</td>\n",
              "      <td>36.527630</td>\n",
              "      <td>1</td>\n",
              "      <td>0.072158</td>\n",
              "      <td>1.0</td>\n",
              "      <td>1977</td>\n",
              "      <td>0</td>\n",
              "      <td>166014.062500</td>\n",
              "      <td>215256.312500</td>\n",
              "      <td>257</td>\n",
              "      <td>165961.171875</td>\n",
              "      <td>593618.750000</td>\n",
              "      <td>427657.56250</td>\n",
              "    </tr>\n",
              "    <tr>\n",
              "      <th>2436</th>\n",
              "      <td>1</td>\n",
              "      <td>38.704697</td>\n",
              "      <td>22</td>\n",
              "      <td>49</td>\n",
              "      <td>3</td>\n",
              "      <td>11395</td>\n",
              "      <td>4</td>\n",
              "      <td>9</td>\n",
              "      <td>22</td>\n",
              "      <td>21.993610</td>\n",
              "      <td>3</td>\n",
              "      <td>0.133215</td>\n",
              "      <td>10.0</td>\n",
              "      <td>1991</td>\n",
              "      <td>0</td>\n",
              "      <td>162263.906250</td>\n",
              "      <td>159850.796875</td>\n",
              "      <td>18</td>\n",
              "      <td>162258.156250</td>\n",
              "      <td>573999.437500</td>\n",
              "      <td>411741.28125</td>\n",
              "    </tr>\n",
              "    <tr>\n",
              "      <th>858</th>\n",
              "      <td>1</td>\n",
              "      <td>40.279987</td>\n",
              "      <td>27</td>\n",
              "      <td>9</td>\n",
              "      <td>0</td>\n",
              "      <td>1892</td>\n",
              "      <td>1</td>\n",
              "      <td>8</td>\n",
              "      <td>15</td>\n",
              "      <td>38.652657</td>\n",
              "      <td>0</td>\n",
              "      <td>0.211401</td>\n",
              "      <td>10.0</td>\n",
              "      <td>2018</td>\n",
              "      <td>3</td>\n",
              "      <td>122710.742188</td>\n",
              "      <td>159850.796875</td>\n",
              "      <td>257</td>\n",
              "      <td>123202.296875</td>\n",
              "      <td>524279.250000</td>\n",
              "      <td>401076.93750</td>\n",
              "    </tr>\n",
              "    <tr>\n",
              "      <th>68</th>\n",
              "      <td>1</td>\n",
              "      <td>41.358940</td>\n",
              "      <td>93</td>\n",
              "      <td>25</td>\n",
              "      <td>0</td>\n",
              "      <td>6149</td>\n",
              "      <td>0</td>\n",
              "      <td>7</td>\n",
              "      <td>16</td>\n",
              "      <td>22.449837</td>\n",
              "      <td>0</td>\n",
              "      <td>0.521867</td>\n",
              "      <td>9.0</td>\n",
              "      <td>1987</td>\n",
              "      <td>0</td>\n",
              "      <td>143967.718750</td>\n",
              "      <td>159850.796875</td>\n",
              "      <td>22</td>\n",
              "      <td>144192.015625</td>\n",
              "      <td>526817.562500</td>\n",
              "      <td>382625.56250</td>\n",
              "    </tr>\n",
              "    <tr>\n",
              "      <th>2754</th>\n",
              "      <td>2</td>\n",
              "      <td>54.509392</td>\n",
              "      <td>13</td>\n",
              "      <td>74</td>\n",
              "      <td>5</td>\n",
              "      <td>19083</td>\n",
              "      <td>15</td>\n",
              "      <td>12</td>\n",
              "      <td>17</td>\n",
              "      <td>34.357174</td>\n",
              "      <td>2</td>\n",
              "      <td>0.090799</td>\n",
              "      <td>9.0</td>\n",
              "      <td>2002</td>\n",
              "      <td>1</td>\n",
              "      <td>231706.984375</td>\n",
              "      <td>215256.312500</td>\n",
              "      <td>30</td>\n",
              "      <td>230828.140625</td>\n",
              "      <td>610557.375000</td>\n",
              "      <td>379729.25000</td>\n",
              "    </tr>\n",
              "    <tr>\n",
              "      <th>964</th>\n",
              "      <td>5</td>\n",
              "      <td>118.871948</td>\n",
              "      <td>78</td>\n",
              "      <td>21</td>\n",
              "      <td>1</td>\n",
              "      <td>4346</td>\n",
              "      <td>2</td>\n",
              "      <td>15</td>\n",
              "      <td>16</td>\n",
              "      <td>69.023506</td>\n",
              "      <td>2</td>\n",
              "      <td>0.092291</td>\n",
              "      <td>10.0</td>\n",
              "      <td>1998</td>\n",
              "      <td>1</td>\n",
              "      <td>496026.656250</td>\n",
              "      <td>410431.593750</td>\n",
              "      <td>10</td>\n",
              "      <td>491824.562500</td>\n",
              "      <td>119853.828125</td>\n",
              "      <td>371970.75000</td>\n",
              "    </tr>\n",
              "    <tr>\n",
              "      <th>2663</th>\n",
              "      <td>2</td>\n",
              "      <td>68.983444</td>\n",
              "      <td>23</td>\n",
              "      <td>0</td>\n",
              "      <td>0</td>\n",
              "      <td>168</td>\n",
              "      <td>0</td>\n",
              "      <td>1</td>\n",
              "      <td>3</td>\n",
              "      <td>67.122673</td>\n",
              "      <td>0</td>\n",
              "      <td>0.034656</td>\n",
              "      <td>0.0</td>\n",
              "      <td>2014</td>\n",
              "      <td>3</td>\n",
              "      <td>135324.359375</td>\n",
              "      <td>215256.312500</td>\n",
              "      <td>175</td>\n",
              "      <td>135657.328125</td>\n",
              "      <td>506175.000000</td>\n",
              "      <td>370517.68750</td>\n",
              "    </tr>\n",
              "  </tbody>\n",
              "</table>\n",
              "</div>"
            ],
            "text/plain": [
              "      Rooms      Square  DistrictId  ...          Price     Price_test            SD\n",
              "1026      1   34.382664          29  ...  146990.937500  624156.000000  477165.06250\n",
              "940       1   50.299168           9  ...  142098.312500  608674.125000  466575.81250\n",
              "2963      1   42.456928          23  ...  101726.812500  554809.437500  453082.62500\n",
              "347       2   62.646122          27  ...  165961.171875  593618.750000  427657.56250\n",
              "2436      1   38.704697          22  ...  162258.156250  573999.437500  411741.28125\n",
              "858       1   40.279987          27  ...  123202.296875  524279.250000  401076.93750\n",
              "68        1   41.358940          93  ...  144192.015625  526817.562500  382625.56250\n",
              "2754      2   54.509392          13  ...  230828.140625  610557.375000  379729.25000\n",
              "964       5  118.871948          78  ...  491824.562500  119853.828125  371970.75000\n",
              "2663      2   68.983444          23  ...  135657.328125  506175.000000  370517.68750\n",
              "\n",
              "[10 rows x 21 columns]"
            ]
          },
          "metadata": {
            "tags": []
          },
          "execution_count": 361
        }
      ]
    },
    {
      "cell_type": "code",
      "metadata": {
        "colab": {
          "base_uri": "https://localhost:8080/",
          "height": 439
        },
        "id": "4DcR-DIgknYl",
        "outputId": "c1cad608-67ed-44f7-be09-3587c84792bb"
      },
      "source": [
        "all_data.loc[all_data['KitchenSquare'] < 3]"
      ],
      "execution_count": 362,
      "outputs": [
        {
          "output_type": "execute_result",
          "data": {
            "text/html": [
              "<div>\n",
              "<style scoped>\n",
              "    .dataframe tbody tr th:only-of-type {\n",
              "        vertical-align: middle;\n",
              "    }\n",
              "\n",
              "    .dataframe tbody tr th {\n",
              "        vertical-align: top;\n",
              "    }\n",
              "\n",
              "    .dataframe thead th {\n",
              "        text-align: right;\n",
              "    }\n",
              "</style>\n",
              "<table border=\"1\" class=\"dataframe\">\n",
              "  <thead>\n",
              "    <tr style=\"text-align: right;\">\n",
              "      <th></th>\n",
              "      <th>Id</th>\n",
              "      <th>DistrictId</th>\n",
              "      <th>Rooms</th>\n",
              "      <th>Square</th>\n",
              "      <th>LifeSquare</th>\n",
              "      <th>KitchenSquare</th>\n",
              "      <th>Floor</th>\n",
              "      <th>HouseFloor</th>\n",
              "      <th>HouseYear</th>\n",
              "      <th>Ecology_1</th>\n",
              "      <th>Ecology_2</th>\n",
              "      <th>Ecology_3</th>\n",
              "      <th>Social_1</th>\n",
              "      <th>Social_2</th>\n",
              "      <th>Social_3</th>\n",
              "      <th>Healthcare_1</th>\n",
              "      <th>Helthcare_2</th>\n",
              "      <th>Shops_1</th>\n",
              "      <th>Shops_2</th>\n",
              "    </tr>\n",
              "  </thead>\n",
              "  <tbody>\n",
              "    <tr>\n",
              "      <th>3</th>\n",
              "      <td>2352</td>\n",
              "      <td>1</td>\n",
              "      <td>1</td>\n",
              "      <td>40.409908</td>\n",
              "      <td>NaN</td>\n",
              "      <td>1.0</td>\n",
              "      <td>10</td>\n",
              "      <td>22</td>\n",
              "      <td>1977</td>\n",
              "      <td>0.007122</td>\n",
              "      <td>B</td>\n",
              "      <td>B</td>\n",
              "      <td>1</td>\n",
              "      <td>264</td>\n",
              "      <td>0</td>\n",
              "      <td>NaN</td>\n",
              "      <td>0</td>\n",
              "      <td>1</td>\n",
              "      <td>B</td>\n",
              "    </tr>\n",
              "    <tr>\n",
              "      <th>8</th>\n",
              "      <td>9951</td>\n",
              "      <td>1</td>\n",
              "      <td>1</td>\n",
              "      <td>46.887894</td>\n",
              "      <td>44.628132</td>\n",
              "      <td>1.0</td>\n",
              "      <td>12</td>\n",
              "      <td>20</td>\n",
              "      <td>1977</td>\n",
              "      <td>0.007122</td>\n",
              "      <td>B</td>\n",
              "      <td>B</td>\n",
              "      <td>1</td>\n",
              "      <td>264</td>\n",
              "      <td>0</td>\n",
              "      <td>NaN</td>\n",
              "      <td>0</td>\n",
              "      <td>1</td>\n",
              "      <td>B</td>\n",
              "    </tr>\n",
              "    <tr>\n",
              "      <th>9</th>\n",
              "      <td>8094</td>\n",
              "      <td>6</td>\n",
              "      <td>3</td>\n",
              "      <td>79.867477</td>\n",
              "      <td>75.085129</td>\n",
              "      <td>1.0</td>\n",
              "      <td>3</td>\n",
              "      <td>17</td>\n",
              "      <td>2014</td>\n",
              "      <td>0.243205</td>\n",
              "      <td>B</td>\n",
              "      <td>B</td>\n",
              "      <td>5</td>\n",
              "      <td>1564</td>\n",
              "      <td>0</td>\n",
              "      <td>540.0</td>\n",
              "      <td>0</td>\n",
              "      <td>0</td>\n",
              "      <td>B</td>\n",
              "    </tr>\n",
              "    <tr>\n",
              "      <th>18</th>\n",
              "      <td>4581</td>\n",
              "      <td>1</td>\n",
              "      <td>1</td>\n",
              "      <td>47.582481</td>\n",
              "      <td>NaN</td>\n",
              "      <td>1.0</td>\n",
              "      <td>16</td>\n",
              "      <td>16</td>\n",
              "      <td>1977</td>\n",
              "      <td>0.007122</td>\n",
              "      <td>B</td>\n",
              "      <td>B</td>\n",
              "      <td>1</td>\n",
              "      <td>264</td>\n",
              "      <td>0</td>\n",
              "      <td>NaN</td>\n",
              "      <td>0</td>\n",
              "      <td>1</td>\n",
              "      <td>B</td>\n",
              "    </tr>\n",
              "    <tr>\n",
              "      <th>19</th>\n",
              "      <td>367</td>\n",
              "      <td>45</td>\n",
              "      <td>1</td>\n",
              "      <td>42.367290</td>\n",
              "      <td>40.012527</td>\n",
              "      <td>1.0</td>\n",
              "      <td>16</td>\n",
              "      <td>14</td>\n",
              "      <td>2015</td>\n",
              "      <td>0.195781</td>\n",
              "      <td>B</td>\n",
              "      <td>B</td>\n",
              "      <td>23</td>\n",
              "      <td>5212</td>\n",
              "      <td>6</td>\n",
              "      <td>NaN</td>\n",
              "      <td>3</td>\n",
              "      <td>2</td>\n",
              "      <td>B</td>\n",
              "    </tr>\n",
              "    <tr>\n",
              "      <th>...</th>\n",
              "      <td>...</td>\n",
              "      <td>...</td>\n",
              "      <td>...</td>\n",
              "      <td>...</td>\n",
              "      <td>...</td>\n",
              "      <td>...</td>\n",
              "      <td>...</td>\n",
              "      <td>...</td>\n",
              "      <td>...</td>\n",
              "      <td>...</td>\n",
              "      <td>...</td>\n",
              "      <td>...</td>\n",
              "      <td>...</td>\n",
              "      <td>...</td>\n",
              "      <td>...</td>\n",
              "      <td>...</td>\n",
              "      <td>...</td>\n",
              "      <td>...</td>\n",
              "      <td>...</td>\n",
              "    </tr>\n",
              "    <tr>\n",
              "      <th>14986</th>\n",
              "      <td>10616</td>\n",
              "      <td>1</td>\n",
              "      <td>2</td>\n",
              "      <td>77.463539</td>\n",
              "      <td>NaN</td>\n",
              "      <td>1.0</td>\n",
              "      <td>5</td>\n",
              "      <td>16</td>\n",
              "      <td>2017</td>\n",
              "      <td>0.007122</td>\n",
              "      <td>B</td>\n",
              "      <td>B</td>\n",
              "      <td>1</td>\n",
              "      <td>264</td>\n",
              "      <td>0</td>\n",
              "      <td>NaN</td>\n",
              "      <td>0</td>\n",
              "      <td>1</td>\n",
              "      <td>B</td>\n",
              "    </tr>\n",
              "    <tr>\n",
              "      <th>14988</th>\n",
              "      <td>11890</td>\n",
              "      <td>1</td>\n",
              "      <td>2</td>\n",
              "      <td>66.683296</td>\n",
              "      <td>NaN</td>\n",
              "      <td>1.0</td>\n",
              "      <td>6</td>\n",
              "      <td>17</td>\n",
              "      <td>1977</td>\n",
              "      <td>0.007122</td>\n",
              "      <td>B</td>\n",
              "      <td>B</td>\n",
              "      <td>1</td>\n",
              "      <td>264</td>\n",
              "      <td>0</td>\n",
              "      <td>NaN</td>\n",
              "      <td>0</td>\n",
              "      <td>1</td>\n",
              "      <td>B</td>\n",
              "    </tr>\n",
              "    <tr>\n",
              "      <th>14989</th>\n",
              "      <td>13069</td>\n",
              "      <td>1</td>\n",
              "      <td>2</td>\n",
              "      <td>61.747208</td>\n",
              "      <td>NaN</td>\n",
              "      <td>0.0</td>\n",
              "      <td>5</td>\n",
              "      <td>17</td>\n",
              "      <td>1977</td>\n",
              "      <td>0.007122</td>\n",
              "      <td>B</td>\n",
              "      <td>B</td>\n",
              "      <td>1</td>\n",
              "      <td>264</td>\n",
              "      <td>0</td>\n",
              "      <td>NaN</td>\n",
              "      <td>0</td>\n",
              "      <td>1</td>\n",
              "      <td>B</td>\n",
              "    </tr>\n",
              "    <tr>\n",
              "      <th>14993</th>\n",
              "      <td>14676</td>\n",
              "      <td>6</td>\n",
              "      <td>1</td>\n",
              "      <td>48.435108</td>\n",
              "      <td>NaN</td>\n",
              "      <td>1.0</td>\n",
              "      <td>18</td>\n",
              "      <td>25</td>\n",
              "      <td>1977</td>\n",
              "      <td>0.243205</td>\n",
              "      <td>B</td>\n",
              "      <td>B</td>\n",
              "      <td>5</td>\n",
              "      <td>1564</td>\n",
              "      <td>0</td>\n",
              "      <td>540.0</td>\n",
              "      <td>0</td>\n",
              "      <td>0</td>\n",
              "      <td>B</td>\n",
              "    </tr>\n",
              "    <tr>\n",
              "      <th>14994</th>\n",
              "      <td>13060</td>\n",
              "      <td>25</td>\n",
              "      <td>2</td>\n",
              "      <td>51.144905</td>\n",
              "      <td>48.979538</td>\n",
              "      <td>1.0</td>\n",
              "      <td>18</td>\n",
              "      <td>25</td>\n",
              "      <td>2015</td>\n",
              "      <td>0.069753</td>\n",
              "      <td>B</td>\n",
              "      <td>B</td>\n",
              "      <td>53</td>\n",
              "      <td>13670</td>\n",
              "      <td>4</td>\n",
              "      <td>NaN</td>\n",
              "      <td>1</td>\n",
              "      <td>11</td>\n",
              "      <td>B</td>\n",
              "    </tr>\n",
              "  </tbody>\n",
              "</table>\n",
              "<p>4691 rows × 19 columns</p>\n",
              "</div>"
            ],
            "text/plain": [
              "          Id  DistrictId  Rooms  ...  Helthcare_2  Shops_1  Shops_2\n",
              "3       2352           1      1  ...            0        1        B\n",
              "8       9951           1      1  ...            0        1        B\n",
              "9       8094           6      3  ...            0        0        B\n",
              "18      4581           1      1  ...            0        1        B\n",
              "19       367          45      1  ...            3        2        B\n",
              "...      ...         ...    ...  ...          ...      ...      ...\n",
              "14986  10616           1      2  ...            0        1        B\n",
              "14988  11890           1      2  ...            0        1        B\n",
              "14989  13069           1      2  ...            0        1        B\n",
              "14993  14676           6      1  ...            0        0        B\n",
              "14994  13060          25      2  ...            1       11        B\n",
              "\n",
              "[4691 rows x 19 columns]"
            ]
          },
          "metadata": {
            "tags": []
          },
          "execution_count": 362
        }
      ]
    },
    {
      "cell_type": "markdown",
      "metadata": {
        "id": "0U5nd9ztknYl"
      },
      "source": [
        "### LGBM регрессия"
      ]
    },
    {
      "cell_type": "code",
      "metadata": {
        "colab": {
          "base_uri": "https://localhost:8080/"
        },
        "id": "n4tnWOOIknYm",
        "outputId": "a0750883-a6bd-4072-f010-50e194729d67"
      },
      "source": [
        "lgbm_regressor_model = LGBMRegressor()\n",
        "lgbm_regressor_model.fit(X_train, y_train)"
      ],
      "execution_count": 363,
      "outputs": [
        {
          "output_type": "execute_result",
          "data": {
            "text/plain": [
              "LGBMRegressor(boosting_type='gbdt', class_weight=None, colsample_bytree=1.0,\n",
              "              importance_type='split', learning_rate=0.1, max_depth=-1,\n",
              "              min_child_samples=20, min_child_weight=0.001, min_split_gain=0.0,\n",
              "              n_estimators=100, n_jobs=-1, num_leaves=31, objective=None,\n",
              "              random_state=None, reg_alpha=0.0, reg_lambda=0.0, silent=True,\n",
              "              subsample=1.0, subsample_for_bin=200000, subsample_freq=0)"
            ]
          },
          "metadata": {
            "tags": []
          },
          "execution_count": 363
        }
      ]
    },
    {
      "cell_type": "markdown",
      "metadata": {
        "id": "Fm0IwpbKknYm"
      },
      "source": [
        "#### Тест LGBM регрессия"
      ]
    },
    {
      "cell_type": "code",
      "metadata": {
        "colab": {
          "base_uri": "https://localhost:8080/",
          "height": 295
        },
        "id": "Xh83hujrknYm",
        "outputId": "22ed2d27-07f1-4709-e349-b88a07b12fa8"
      },
      "source": [
        "model_test(lgbm_regressor_model, 'LGBM регрессия(тест)', X_test, y_test)"
      ],
      "execution_count": 364,
      "outputs": [
        {
          "output_type": "display_data",
          "data": {
            "image/png": "[encoded data removed]",
            "text/plain": [
              "<Figure size 432x288 with 1 Axes>"
            ]
          },
          "metadata": {
            "tags": [],
            "needs_background": "light"
          }
        }
      ]
    },
    {
      "cell_type": "code",
      "metadata": {
        "colab": {
          "base_uri": "https://localhost:8080/",
          "height": 379
        },
        "id": "9MaXthb5knYm",
        "outputId": "c6ac0cc4-c1f9-4b45-de18-29fc3ff7ee7f"
      },
      "source": [
        "model_top_deviation(lgbm_regressor_model, X_test, y_test)"
      ],
      "execution_count": 365,
      "outputs": [
        {
          "output_type": "execute_result",
          "data": {
            "text/html": [
              "<div>\n",
              "<style scoped>\n",
              "    .dataframe tbody tr th:only-of-type {\n",
              "        vertical-align: middle;\n",
              "    }\n",
              "\n",
              "    .dataframe tbody tr th {\n",
              "        vertical-align: top;\n",
              "    }\n",
              "\n",
              "    .dataframe thead th {\n",
              "        text-align: right;\n",
              "    }\n",
              "</style>\n",
              "<table border=\"1\" class=\"dataframe\">\n",
              "  <thead>\n",
              "    <tr style=\"text-align: right;\">\n",
              "      <th></th>\n",
              "      <th>Rooms</th>\n",
              "      <th>Square</th>\n",
              "      <th>DistrictId</th>\n",
              "      <th>Social_1</th>\n",
              "      <th>Helthcare_2</th>\n",
              "      <th>Social_2</th>\n",
              "      <th>Shops_1</th>\n",
              "      <th>Floor</th>\n",
              "      <th>HouseFloor</th>\n",
              "      <th>LifeSquare</th>\n",
              "      <th>Social_3</th>\n",
              "      <th>Ecology_1</th>\n",
              "      <th>KitchenSquare</th>\n",
              "      <th>HouseYear</th>\n",
              "      <th>cluster_year</th>\n",
              "      <th>mean_price_dr</th>\n",
              "      <th>mean_price_by_rooms</th>\n",
              "      <th>large_district</th>\n",
              "      <th>Price</th>\n",
              "      <th>Price_test</th>\n",
              "      <th>SD</th>\n",
              "    </tr>\n",
              "  </thead>\n",
              "  <tbody>\n",
              "    <tr>\n",
              "      <th>1026</th>\n",
              "      <td>1</td>\n",
              "      <td>34.382664</td>\n",
              "      <td>29</td>\n",
              "      <td>31</td>\n",
              "      <td>1</td>\n",
              "      <td>6119</td>\n",
              "      <td>2</td>\n",
              "      <td>7</td>\n",
              "      <td>9</td>\n",
              "      <td>22.438042</td>\n",
              "      <td>4</td>\n",
              "      <td>0.069660</td>\n",
              "      <td>5.0</td>\n",
              "      <td>1965</td>\n",
              "      <td>2</td>\n",
              "      <td>146802.281250</td>\n",
              "      <td>159850.796875</td>\n",
              "      <td>27</td>\n",
              "      <td>144667.518102</td>\n",
              "      <td>624156.000000</td>\n",
              "      <td>479488.481898</td>\n",
              "    </tr>\n",
              "    <tr>\n",
              "      <th>940</th>\n",
              "      <td>1</td>\n",
              "      <td>50.299168</td>\n",
              "      <td>9</td>\n",
              "      <td>11</td>\n",
              "      <td>0</td>\n",
              "      <td>2370</td>\n",
              "      <td>1</td>\n",
              "      <td>11</td>\n",
              "      <td>16</td>\n",
              "      <td>24.349604</td>\n",
              "      <td>0</td>\n",
              "      <td>0.136244</td>\n",
              "      <td>9.0</td>\n",
              "      <td>2006</td>\n",
              "      <td>1</td>\n",
              "      <td>141847.359375</td>\n",
              "      <td>159850.796875</td>\n",
              "      <td>89</td>\n",
              "      <td>149113.195585</td>\n",
              "      <td>608674.125000</td>\n",
              "      <td>459560.929415</td>\n",
              "    </tr>\n",
              "    <tr>\n",
              "      <th>347</th>\n",
              "      <td>2</td>\n",
              "      <td>62.646122</td>\n",
              "      <td>27</td>\n",
              "      <td>2</td>\n",
              "      <td>0</td>\n",
              "      <td>629</td>\n",
              "      <td>0</td>\n",
              "      <td>4</td>\n",
              "      <td>1</td>\n",
              "      <td>36.527630</td>\n",
              "      <td>1</td>\n",
              "      <td>0.072158</td>\n",
              "      <td>1.0</td>\n",
              "      <td>1977</td>\n",
              "      <td>0</td>\n",
              "      <td>166014.062500</td>\n",
              "      <td>215256.312500</td>\n",
              "      <td>257</td>\n",
              "      <td>162681.434043</td>\n",
              "      <td>593618.750000</td>\n",
              "      <td>430937.315957</td>\n",
              "    </tr>\n",
              "    <tr>\n",
              "      <th>2963</th>\n",
              "      <td>1</td>\n",
              "      <td>42.456928</td>\n",
              "      <td>23</td>\n",
              "      <td>6</td>\n",
              "      <td>0</td>\n",
              "      <td>1437</td>\n",
              "      <td>2</td>\n",
              "      <td>7</td>\n",
              "      <td>17</td>\n",
              "      <td>36.527630</td>\n",
              "      <td>3</td>\n",
              "      <td>0.075779</td>\n",
              "      <td>1.0</td>\n",
              "      <td>1977</td>\n",
              "      <td>0</td>\n",
              "      <td>100961.812500</td>\n",
              "      <td>159850.796875</td>\n",
              "      <td>175</td>\n",
              "      <td>124807.962240</td>\n",
              "      <td>554809.437500</td>\n",
              "      <td>430001.475260</td>\n",
              "    </tr>\n",
              "    <tr>\n",
              "      <th>858</th>\n",
              "      <td>1</td>\n",
              "      <td>40.279987</td>\n",
              "      <td>27</td>\n",
              "      <td>9</td>\n",
              "      <td>0</td>\n",
              "      <td>1892</td>\n",
              "      <td>1</td>\n",
              "      <td>8</td>\n",
              "      <td>15</td>\n",
              "      <td>38.652657</td>\n",
              "      <td>0</td>\n",
              "      <td>0.211401</td>\n",
              "      <td>10.0</td>\n",
              "      <td>2018</td>\n",
              "      <td>3</td>\n",
              "      <td>122710.742188</td>\n",
              "      <td>159850.796875</td>\n",
              "      <td>257</td>\n",
              "      <td>110520.063212</td>\n",
              "      <td>524279.250000</td>\n",
              "      <td>413759.186788</td>\n",
              "    </tr>\n",
              "    <tr>\n",
              "      <th>2436</th>\n",
              "      <td>1</td>\n",
              "      <td>38.704697</td>\n",
              "      <td>22</td>\n",
              "      <td>49</td>\n",
              "      <td>3</td>\n",
              "      <td>11395</td>\n",
              "      <td>4</td>\n",
              "      <td>9</td>\n",
              "      <td>22</td>\n",
              "      <td>21.993610</td>\n",
              "      <td>3</td>\n",
              "      <td>0.133215</td>\n",
              "      <td>10.0</td>\n",
              "      <td>1991</td>\n",
              "      <td>0</td>\n",
              "      <td>162263.906250</td>\n",
              "      <td>159850.796875</td>\n",
              "      <td>18</td>\n",
              "      <td>169569.651195</td>\n",
              "      <td>573999.437500</td>\n",
              "      <td>404429.786305</td>\n",
              "    </tr>\n",
              "    <tr>\n",
              "      <th>2663</th>\n",
              "      <td>2</td>\n",
              "      <td>68.983444</td>\n",
              "      <td>23</td>\n",
              "      <td>0</td>\n",
              "      <td>0</td>\n",
              "      <td>168</td>\n",
              "      <td>0</td>\n",
              "      <td>1</td>\n",
              "      <td>3</td>\n",
              "      <td>67.122673</td>\n",
              "      <td>0</td>\n",
              "      <td>0.034656</td>\n",
              "      <td>0.0</td>\n",
              "      <td>2014</td>\n",
              "      <td>3</td>\n",
              "      <td>135324.359375</td>\n",
              "      <td>215256.312500</td>\n",
              "      <td>175</td>\n",
              "      <td>119079.719357</td>\n",
              "      <td>506175.000000</td>\n",
              "      <td>387095.280643</td>\n",
              "    </tr>\n",
              "    <tr>\n",
              "      <th>964</th>\n",
              "      <td>5</td>\n",
              "      <td>118.871948</td>\n",
              "      <td>78</td>\n",
              "      <td>21</td>\n",
              "      <td>1</td>\n",
              "      <td>4346</td>\n",
              "      <td>2</td>\n",
              "      <td>15</td>\n",
              "      <td>16</td>\n",
              "      <td>69.023506</td>\n",
              "      <td>2</td>\n",
              "      <td>0.092291</td>\n",
              "      <td>10.0</td>\n",
              "      <td>1998</td>\n",
              "      <td>1</td>\n",
              "      <td>496026.656250</td>\n",
              "      <td>410431.593750</td>\n",
              "      <td>10</td>\n",
              "      <td>505064.091947</td>\n",
              "      <td>119853.828125</td>\n",
              "      <td>385210.263822</td>\n",
              "    </tr>\n",
              "    <tr>\n",
              "      <th>2906</th>\n",
              "      <td>3</td>\n",
              "      <td>129.475021</td>\n",
              "      <td>17</td>\n",
              "      <td>23</td>\n",
              "      <td>2</td>\n",
              "      <td>4635</td>\n",
              "      <td>4</td>\n",
              "      <td>17</td>\n",
              "      <td>20</td>\n",
              "      <td>36.527630</td>\n",
              "      <td>5</td>\n",
              "      <td>0.093443</td>\n",
              "      <td>10.0</td>\n",
              "      <td>1977</td>\n",
              "      <td>0</td>\n",
              "      <td>419768.781250</td>\n",
              "      <td>289337.968750</td>\n",
              "      <td>20</td>\n",
              "      <td>491269.490136</td>\n",
              "      <td>111787.078125</td>\n",
              "      <td>379482.412011</td>\n",
              "    </tr>\n",
              "    <tr>\n",
              "      <th>68</th>\n",
              "      <td>1</td>\n",
              "      <td>41.358940</td>\n",
              "      <td>93</td>\n",
              "      <td>25</td>\n",
              "      <td>0</td>\n",
              "      <td>6149</td>\n",
              "      <td>0</td>\n",
              "      <td>7</td>\n",
              "      <td>16</td>\n",
              "      <td>22.449837</td>\n",
              "      <td>0</td>\n",
              "      <td>0.521867</td>\n",
              "      <td>9.0</td>\n",
              "      <td>1987</td>\n",
              "      <td>0</td>\n",
              "      <td>143967.718750</td>\n",
              "      <td>159850.796875</td>\n",
              "      <td>22</td>\n",
              "      <td>148922.522762</td>\n",
              "      <td>526817.562500</td>\n",
              "      <td>377895.039738</td>\n",
              "    </tr>\n",
              "  </tbody>\n",
              "</table>\n",
              "</div>"
            ],
            "text/plain": [
              "      Rooms      Square  ...     Price_test             SD\n",
              "1026      1   34.382664  ...  624156.000000  479488.481898\n",
              "940       1   50.299168  ...  608674.125000  459560.929415\n",
              "347       2   62.646122  ...  593618.750000  430937.315957\n",
              "2963      1   42.456928  ...  554809.437500  430001.475260\n",
              "858       1   40.279987  ...  524279.250000  413759.186788\n",
              "2436      1   38.704697  ...  573999.437500  404429.786305\n",
              "2663      2   68.983444  ...  506175.000000  387095.280643\n",
              "964       5  118.871948  ...  119853.828125  385210.263822\n",
              "2906      3  129.475021  ...  111787.078125  379482.412011\n",
              "68        1   41.358940  ...  526817.562500  377895.039738\n",
              "\n",
              "[10 rows x 21 columns]"
            ]
          },
          "metadata": {
            "tags": []
          },
          "execution_count": 365
        }
      ]
    },
    {
      "cell_type": "markdown",
      "metadata": {
        "id": "oeX1O6pXknYm"
      },
      "source": [
        "#### Настройка LGBM регрессии"
      ]
    },
    {
      "cell_type": "code",
      "metadata": {
        "colab": {
          "base_uri": "https://localhost:8080/"
        },
        "id": "swNCO-XzknYn",
        "outputId": "e1154255-1025-4908-e092-d2726f1bd9fd"
      },
      "source": [
        "lgbm_regressor_model.get_params"
      ],
      "execution_count": 366,
      "outputs": [
        {
          "output_type": "execute_result",
          "data": {
            "text/plain": [
              "<bound method LGBMModel.get_params of LGBMRegressor(boosting_type='gbdt', class_weight=None, colsample_bytree=1.0,\n",
              "              importance_type='split', learning_rate=0.1, max_depth=-1,\n",
              "              min_child_samples=20, min_child_weight=0.001, min_split_gain=0.0,\n",
              "              n_estimators=100, n_jobs=-1, num_leaves=31, objective=None,\n",
              "              random_state=None, reg_alpha=0.0, reg_lambda=0.0, silent=True,\n",
              "              subsample=1.0, subsample_for_bin=200000, subsample_freq=0)>"
            ]
          },
          "metadata": {
            "tags": []
          },
          "execution_count": 366
        }
      ]
    },
    {
      "cell_type": "code",
      "metadata": {
        "colab": {
          "base_uri": "https://localhost:8080/"
        },
        "id": "bBAI5PNbknYn",
        "outputId": "b7e5b4c6-7c81-4711-d92f-c41385204ded"
      },
      "source": [
        "np.arange(0.01, 0.05, 0.01)"
      ],
      "execution_count": 367,
      "outputs": [
        {
          "output_type": "execute_result",
          "data": {
            "text/plain": [
              "array([0.01, 0.02, 0.03, 0.04])"
            ]
          },
          "metadata": {
            "tags": []
          },
          "execution_count": 367
        }
      ]
    },
    {
      "cell_type": "code",
      "metadata": {
        "id": "dx9juT_cknYn"
      },
      "source": [
        "parameters = [{\n",
        "    'max_bin': np.arange(90, 120, 10),\n",
        "    'n_estimators': np.arange(4000, 7000, 1000),\n",
        "    'learning_rate': np.arange(0.01, 0.05, 0.01)\n",
        "}]"
      ],
      "execution_count": 368,
      "outputs": []
    },
    {
      "cell_type": "code",
      "metadata": {
        "id": "BstSc8suknYn"
      },
      "source": [
        "clf = GridSearchCV(\n",
        "    estimator=LGBMRegressor(random_state=42),\n",
        "    param_grid=parameters,\n",
        "    scoring='neg_mean_squared_error',\n",
        "    cv=4,\n",
        "    n_jobs=-1,\n",
        ")"
      ],
      "execution_count": 369,
      "outputs": []
    },
    {
      "cell_type": "code",
      "metadata": {
        "id": "woq6g6xyknYn",
        "colab": {
          "base_uri": "https://localhost:8080/"
        },
        "outputId": "9c94e2c0-b9d4-4308-e2c4-7b71e14e618e"
      },
      "source": [
        "clf.fit(X_train, y_train)"
      ],
      "execution_count": 370,
      "outputs": [
        {
          "output_type": "execute_result",
          "data": {
            "text/plain": [
              "GridSearchCV(cv=4, error_score=nan,\n",
              "             estimator=LGBMRegressor(boosting_type='gbdt', class_weight=None,\n",
              "                                     colsample_bytree=1.0,\n",
              "                                     importance_type='split', learning_rate=0.1,\n",
              "                                     max_depth=-1, min_child_samples=20,\n",
              "                                     min_child_weight=0.001, min_split_gain=0.0,\n",
              "                                     n_estimators=100, n_jobs=-1, num_leaves=31,\n",
              "                                     objective=None, random_state=42,\n",
              "                                     reg_alpha=0.0, reg_lambda=0.0, silent=True,\n",
              "                                     subsample=1.0, subsample_for_bin=200000,\n",
              "                                     subsample_freq=0),\n",
              "             iid='deprecated', n_jobs=-1,\n",
              "             param_grid=[{'learning_rate': array([0.01, 0.02, 0.03, 0.04]),\n",
              "                          'max_bin': array([ 90, 100, 110]),\n",
              "                          'n_estimators': array([4000, 5000, 6000])}],\n",
              "             pre_dispatch='2*n_jobs', refit=True, return_train_score=False,\n",
              "             scoring='neg_mean_squared_error', verbose=0)"
            ]
          },
          "metadata": {
            "tags": []
          },
          "execution_count": 370
        }
      ]
    },
    {
      "cell_type": "code",
      "metadata": {
        "id": "Np7ateZzknYn",
        "colab": {
          "base_uri": "https://localhost:8080/",
          "height": 359
        },
        "outputId": "a98a4009-6729-412b-836e-6953611bc697"
      },
      "source": [
        "cv_results = pd.DataFrame(clf.cv_results_)\n",
        "param_columns = [\n",
        "    column\n",
        "    for column in cv_results.columns\n",
        "    if column.startswith('param_')\n",
        "]\n",
        "\n",
        "score_columns = ['mean_test_score']\n",
        "\n",
        "cv_results = (cv_results[param_columns + score_columns]\n",
        "              .sort_values(by=score_columns, ascending=False))\n",
        "\n",
        "cv_results.head(10)"
      ],
      "execution_count": 371,
      "outputs": [
        {
          "output_type": "execute_result",
          "data": {
            "text/html": [
              "<div>\n",
              "<style scoped>\n",
              "    .dataframe tbody tr th:only-of-type {\n",
              "        vertical-align: middle;\n",
              "    }\n",
              "\n",
              "    .dataframe tbody tr th {\n",
              "        vertical-align: top;\n",
              "    }\n",
              "\n",
              "    .dataframe thead th {\n",
              "        text-align: right;\n",
              "    }\n",
              "</style>\n",
              "<table border=\"1\" class=\"dataframe\">\n",
              "  <thead>\n",
              "    <tr style=\"text-align: right;\">\n",
              "      <th></th>\n",
              "      <th>param_learning_rate</th>\n",
              "      <th>param_max_bin</th>\n",
              "      <th>param_n_estimators</th>\n",
              "      <th>mean_test_score</th>\n",
              "    </tr>\n",
              "  </thead>\n",
              "  <tbody>\n",
              "    <tr>\n",
              "      <th>3</th>\n",
              "      <td>0.01</td>\n",
              "      <td>100</td>\n",
              "      <td>4000</td>\n",
              "      <td>-1.968158e+09</td>\n",
              "    </tr>\n",
              "    <tr>\n",
              "      <th>0</th>\n",
              "      <td>0.01</td>\n",
              "      <td>90</td>\n",
              "      <td>4000</td>\n",
              "      <td>-1.974175e+09</td>\n",
              "    </tr>\n",
              "    <tr>\n",
              "      <th>6</th>\n",
              "      <td>0.01</td>\n",
              "      <td>110</td>\n",
              "      <td>4000</td>\n",
              "      <td>-1.980865e+09</td>\n",
              "    </tr>\n",
              "    <tr>\n",
              "      <th>4</th>\n",
              "      <td>0.01</td>\n",
              "      <td>100</td>\n",
              "      <td>5000</td>\n",
              "      <td>-1.986810e+09</td>\n",
              "    </tr>\n",
              "    <tr>\n",
              "      <th>1</th>\n",
              "      <td>0.01</td>\n",
              "      <td>90</td>\n",
              "      <td>5000</td>\n",
              "      <td>-1.991452e+09</td>\n",
              "    </tr>\n",
              "    <tr>\n",
              "      <th>5</th>\n",
              "      <td>0.01</td>\n",
              "      <td>100</td>\n",
              "      <td>6000</td>\n",
              "      <td>-1.999951e+09</td>\n",
              "    </tr>\n",
              "    <tr>\n",
              "      <th>7</th>\n",
              "      <td>0.01</td>\n",
              "      <td>110</td>\n",
              "      <td>5000</td>\n",
              "      <td>-2.000935e+09</td>\n",
              "    </tr>\n",
              "    <tr>\n",
              "      <th>2</th>\n",
              "      <td>0.01</td>\n",
              "      <td>90</td>\n",
              "      <td>6000</td>\n",
              "      <td>-2.006368e+09</td>\n",
              "    </tr>\n",
              "    <tr>\n",
              "      <th>8</th>\n",
              "      <td>0.01</td>\n",
              "      <td>110</td>\n",
              "      <td>6000</td>\n",
              "      <td>-2.019302e+09</td>\n",
              "    </tr>\n",
              "    <tr>\n",
              "      <th>15</th>\n",
              "      <td>0.02</td>\n",
              "      <td>110</td>\n",
              "      <td>4000</td>\n",
              "      <td>-2.034231e+09</td>\n",
              "    </tr>\n",
              "  </tbody>\n",
              "</table>\n",
              "</div>"
            ],
            "text/plain": [
              "   param_learning_rate param_max_bin param_n_estimators  mean_test_score\n",
              "3                 0.01           100               4000    -1.968158e+09\n",
              "0                 0.01            90               4000    -1.974175e+09\n",
              "6                 0.01           110               4000    -1.980865e+09\n",
              "4                 0.01           100               5000    -1.986810e+09\n",
              "1                 0.01            90               5000    -1.991452e+09\n",
              "5                 0.01           100               6000    -1.999951e+09\n",
              "7                 0.01           110               5000    -2.000935e+09\n",
              "2                 0.01            90               6000    -2.006368e+09\n",
              "8                 0.01           110               6000    -2.019302e+09\n",
              "15                0.02           110               4000    -2.034231e+09"
            ]
          },
          "metadata": {
            "tags": []
          },
          "execution_count": 371
        }
      ]
    },
    {
      "cell_type": "code",
      "metadata": {
        "id": "fpgnu7pGknYo",
        "colab": {
          "base_uri": "https://localhost:8080/"
        },
        "outputId": "ee286918-cd00-4be8-d390-c8a762b5e946"
      },
      "source": [
        "clf.best_params_"
      ],
      "execution_count": 372,
      "outputs": [
        {
          "output_type": "execute_result",
          "data": {
            "text/plain": [
              "{'learning_rate': 0.01, 'max_bin': 100, 'n_estimators': 4000}"
            ]
          },
          "metadata": {
            "tags": []
          },
          "execution_count": 372
        }
      ]
    },
    {
      "cell_type": "markdown",
      "metadata": {
        "id": "HzjMGfwkknYo"
      },
      "source": [
        "#### Тест настройка LGBM регрессии"
      ]
    },
    {
      "cell_type": "code",
      "metadata": {
        "id": "mGXpQvS_knYo",
        "colab": {
          "base_uri": "https://localhost:8080/"
        },
        "outputId": "91d14562-cc8d-4739-8b59-4f1e1ec41663"
      },
      "source": [
        "lgbm_regressor_model = LGBMRegressor(\n",
        "    max_bin=110,\n",
        "    num_leaves=4,\n",
        "    n_estimators=4000,\n",
        "    learning_rate=0.01\n",
        ")\n",
        "lgbm_regressor_model.fit(X_train, y_train)"
      ],
      "execution_count": 373,
      "outputs": [
        {
          "output_type": "execute_result",
          "data": {
            "text/plain": [
              "LGBMRegressor(boosting_type='gbdt', class_weight=None, colsample_bytree=1.0,\n",
              "              importance_type='split', learning_rate=0.01, max_bin=110,\n",
              "              max_depth=-1, min_child_samples=20, min_child_weight=0.001,\n",
              "              min_split_gain=0.0, n_estimators=4000, n_jobs=-1, num_leaves=4,\n",
              "              objective=None, random_state=None, reg_alpha=0.0, reg_lambda=0.0,\n",
              "              silent=True, subsample=1.0, subsample_for_bin=200000,\n",
              "              subsample_freq=0)"
            ]
          },
          "metadata": {
            "tags": []
          },
          "execution_count": 373
        }
      ]
    },
    {
      "cell_type": "code",
      "metadata": {
        "id": "WckbOtltknYo",
        "colab": {
          "base_uri": "https://localhost:8080/",
          "height": 295
        },
        "outputId": "5b61d3e9-dcb2-492e-9010-cefd74183b75"
      },
      "source": [
        "model_test(lgbm_regressor_model, 'LGBM регрессия(тест)', X_test, y_test)"
      ],
      "execution_count": 374,
      "outputs": [
        {
          "output_type": "display_data",
          "data": {
            "image/png": "[encoded data removed]",
            "text/plain": [
              "<Figure size 432x288 with 1 Axes>"
            ]
          },
          "metadata": {
            "tags": [],
            "needs_background": "light"
          }
        }
      ]
    },
    {
      "cell_type": "code",
      "metadata": {
        "id": "HKjx9fTQknYo"
      },
      "source": [
        "models_dict['LGBM регрессия'] = lgbm_regressor_model"
      ],
      "execution_count": 375,
      "outputs": []
    },
    {
      "cell_type": "markdown",
      "metadata": {
        "id": "mF8JHyuJknYo"
      },
      "source": [
        "### XGB регрессия"
      ]
    },
    {
      "cell_type": "code",
      "metadata": {
        "id": "WF_sBJzvknYr",
        "colab": {
          "base_uri": "https://localhost:8080/"
        },
        "outputId": "9740317d-bf6e-45d3-977f-153e5abb6c3e"
      },
      "source": [
        "xgboost_model = XGBRegressor()\n",
        "xgboost_model.fit(X_train, y_train)"
      ],
      "execution_count": 376,
      "outputs": [
        {
          "output_type": "stream",
          "text": [
            "[12:00:32] WARNING: /workspace/src/objective/regression_obj.cu:152: reg:linear is now deprecated in favor of reg:squarederror.\n"
          ],
          "name": "stdout"
        },
        {
          "output_type": "execute_result",
          "data": {
            "text/plain": [
              "XGBRegressor(base_score=0.5, booster='gbtree', colsample_bylevel=1,\n",
              "             colsample_bynode=1, colsample_bytree=1, gamma=0,\n",
              "             importance_type='gain', learning_rate=0.1, max_delta_step=0,\n",
              "             max_depth=3, min_child_weight=1, missing=None, n_estimators=100,\n",
              "             n_jobs=1, nthread=None, objective='reg:linear', random_state=0,\n",
              "             reg_alpha=0, reg_lambda=1, scale_pos_weight=1, seed=None,\n",
              "             silent=None, subsample=1, verbosity=1)"
            ]
          },
          "metadata": {
            "tags": []
          },
          "execution_count": 376
        }
      ]
    },
    {
      "cell_type": "code",
      "metadata": {
        "id": "mg0w1dM5knYr"
      },
      "source": [
        "models_dict['XGB регрессия'] = xgboost_model"
      ],
      "execution_count": 377,
      "outputs": []
    },
    {
      "cell_type": "markdown",
      "metadata": {
        "id": "cJwZ7gKwknYr"
      },
      "source": [
        "#### Тест XGB регрессия"
      ]
    },
    {
      "cell_type": "code",
      "metadata": {
        "id": "-Q8ieBj_knYr",
        "colab": {
          "base_uri": "https://localhost:8080/",
          "height": 295
        },
        "outputId": "ce9769e6-8a65-47e4-9930-d3a26a9cdba6"
      },
      "source": [
        "model_test(xgboost_model, 'XGB регрессия(тест)', X_test, y_test)"
      ],
      "execution_count": 378,
      "outputs": [
        {
          "output_type": "display_data",
          "data": {
            "image/png": "[encoded data removed]",
            "text/plain": [
              "<Figure size 432x288 with 1 Axes>"
            ]
          },
          "metadata": {
            "tags": [],
            "needs_background": "light"
          }
        }
      ]
    },
    {
      "cell_type": "code",
      "metadata": {
        "id": "28ELIwQXknYr",
        "colab": {
          "base_uri": "https://localhost:8080/",
          "height": 379
        },
        "outputId": "4b0d36c6-8c84-498a-a919-1988417ec99f"
      },
      "source": [
        "model_top_deviation(xgboost_model, X_test, y_test)"
      ],
      "execution_count": 379,
      "outputs": [
        {
          "output_type": "execute_result",
          "data": {
            "text/html": [
              "<div>\n",
              "<style scoped>\n",
              "    .dataframe tbody tr th:only-of-type {\n",
              "        vertical-align: middle;\n",
              "    }\n",
              "\n",
              "    .dataframe tbody tr th {\n",
              "        vertical-align: top;\n",
              "    }\n",
              "\n",
              "    .dataframe thead th {\n",
              "        text-align: right;\n",
              "    }\n",
              "</style>\n",
              "<table border=\"1\" class=\"dataframe\">\n",
              "  <thead>\n",
              "    <tr style=\"text-align: right;\">\n",
              "      <th></th>\n",
              "      <th>Rooms</th>\n",
              "      <th>Square</th>\n",
              "      <th>DistrictId</th>\n",
              "      <th>Social_1</th>\n",
              "      <th>Helthcare_2</th>\n",
              "      <th>Social_2</th>\n",
              "      <th>Shops_1</th>\n",
              "      <th>Floor</th>\n",
              "      <th>HouseFloor</th>\n",
              "      <th>LifeSquare</th>\n",
              "      <th>Social_3</th>\n",
              "      <th>Ecology_1</th>\n",
              "      <th>KitchenSquare</th>\n",
              "      <th>HouseYear</th>\n",
              "      <th>cluster_year</th>\n",
              "      <th>mean_price_dr</th>\n",
              "      <th>mean_price_by_rooms</th>\n",
              "      <th>large_district</th>\n",
              "      <th>Price</th>\n",
              "      <th>Price_test</th>\n",
              "      <th>SD</th>\n",
              "    </tr>\n",
              "  </thead>\n",
              "  <tbody>\n",
              "    <tr>\n",
              "      <th>1026</th>\n",
              "      <td>1</td>\n",
              "      <td>34.382664</td>\n",
              "      <td>29</td>\n",
              "      <td>31</td>\n",
              "      <td>1</td>\n",
              "      <td>6119</td>\n",
              "      <td>2</td>\n",
              "      <td>7</td>\n",
              "      <td>9</td>\n",
              "      <td>22.438042</td>\n",
              "      <td>4</td>\n",
              "      <td>0.069660</td>\n",
              "      <td>5.0</td>\n",
              "      <td>1965</td>\n",
              "      <td>2</td>\n",
              "      <td>146802.281250</td>\n",
              "      <td>159850.796875</td>\n",
              "      <td>27</td>\n",
              "      <td>140746.171875</td>\n",
              "      <td>624156.000000</td>\n",
              "      <td>483409.81250</td>\n",
              "    </tr>\n",
              "    <tr>\n",
              "      <th>940</th>\n",
              "      <td>1</td>\n",
              "      <td>50.299168</td>\n",
              "      <td>9</td>\n",
              "      <td>11</td>\n",
              "      <td>0</td>\n",
              "      <td>2370</td>\n",
              "      <td>1</td>\n",
              "      <td>11</td>\n",
              "      <td>16</td>\n",
              "      <td>24.349604</td>\n",
              "      <td>0</td>\n",
              "      <td>0.136244</td>\n",
              "      <td>9.0</td>\n",
              "      <td>2006</td>\n",
              "      <td>1</td>\n",
              "      <td>141847.359375</td>\n",
              "      <td>159850.796875</td>\n",
              "      <td>89</td>\n",
              "      <td>154041.437500</td>\n",
              "      <td>608674.125000</td>\n",
              "      <td>454632.68750</td>\n",
              "    </tr>\n",
              "    <tr>\n",
              "      <th>2963</th>\n",
              "      <td>1</td>\n",
              "      <td>42.456928</td>\n",
              "      <td>23</td>\n",
              "      <td>6</td>\n",
              "      <td>0</td>\n",
              "      <td>1437</td>\n",
              "      <td>2</td>\n",
              "      <td>7</td>\n",
              "      <td>17</td>\n",
              "      <td>36.527630</td>\n",
              "      <td>3</td>\n",
              "      <td>0.075779</td>\n",
              "      <td>1.0</td>\n",
              "      <td>1977</td>\n",
              "      <td>0</td>\n",
              "      <td>100961.812500</td>\n",
              "      <td>159850.796875</td>\n",
              "      <td>175</td>\n",
              "      <td>119821.328125</td>\n",
              "      <td>554809.437500</td>\n",
              "      <td>434988.12500</td>\n",
              "    </tr>\n",
              "    <tr>\n",
              "      <th>347</th>\n",
              "      <td>2</td>\n",
              "      <td>62.646122</td>\n",
              "      <td>27</td>\n",
              "      <td>2</td>\n",
              "      <td>0</td>\n",
              "      <td>629</td>\n",
              "      <td>0</td>\n",
              "      <td>4</td>\n",
              "      <td>1</td>\n",
              "      <td>36.527630</td>\n",
              "      <td>1</td>\n",
              "      <td>0.072158</td>\n",
              "      <td>1.0</td>\n",
              "      <td>1977</td>\n",
              "      <td>0</td>\n",
              "      <td>166014.062500</td>\n",
              "      <td>215256.312500</td>\n",
              "      <td>257</td>\n",
              "      <td>181721.156250</td>\n",
              "      <td>593618.750000</td>\n",
              "      <td>411897.59375</td>\n",
              "    </tr>\n",
              "    <tr>\n",
              "      <th>858</th>\n",
              "      <td>1</td>\n",
              "      <td>40.279987</td>\n",
              "      <td>27</td>\n",
              "      <td>9</td>\n",
              "      <td>0</td>\n",
              "      <td>1892</td>\n",
              "      <td>1</td>\n",
              "      <td>8</td>\n",
              "      <td>15</td>\n",
              "      <td>38.652657</td>\n",
              "      <td>0</td>\n",
              "      <td>0.211401</td>\n",
              "      <td>10.0</td>\n",
              "      <td>2018</td>\n",
              "      <td>3</td>\n",
              "      <td>122710.742188</td>\n",
              "      <td>159850.796875</td>\n",
              "      <td>257</td>\n",
              "      <td>112799.414062</td>\n",
              "      <td>524279.250000</td>\n",
              "      <td>411479.84375</td>\n",
              "    </tr>\n",
              "    <tr>\n",
              "      <th>964</th>\n",
              "      <td>5</td>\n",
              "      <td>118.871948</td>\n",
              "      <td>78</td>\n",
              "      <td>21</td>\n",
              "      <td>1</td>\n",
              "      <td>4346</td>\n",
              "      <td>2</td>\n",
              "      <td>15</td>\n",
              "      <td>16</td>\n",
              "      <td>69.023506</td>\n",
              "      <td>2</td>\n",
              "      <td>0.092291</td>\n",
              "      <td>10.0</td>\n",
              "      <td>1998</td>\n",
              "      <td>1</td>\n",
              "      <td>496026.656250</td>\n",
              "      <td>410431.593750</td>\n",
              "      <td>10</td>\n",
              "      <td>518382.937500</td>\n",
              "      <td>119853.828125</td>\n",
              "      <td>398529.12500</td>\n",
              "    </tr>\n",
              "    <tr>\n",
              "      <th>2436</th>\n",
              "      <td>1</td>\n",
              "      <td>38.704697</td>\n",
              "      <td>22</td>\n",
              "      <td>49</td>\n",
              "      <td>3</td>\n",
              "      <td>11395</td>\n",
              "      <td>4</td>\n",
              "      <td>9</td>\n",
              "      <td>22</td>\n",
              "      <td>21.993610</td>\n",
              "      <td>3</td>\n",
              "      <td>0.133215</td>\n",
              "      <td>10.0</td>\n",
              "      <td>1991</td>\n",
              "      <td>0</td>\n",
              "      <td>162263.906250</td>\n",
              "      <td>159850.796875</td>\n",
              "      <td>18</td>\n",
              "      <td>176279.156250</td>\n",
              "      <td>573999.437500</td>\n",
              "      <td>397720.28125</td>\n",
              "    </tr>\n",
              "    <tr>\n",
              "      <th>68</th>\n",
              "      <td>1</td>\n",
              "      <td>41.358940</td>\n",
              "      <td>93</td>\n",
              "      <td>25</td>\n",
              "      <td>0</td>\n",
              "      <td>6149</td>\n",
              "      <td>0</td>\n",
              "      <td>7</td>\n",
              "      <td>16</td>\n",
              "      <td>22.449837</td>\n",
              "      <td>0</td>\n",
              "      <td>0.521867</td>\n",
              "      <td>9.0</td>\n",
              "      <td>1987</td>\n",
              "      <td>0</td>\n",
              "      <td>143967.718750</td>\n",
              "      <td>159850.796875</td>\n",
              "      <td>22</td>\n",
              "      <td>142128.812500</td>\n",
              "      <td>526817.562500</td>\n",
              "      <td>384688.75000</td>\n",
              "    </tr>\n",
              "    <tr>\n",
              "      <th>2663</th>\n",
              "      <td>2</td>\n",
              "      <td>68.983444</td>\n",
              "      <td>23</td>\n",
              "      <td>0</td>\n",
              "      <td>0</td>\n",
              "      <td>168</td>\n",
              "      <td>0</td>\n",
              "      <td>1</td>\n",
              "      <td>3</td>\n",
              "      <td>67.122673</td>\n",
              "      <td>0</td>\n",
              "      <td>0.034656</td>\n",
              "      <td>0.0</td>\n",
              "      <td>2014</td>\n",
              "      <td>3</td>\n",
              "      <td>135324.359375</td>\n",
              "      <td>215256.312500</td>\n",
              "      <td>175</td>\n",
              "      <td>123666.492188</td>\n",
              "      <td>506175.000000</td>\n",
              "      <td>382508.50000</td>\n",
              "    </tr>\n",
              "    <tr>\n",
              "      <th>106</th>\n",
              "      <td>2</td>\n",
              "      <td>44.537441</td>\n",
              "      <td>10</td>\n",
              "      <td>33</td>\n",
              "      <td>0</td>\n",
              "      <td>8667</td>\n",
              "      <td>6</td>\n",
              "      <td>8</td>\n",
              "      <td>9</td>\n",
              "      <td>32.103275</td>\n",
              "      <td>2</td>\n",
              "      <td>0.282798</td>\n",
              "      <td>5.0</td>\n",
              "      <td>1971</td>\n",
              "      <td>2</td>\n",
              "      <td>226197.562500</td>\n",
              "      <td>215256.312500</td>\n",
              "      <td>20</td>\n",
              "      <td>201320.406250</td>\n",
              "      <td>574631.312500</td>\n",
              "      <td>373310.90625</td>\n",
              "    </tr>\n",
              "  </tbody>\n",
              "</table>\n",
              "</div>"
            ],
            "text/plain": [
              "      Rooms      Square  DistrictId  ...          Price     Price_test            SD\n",
              "1026      1   34.382664          29  ...  140746.171875  624156.000000  483409.81250\n",
              "940       1   50.299168           9  ...  154041.437500  608674.125000  454632.68750\n",
              "2963      1   42.456928          23  ...  119821.328125  554809.437500  434988.12500\n",
              "347       2   62.646122          27  ...  181721.156250  593618.750000  411897.59375\n",
              "858       1   40.279987          27  ...  112799.414062  524279.250000  411479.84375\n",
              "964       5  118.871948          78  ...  518382.937500  119853.828125  398529.12500\n",
              "2436      1   38.704697          22  ...  176279.156250  573999.437500  397720.28125\n",
              "68        1   41.358940          93  ...  142128.812500  526817.562500  384688.75000\n",
              "2663      2   68.983444          23  ...  123666.492188  506175.000000  382508.50000\n",
              "106       2   44.537441          10  ...  201320.406250  574631.312500  373310.90625\n",
              "\n",
              "[10 rows x 21 columns]"
            ]
          },
          "metadata": {
            "tags": []
          },
          "execution_count": 379
        }
      ]
    },
    {
      "cell_type": "markdown",
      "metadata": {
        "id": "WFGCbOF5knYr"
      },
      "source": [
        "## Результат"
      ]
    },
    {
      "cell_type": "markdown",
      "metadata": {
        "id": "ft1LNVC5knYs"
      },
      "source": [
        "### Загрузка библиотек"
      ]
    },
    {
      "cell_type": "code",
      "metadata": {
        "id": "k44HdmRpknYs"
      },
      "source": [
        "from sklearn.metrics import r2_score\n",
        "from sklearn.metrics import mean_squared_error"
      ],
      "execution_count": 380,
      "outputs": []
    },
    {
      "cell_type": "markdown",
      "metadata": {
        "id": "bpQ_cJnCknYs"
      },
      "source": [
        "### Функции"
      ]
    },
    {
      "cell_type": "code",
      "metadata": {
        "id": "rXoL0yBlknYs"
      },
      "source": [
        "def models_r2(models, test, valid):\n",
        "    scores = pd.DataFrame(columns=['name', 'r2', 'mse'])\n",
        "    for name, model in models.items():\n",
        "        test_pred = model.predict(test)\n",
        "        r2 = r2_score(valid, test_pred)\n",
        "        mse = mean_squared_error(valid, test_pred)\n",
        "        scores = scores.append(\n",
        "            {'name': name, 'r2': r2, 'mse': mse}, ignore_index=True)\n",
        "    scores.sort_values('r2', ascending=False, inplace=True)\n",
        "    return scores"
      ],
      "execution_count": 381,
      "outputs": []
    },
    {
      "cell_type": "markdown",
      "metadata": {
        "id": "rJOvUTsQknYs"
      },
      "source": [
        "### Выбор лучшей модели"
      ]
    },
    {
      "cell_type": "code",
      "metadata": {
        "id": "vi4ceLHwknYs"
      },
      "source": [
        "models_score_test = models_r2(models_dict, X_test, y_test)\n",
        "models_score_train = models_r2(models_dict, X_train, y_train)"
      ],
      "execution_count": 382,
      "outputs": []
    },
    {
      "cell_type": "code",
      "metadata": {
        "id": "dlH01aBQknYs",
        "colab": {
          "base_uri": "https://localhost:8080/",
          "height": 235
        },
        "outputId": "b8897caf-cb8c-4115-b365-9489f9ba5e28"
      },
      "source": [
        "models_score_test[['name', 'r2']]"
      ],
      "execution_count": 383,
      "outputs": [
        {
          "output_type": "execute_result",
          "data": {
            "text/html": [
              "<div>\n",
              "<style scoped>\n",
              "    .dataframe tbody tr th:only-of-type {\n",
              "        vertical-align: middle;\n",
              "    }\n",
              "\n",
              "    .dataframe tbody tr th {\n",
              "        vertical-align: top;\n",
              "    }\n",
              "\n",
              "    .dataframe thead th {\n",
              "        text-align: right;\n",
              "    }\n",
              "</style>\n",
              "<table border=\"1\" class=\"dataframe\">\n",
              "  <thead>\n",
              "    <tr style=\"text-align: right;\">\n",
              "      <th></th>\n",
              "      <th>name</th>\n",
              "      <th>r2</th>\n",
              "    </tr>\n",
              "  </thead>\n",
              "  <tbody>\n",
              "    <tr>\n",
              "      <th>4</th>\n",
              "      <td>LGBM регрессия</td>\n",
              "      <td>0.756489</td>\n",
              "    </tr>\n",
              "    <tr>\n",
              "      <th>2</th>\n",
              "      <td>Gradient Boosting регрессия</td>\n",
              "      <td>0.751139</td>\n",
              "    </tr>\n",
              "    <tr>\n",
              "      <th>5</th>\n",
              "      <td>XGB регрессия</td>\n",
              "      <td>0.749026</td>\n",
              "    </tr>\n",
              "    <tr>\n",
              "      <th>1</th>\n",
              "      <td>Случайный лес</td>\n",
              "      <td>0.745753</td>\n",
              "    </tr>\n",
              "    <tr>\n",
              "      <th>0</th>\n",
              "      <td>Линейная регрессия</td>\n",
              "      <td>0.716766</td>\n",
              "    </tr>\n",
              "    <tr>\n",
              "      <th>3</th>\n",
              "      <td>LassoCV</td>\n",
              "      <td>0.636461</td>\n",
              "    </tr>\n",
              "  </tbody>\n",
              "</table>\n",
              "</div>"
            ],
            "text/plain": [
              "                          name        r2\n",
              "4               LGBM регрессия  0.756489\n",
              "2  Gradient Boosting регрессия  0.751139\n",
              "5                XGB регрессия  0.749026\n",
              "1                Случайный лес  0.745753\n",
              "0           Линейная регрессия  0.716766\n",
              "3                      LassoCV  0.636461"
            ]
          },
          "metadata": {
            "tags": []
          },
          "execution_count": 383
        }
      ]
    },
    {
      "cell_type": "code",
      "metadata": {
        "id": "vDVUBF50knYt",
        "colab": {
          "base_uri": "https://localhost:8080/",
          "height": 281
        },
        "outputId": "a15e578a-77ea-4559-fffd-92d7c931e2e3"
      },
      "source": [
        "r2_max_test = models_score_test['r2'].max()\n",
        "r2_max_train = models_score_train['r2'].max()\n",
        "plt.barh(models_score_test['name'], models_score_test['r2'],\n",
        "         alpha=0.5, color='red', label=f'Test  Data: R2 max: {r2_max_test:.4f}')\n",
        "plt.barh(models_score_train['name'], models_score_train['r2'],\n",
        "         alpha=0.5, color='grey', label=f'Train Data: R2 max: {r2_max_train:.4f}')\n",
        "plt.title('R2')\n",
        "plt.legend()\n",
        "plt.axvline(0.6, color='red')\n",
        "plt.axvline(r2_max_test, color='yellow')\n",
        "plt.show()"
      ],
      "execution_count": 384,
      "outputs": [
        {
          "output_type": "display_data",
          "data": {
            "image/png": "[encoded data removed]",
            "text/plain": [
              "<Figure size 432x288 with 1 Axes>"
            ]
          },
          "metadata": {
            "tags": [],
            "needs_background": "light"
          }
        }
      ]
    },
    {
      "cell_type": "code",
      "metadata": {
        "id": "dQS7FEZoknYt",
        "colab": {
          "base_uri": "https://localhost:8080/",
          "height": 294
        },
        "outputId": "c87a59d6-fa7f-4c35-cad0-cfdce0c922b4"
      },
      "source": [
        "mse_min_test = models_score_test['mse'].min()\n",
        "mse_min_train = models_score_train['mse'].min()\n",
        "plt.barh(models_score_test['name'], models_score_test['mse'],\n",
        "         alpha=0.5, color='red', label=f'Test  Data MSE min: {mse_min_test:.0e}')\n",
        "plt.barh(models_score_train['name'], models_score_train['mse'],\n",
        "         alpha=0.5, color='grey', label=f'Train Data MSE min: {mse_min_train:.0e}')\n",
        "plt.title('Среднеквадратичная ошибка')\n",
        "plt.legend(loc=2)\n",
        "plt.axvline(mse_min_test, color='yellow')\n",
        "plt.show()"
      ],
      "execution_count": 385,
      "outputs": [
        {
          "output_type": "display_data",
          "data": {
            "image/png": "[encoded data removed]",
            "text/plain": [
              "<Figure size 432x288 with 1 Axes>"
            ]
          },
          "metadata": {
            "tags": [],
            "needs_background": "light"
          }
        }
      ]
    },
    {
      "cell_type": "code",
      "metadata": {
        "id": "74IMsJS0knYt"
      },
      "source": [
        "best_model = models_dict['LGBM регрессия']"
      ],
      "execution_count": 386,
      "outputs": []
    },
    {
      "cell_type": "code",
      "metadata": {
        "id": "3J0fTaT_knYt",
        "colab": {
          "base_uri": "https://localhost:8080/",
          "height": 607
        },
        "outputId": "aa3dbcca-ee12-4f62-875f-1db9330c3596"
      },
      "source": [
        "pd.DataFrame({'name': list(X_train.columns),\n",
        "              'importances': list(best_model.feature_importances_)})"
      ],
      "execution_count": 387,
      "outputs": [
        {
          "output_type": "execute_result",
          "data": {
            "text/html": [
              "<div>\n",
              "<style scoped>\n",
              "    .dataframe tbody tr th:only-of-type {\n",
              "        vertical-align: middle;\n",
              "    }\n",
              "\n",
              "    .dataframe tbody tr th {\n",
              "        vertical-align: top;\n",
              "    }\n",
              "\n",
              "    .dataframe thead th {\n",
              "        text-align: right;\n",
              "    }\n",
              "</style>\n",
              "<table border=\"1\" class=\"dataframe\">\n",
              "  <thead>\n",
              "    <tr style=\"text-align: right;\">\n",
              "      <th></th>\n",
              "      <th>name</th>\n",
              "      <th>importances</th>\n",
              "    </tr>\n",
              "  </thead>\n",
              "  <tbody>\n",
              "    <tr>\n",
              "      <th>0</th>\n",
              "      <td>Rooms</td>\n",
              "      <td>814</td>\n",
              "    </tr>\n",
              "    <tr>\n",
              "      <th>1</th>\n",
              "      <td>Square</td>\n",
              "      <td>1524</td>\n",
              "    </tr>\n",
              "    <tr>\n",
              "      <th>2</th>\n",
              "      <td>DistrictId</td>\n",
              "      <td>665</td>\n",
              "    </tr>\n",
              "    <tr>\n",
              "      <th>3</th>\n",
              "      <td>Social_1</td>\n",
              "      <td>542</td>\n",
              "    </tr>\n",
              "    <tr>\n",
              "      <th>4</th>\n",
              "      <td>Helthcare_2</td>\n",
              "      <td>162</td>\n",
              "    </tr>\n",
              "    <tr>\n",
              "      <th>5</th>\n",
              "      <td>Social_2</td>\n",
              "      <td>518</td>\n",
              "    </tr>\n",
              "    <tr>\n",
              "      <th>6</th>\n",
              "      <td>Shops_1</td>\n",
              "      <td>86</td>\n",
              "    </tr>\n",
              "    <tr>\n",
              "      <th>7</th>\n",
              "      <td>Floor</td>\n",
              "      <td>350</td>\n",
              "    </tr>\n",
              "    <tr>\n",
              "      <th>8</th>\n",
              "      <td>HouseFloor</td>\n",
              "      <td>872</td>\n",
              "    </tr>\n",
              "    <tr>\n",
              "      <th>9</th>\n",
              "      <td>LifeSquare</td>\n",
              "      <td>594</td>\n",
              "    </tr>\n",
              "    <tr>\n",
              "      <th>10</th>\n",
              "      <td>Social_3</td>\n",
              "      <td>475</td>\n",
              "    </tr>\n",
              "    <tr>\n",
              "      <th>11</th>\n",
              "      <td>Ecology_1</td>\n",
              "      <td>875</td>\n",
              "    </tr>\n",
              "    <tr>\n",
              "      <th>12</th>\n",
              "      <td>KitchenSquare</td>\n",
              "      <td>648</td>\n",
              "    </tr>\n",
              "    <tr>\n",
              "      <th>13</th>\n",
              "      <td>HouseYear</td>\n",
              "      <td>1117</td>\n",
              "    </tr>\n",
              "    <tr>\n",
              "      <th>14</th>\n",
              "      <td>cluster_year</td>\n",
              "      <td>219</td>\n",
              "    </tr>\n",
              "    <tr>\n",
              "      <th>15</th>\n",
              "      <td>mean_price_dr</td>\n",
              "      <td>1685</td>\n",
              "    </tr>\n",
              "    <tr>\n",
              "      <th>16</th>\n",
              "      <td>mean_price_by_rooms</td>\n",
              "      <td>0</td>\n",
              "    </tr>\n",
              "    <tr>\n",
              "      <th>17</th>\n",
              "      <td>large_district</td>\n",
              "      <td>854</td>\n",
              "    </tr>\n",
              "  </tbody>\n",
              "</table>\n",
              "</div>"
            ],
            "text/plain": [
              "                   name  importances\n",
              "0                 Rooms          814\n",
              "1                Square         1524\n",
              "2            DistrictId          665\n",
              "3              Social_1          542\n",
              "4           Helthcare_2          162\n",
              "5              Social_2          518\n",
              "6               Shops_1           86\n",
              "7                 Floor          350\n",
              "8            HouseFloor          872\n",
              "9            LifeSquare          594\n",
              "10             Social_3          475\n",
              "11            Ecology_1          875\n",
              "12        KitchenSquare          648\n",
              "13            HouseYear         1117\n",
              "14         cluster_year          219\n",
              "15        mean_price_dr         1685\n",
              "16  mean_price_by_rooms            0\n",
              "17       large_district          854"
            ]
          },
          "metadata": {
            "tags": []
          },
          "execution_count": 387
        }
      ]
    },
    {
      "cell_type": "code",
      "metadata": {
        "id": "LMfwhsBQknYt",
        "colab": {
          "base_uri": "https://localhost:8080/",
          "height": 295
        },
        "outputId": "494073f8-ca19-4c6b-efbd-bc7887588f64"
      },
      "source": [
        "model_test(best_model, 'лучшая модель', X_test, y_test)"
      ],
      "execution_count": 395,
      "outputs": [
        {
          "output_type": "display_data",
          "data": {
            "image/png": "[encoded data removed]",
            "text/plain": [
              "<Figure size 432x288 with 1 Axes>"
            ]
          },
          "metadata": {
            "tags": [],
            "needs_background": "light"
          }
        }
      ]
    },
    {
      "cell_type": "markdown",
      "metadata": {
        "id": "k9GR0zAqknYt"
      },
      "source": [
        "## Вывод файлов"
      ]
    },
    {
      "cell_type": "code",
      "metadata": {
        "id": "JB3cSK9hknYu"
      },
      "source": [
        "test = data_prepare(test)"
      ],
      "execution_count": 389,
      "outputs": []
    },
    {
      "cell_type": "code",
      "metadata": {
        "id": "-H04R7TKknYu"
      },
      "source": [
        "test_features = list(X_train.columns)"
      ],
      "execution_count": 390,
      "outputs": []
    },
    {
      "cell_type": "code",
      "metadata": {
        "id": "Ni5zNavIknYu",
        "colab": {
          "base_uri": "https://localhost:8080/"
        },
        "outputId": "bc40bb37-5da0-416d-fdce-dee3ae106a34"
      },
      "source": [
        "test[test_features].info()"
      ],
      "execution_count": 391,
      "outputs": [
        {
          "output_type": "stream",
          "text": [
            "<class 'pandas.core.frame.DataFrame'>\n",
            "Int64Index: 5000 entries, 0 to 4999\n",
            "Data columns (total 18 columns):\n",
            " #   Column               Non-Null Count  Dtype  \n",
            "---  ------               --------------  -----  \n",
            " 0   Rooms                5000 non-null   uint8  \n",
            " 1   Square               5000 non-null   float32\n",
            " 2   DistrictId           5000 non-null   uint8  \n",
            " 3   Social_1             5000 non-null   uint8  \n",
            " 4   Helthcare_2          5000 non-null   uint8  \n",
            " 5   Social_2             5000 non-null   uint16 \n",
            " 6   Shops_1              5000 non-null   uint8  \n",
            " 7   Floor                5000 non-null   uint8  \n",
            " 8   HouseFloor           5000 non-null   uint8  \n",
            " 9   LifeSquare           5000 non-null   float32\n",
            " 10  Social_3             5000 non-null   uint8  \n",
            " 11  Ecology_1            5000 non-null   float32\n",
            " 12  KitchenSquare        5000 non-null   float32\n",
            " 13  HouseYear            5000 non-null   uint16 \n",
            " 14  cluster_year         5000 non-null   uint8  \n",
            " 15  mean_price_dr        5000 non-null   float32\n",
            " 16  mean_price_by_rooms  5000 non-null   float32\n",
            " 17  large_district       5000 non-null   uint16 \n",
            "dtypes: float32(6), uint16(3), uint8(9)\n",
            "memory usage: 229.5 KB\n"
          ],
          "name": "stdout"
        }
      ]
    },
    {
      "cell_type": "code",
      "metadata": {
        "id": "u1udFlFkknYu"
      },
      "source": [
        "test['Price'] = best_model.predict(test[test_features])"
      ],
      "execution_count": 392,
      "outputs": []
    },
    {
      "cell_type": "code",
      "metadata": {
        "id": "McKirX4wknYu",
        "colab": {
          "base_uri": "https://localhost:8080/",
          "height": 644
        },
        "outputId": "9aacdbd6-0ac5-4a67-c949-9a97c7699cd3"
      },
      "source": [
        "price_log = np.log1p(test['Price'])\n",
        "sns.distplot(price_log, fit=norm)\n",
        "\n",
        "mu, sigma = norm.fit(test['Price'])\n",
        "\n",
        "print(f'mu = {mu:.2f} and sigma = {sigma:.2f}')\n",
        "\n",
        "plt.legend(\n",
        "    [f'Normal dist. ($\\mu=$ {mu:.2f} and $\\sigma=$ {sigma:.2f} )'], loc='best')\n",
        "plt.ylabel('Frequency')\n",
        "plt.title('Распределение цен')\n",
        "\n",
        "# QQ-plot\n",
        "fig = plt.figure()\n",
        "res = stats.probplot(price_log, plot=plt)\n",
        "plt.show()"
      ],
      "execution_count": 393,
      "outputs": [
        {
          "output_type": "stream",
          "text": [
            "/usr/local/lib/python3.7/dist-packages/seaborn/distributions.py:2557: FutureWarning: `distplot` is a deprecated function and will be removed in a future version. Please adapt your code to use either `displot` (a figure-level function with similar flexibility) or `histplot` (an axes-level function for histograms).\n",
            "  warnings.warn(msg, FutureWarning)\n"
          ],
          "name": "stderr"
        },
        {
          "output_type": "stream",
          "text": [
            "mu = 217689.02 and sigma = 77842.65\n"
          ],
          "name": "stdout"
        },
        {
          "output_type": "display_data",
          "data": {
            "image/png": "[encoded data removed]",
            "text/plain": [
              "<Figure size 432x288 with 1 Axes>"
            ]
          },
          "metadata": {
            "tags": [],
            "needs_background": "light"
          }
        },
        {
          "output_type": "display_data",
          "data": {
            "image/png": "[encoded data removed]",
            "text/plain": [
              "<Figure size 432x288 with 1 Axes>"
            ]
          },
          "metadata": {
            "tags": [],
            "needs_background": "light"
          }
        }
      ]
    },
    {
      "cell_type": "code",
      "metadata": {
        "id": "kDXyhxzYknYu"
      },
      "source": [
        "test[['Id', 'Price']].to_csv('KmetyanR_predictions.csv', index=None)"
      ],
      "execution_count": 394,
      "outputs": []
    }
  ]
}